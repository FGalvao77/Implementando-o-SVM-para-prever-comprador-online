{
  "nbformat": 4,
  "nbformat_minor": 0,
  "metadata": {
    "kernelspec": {
      "display_name": "Python 3",
      "language": "python",
      "name": "python3"
    },
    "language_info": {
      "codemirror_mode": {
        "name": "ipython",
        "version": 3
      },
      "file_extension": ".py",
      "mimetype": "text/x-python",
      "name": "python",
      "nbconvert_exporter": "python",
      "pygments_lexer": "ipython3",
      "version": "3.7.3"
    },
    "colab": {
      "name": "Implementando o SVM para prever comprador online.ipynb",
      "provenance": [],
      "collapsed_sections": [
        "f32xtHXCDUo5"
      ],
      "include_colab_link": true
    }
  },
  "cells": [
    {
      "cell_type": "markdown",
      "metadata": {
        "id": "view-in-github",
        "colab_type": "text"
      },
      "source": [
        "<a href=\"https://colab.research.google.com/github/FGalvao77/Implementando-o-SVM-para-prever-comprador-online/blob/main/Implementando_o_SVM_para_prever_comprador_online.ipynb\" target=\"_parent\"><img src=\"https://colab.research.google.com/assets/colab-badge.svg\" alt=\"Open In Colab\"/></a>"
      ]
    },
    {
      "cell_type": "markdown",
      "metadata": {
        "id": "2FybZnQIDUjH"
      },
      "source": [
        "# <font color='blue'>**SVM para classificação**</font>\n",
        "- primeiro vamos conhecer como funciona o `SVM`"
      ]
    },
    {
      "cell_type": "code",
      "metadata": {
        "colab": {
          "base_uri": "https://localhost:8080/"
        },
        "id": "Gj_H03zbDUjJ",
        "outputId": "1e739440-2716-4a87-8f49-3e5d54ef5e6e"
      },
      "source": [
        "# visualizando a versão do Python utilizado neste notebook\n",
        "from platform import python_version\n",
        "print(f'Versão Python: {python_version()}')"
      ],
      "execution_count": 1,
      "outputs": [
        {
          "output_type": "stream",
          "text": [
            "Versão Python: 3.7.11\n"
          ],
          "name": "stdout"
        }
      ]
    },
    {
      "cell_type": "code",
      "metadata": {
        "id": "hXgouLwyDUnw"
      },
      "source": [
        "# instalando a biblioteca \"watermark\"\n",
        "!pip install -q -U watermark \n",
        "# esse pacote é usado para gravar as versões dos pacotes usados neste notebook"
      ],
      "execution_count": 2,
      "outputs": []
    },
    {
      "cell_type": "code",
      "metadata": {
        "id": "4Fa8utR9DUnz"
      },
      "source": [
        "# da biblioteca do sklearn do módulo \"datasets\" importando o conjunto de dados \"load_breast_cancer\"\n",
        "from sklearn.datasets import load_breast_cancer"
      ],
      "execution_count": 3,
      "outputs": []
    },
    {
      "cell_type": "code",
      "metadata": {
        "id": "d3EOcQeqDUn1"
      },
      "source": [
        "# instanciando o conjunto de dados na variável \"data\"\n",
        "data = load_breast_cancer()"
      ],
      "execution_count": 4,
      "outputs": []
    },
    {
      "cell_type": "code",
      "metadata": {
        "colab": {
          "base_uri": "https://localhost:8080/"
        },
        "id": "x8HdSFOWDUn3",
        "outputId": "22eac407-d6d6-4e8d-bb2f-7fae126372d6"
      },
      "source": [
        "# visualizando informações gerais sobre o nosso conjunto de dados\n",
        "print(data.DESCR)"
      ],
      "execution_count": 5,
      "outputs": [
        {
          "output_type": "stream",
          "text": [
            ".. _breast_cancer_dataset:\n",
            "\n",
            "Breast cancer wisconsin (diagnostic) dataset\n",
            "--------------------------------------------\n",
            "\n",
            "**Data Set Characteristics:**\n",
            "\n",
            "    :Number of Instances: 569\n",
            "\n",
            "    :Number of Attributes: 30 numeric, predictive attributes and the class\n",
            "\n",
            "    :Attribute Information:\n",
            "        - radius (mean of distances from center to points on the perimeter)\n",
            "        - texture (standard deviation of gray-scale values)\n",
            "        - perimeter\n",
            "        - area\n",
            "        - smoothness (local variation in radius lengths)\n",
            "        - compactness (perimeter^2 / area - 1.0)\n",
            "        - concavity (severity of concave portions of the contour)\n",
            "        - concave points (number of concave portions of the contour)\n",
            "        - symmetry \n",
            "        - fractal dimension (\"coastline approximation\" - 1)\n",
            "\n",
            "        The mean, standard error, and \"worst\" or largest (mean of the three\n",
            "        largest values) of these features were computed for each image,\n",
            "        resulting in 30 features.  For instance, field 3 is Mean Radius, field\n",
            "        13 is Radius SE, field 23 is Worst Radius.\n",
            "\n",
            "        - class:\n",
            "                - WDBC-Malignant\n",
            "                - WDBC-Benign\n",
            "\n",
            "    :Summary Statistics:\n",
            "\n",
            "    ===================================== ====== ======\n",
            "                                           Min    Max\n",
            "    ===================================== ====== ======\n",
            "    radius (mean):                        6.981  28.11\n",
            "    texture (mean):                       9.71   39.28\n",
            "    perimeter (mean):                     43.79  188.5\n",
            "    area (mean):                          143.5  2501.0\n",
            "    smoothness (mean):                    0.053  0.163\n",
            "    compactness (mean):                   0.019  0.345\n",
            "    concavity (mean):                     0.0    0.427\n",
            "    concave points (mean):                0.0    0.201\n",
            "    symmetry (mean):                      0.106  0.304\n",
            "    fractal dimension (mean):             0.05   0.097\n",
            "    radius (standard error):              0.112  2.873\n",
            "    texture (standard error):             0.36   4.885\n",
            "    perimeter (standard error):           0.757  21.98\n",
            "    area (standard error):                6.802  542.2\n",
            "    smoothness (standard error):          0.002  0.031\n",
            "    compactness (standard error):         0.002  0.135\n",
            "    concavity (standard error):           0.0    0.396\n",
            "    concave points (standard error):      0.0    0.053\n",
            "    symmetry (standard error):            0.008  0.079\n",
            "    fractal dimension (standard error):   0.001  0.03\n",
            "    radius (worst):                       7.93   36.04\n",
            "    texture (worst):                      12.02  49.54\n",
            "    perimeter (worst):                    50.41  251.2\n",
            "    area (worst):                         185.2  4254.0\n",
            "    smoothness (worst):                   0.071  0.223\n",
            "    compactness (worst):                  0.027  1.058\n",
            "    concavity (worst):                    0.0    1.252\n",
            "    concave points (worst):               0.0    0.291\n",
            "    symmetry (worst):                     0.156  0.664\n",
            "    fractal dimension (worst):            0.055  0.208\n",
            "    ===================================== ====== ======\n",
            "\n",
            "    :Missing Attribute Values: None\n",
            "\n",
            "    :Class Distribution: 212 - Malignant, 357 - Benign\n",
            "\n",
            "    :Creator:  Dr. William H. Wolberg, W. Nick Street, Olvi L. Mangasarian\n",
            "\n",
            "    :Donor: Nick Street\n",
            "\n",
            "    :Date: November, 1995\n",
            "\n",
            "This is a copy of UCI ML Breast Cancer Wisconsin (Diagnostic) datasets.\n",
            "https://goo.gl/U2Uwz2\n",
            "\n",
            "Features are computed from a digitized image of a fine needle\n",
            "aspirate (FNA) of a breast mass.  They describe\n",
            "characteristics of the cell nuclei present in the image.\n",
            "\n",
            "Separating plane described above was obtained using\n",
            "Multisurface Method-Tree (MSM-T) [K. P. Bennett, \"Decision Tree\n",
            "Construction Via Linear Programming.\" Proceedings of the 4th\n",
            "Midwest Artificial Intelligence and Cognitive Science Society,\n",
            "pp. 97-101, 1992], a classification method which uses linear\n",
            "programming to construct a decision tree.  Relevant features\n",
            "were selected using an exhaustive search in the space of 1-4\n",
            "features and 1-3 separating planes.\n",
            "\n",
            "The actual linear program used to obtain the separating plane\n",
            "in the 3-dimensional space is that described in:\n",
            "[K. P. Bennett and O. L. Mangasarian: \"Robust Linear\n",
            "Programming Discrimination of Two Linearly Inseparable Sets\",\n",
            "Optimization Methods and Software 1, 1992, 23-34].\n",
            "\n",
            "This database is also available through the UW CS ftp server:\n",
            "\n",
            "ftp ftp.cs.wisc.edu\n",
            "cd math-prog/cpo-dataset/machine-learn/WDBC/\n",
            "\n",
            ".. topic:: References\n",
            "\n",
            "   - W.N. Street, W.H. Wolberg and O.L. Mangasarian. Nuclear feature extraction \n",
            "     for breast tumor diagnosis. IS&T/SPIE 1993 International Symposium on \n",
            "     Electronic Imaging: Science and Technology, volume 1905, pages 861-870,\n",
            "     San Jose, CA, 1993.\n",
            "   - O.L. Mangasarian, W.N. Street and W.H. Wolberg. Breast cancer diagnosis and \n",
            "     prognosis via linear programming. Operations Research, 43(4), pages 570-577, \n",
            "     July-August 1995.\n",
            "   - W.H. Wolberg, W.N. Street, and O.L. Mangasarian. Machine learning techniques\n",
            "     to diagnose breast cancer from fine-needle aspirates. Cancer Letters 77 (1994) \n",
            "     163-171.\n"
          ],
          "name": "stdout"
        }
      ]
    },
    {
      "cell_type": "code",
      "metadata": {
        "id": "k42njO9PDUn8"
      },
      "source": [
        "# separando os dados e instanciando nas variáveis \"X\" (independentes) e a \"y\" (dependente - target)\n",
        "X = data.data\n",
        "y = data.target"
      ],
      "execution_count": 6,
      "outputs": []
    },
    {
      "cell_type": "markdown",
      "metadata": {
        "id": "nZ53ekJYDUn-"
      },
      "source": [
        "**Podemos instanciar o conjunto de dados já separando as variáveis independentes e dependente, como segue abaixo:**\n",
        "```python\n",
        "# carregando os dados e instanciando nas variáveis \"X\" (independentes) e a \"y\" (dependente - target)\n",
        "X, y = load_digits(return_X_y=True)\n",
        "```"
      ]
    },
    {
      "cell_type": "code",
      "metadata": {
        "colab": {
          "base_uri": "https://localhost:8080/"
        },
        "id": "Hb9NKexFDUoC",
        "outputId": "9b182505-4662-46d1-e009-2ecaccd538e5"
      },
      "source": [
        "# visualizando a quantidade de dados da variável \"X\"\n",
        "X.shape # linhas e colunas"
      ],
      "execution_count": 7,
      "outputs": [
        {
          "output_type": "execute_result",
          "data": {
            "text/plain": [
              "(569, 30)"
            ]
          },
          "metadata": {
            "tags": []
          },
          "execution_count": 7
        }
      ]
    },
    {
      "cell_type": "code",
      "metadata": {
        "colab": {
          "base_uri": "https://localhost:8080/"
        },
        "id": "a8qMWCZgDUoF",
        "outputId": "18134a3e-4a8c-4f2a-c762-be4032831f9c"
      },
      "source": [
        "# visualizando a quantidade de dados da variável \"y\"\n",
        "y.shape # linhas"
      ],
      "execution_count": 8,
      "outputs": [
        {
          "output_type": "execute_result",
          "data": {
            "text/plain": [
              "(569,)"
            ]
          },
          "metadata": {
            "tags": []
          },
          "execution_count": 8
        }
      ]
    },
    {
      "cell_type": "code",
      "metadata": {
        "id": "Z-7y6ZXUDUoJ"
      },
      "source": [
        "# da biblioteca do sklearn do módulo \"model_selection\" importando as funções \"train_test_split\" e \"GridSearchCV\"\n",
        "from sklearn.model_selection import train_test_split, GridSearchCV"
      ],
      "execution_count": 9,
      "outputs": []
    },
    {
      "cell_type": "code",
      "metadata": {
        "id": "h1yZyfKsDUoK"
      },
      "source": [
        "# com a função \"train_test_split\" iremos dividir as variáveis \"X\" e \"y\" em dados de treino e teste\n",
        "X_train, X_test, y_train, y_test = train_test_split(X, y, test_size = 0.3)\n",
        "                                                          # separando 30% dos dados para teste"
      ],
      "execution_count": 10,
      "outputs": []
    },
    {
      "cell_type": "code",
      "metadata": {
        "colab": {
          "base_uri": "https://localhost:8080/"
        },
        "id": "btR6KAgnDUoL",
        "outputId": "c603b6cd-08ba-4db5-989f-be05695fa3e0"
      },
      "source": [
        "# visualizando a quantidade de dados de treino e teste\n",
        "print('Quantidade de dados:')\n",
        "print(f'''X_train: {X_train.shape} \n",
        "X_test: {X_test.shape} \n",
        "y_train: {y_train.shape}\n",
        "y_test: {y_test.shape}''')"
      ],
      "execution_count": 11,
      "outputs": [
        {
          "output_type": "stream",
          "text": [
            "Quantidade de dados:\n",
            "X_train: (398, 30) \n",
            "X_test: (171, 30) \n",
            "y_train: (398,)\n",
            "y_test: (171,)\n"
          ],
          "name": "stdout"
        }
      ]
    },
    {
      "cell_type": "markdown",
      "metadata": {
        "id": "Zp1JnV5VDUoM"
      },
      "source": [
        "### <font color='green'>**Aplicando o SVM**<font>"
      ]
    },
    {
      "cell_type": "code",
      "metadata": {
        "id": "HdTgrWUhDUoO"
      },
      "source": [
        "# importando as bibilotecas, módulos e as funções\n",
        "\n",
        "import time # para trabalhar com tempo\n",
        "import pandas as pd # para modelagem de dados\n",
        "import numpy as np # para modelagem matemática\n",
        "\n",
        "# da biblioteca do sklearn do módulo \"svm\" importando a função \"SVC\"\n",
        "from sklearn.svm import SVC # \"support vector classifier\" - modelo de classificação\n",
        "\n",
        "# da biblioteca do sklearn do módulo \"preprocessing\" importando a função \"StandardScaler\"\n",
        "from sklearn.preprocessing import StandardScaler\n",
        "\n",
        "# da biblioteca do sklearn do módulo \"metrics\" importando a funções de avaliação\n",
        "from sklearn.metrics import precision_score, recall_score, f1_score, accuracy_score, roc_auc_score\n",
        "\n",
        "# para ignorar alertas de erro\n",
        "import warnings\n",
        "warnings.filterwarnings('ignore')"
      ],
      "execution_count": 12,
      "outputs": []
    },
    {
      "cell_type": "code",
      "metadata": {
        "colab": {
          "base_uri": "https://localhost:8080/"
        },
        "id": "qBAZHrVqDUoP",
        "outputId": "a1de8658-e2c1-45b3-e0e5-83abd5a156e5"
      },
      "source": [
        "# versões das bibliotecas usadas no notebook\n",
        "%reload_ext watermark\n",
        "%watermark -a 'Fernando Galvão - Machine Learning com SVM #LeadDELL' --iversions"
      ],
      "execution_count": 13,
      "outputs": [
        {
          "output_type": "stream",
          "text": [
            "Author: Fernando Galvão - Machine Learning com SVM #LeadDELL\n",
            "\n",
            "IPython: 5.5.0\n",
            "numpy  : 1.19.5\n",
            "pandas : 1.1.5\n",
            "\n"
          ],
          "name": "stdout"
        }
      ]
    },
    {
      "cell_type": "markdown",
      "metadata": {
        "id": "W-PvwVqRDUoQ"
      },
      "source": [
        "### <font color='blue'>**Modelo com kernel \"Linear\"**</font>"
      ]
    },
    {
      "cell_type": "code",
      "metadata": {
        "id": "wge8xrGMDUoR"
      },
      "source": [
        "# instanciando o modelo\n",
        "mod_1 = SVC(kernel = 'linear')"
      ],
      "execution_count": 14,
      "outputs": []
    },
    {
      "cell_type": "code",
      "metadata": {
        "colab": {
          "base_uri": "https://localhost:8080/"
        },
        "id": "QVAs4iWeDUoS",
        "outputId": "8636cb0f-11d5-40f8-d2cf-4321b1874a00"
      },
      "source": [
        "# treinando o modelo\n",
        "start = time.time()\n",
        "mod_1.fit(X_train, y_train)\n",
        "end = time.time()\n",
        "print('Tempo de treinamento do mod_1: ', end - start)"
      ],
      "execution_count": 15,
      "outputs": [
        {
          "output_type": "stream",
          "text": [
            "Tempo de treinamento do mod_1:  0.6685736179351807\n"
          ],
          "name": "stdout"
        }
      ]
    },
    {
      "cell_type": "code",
      "metadata": {
        "id": "f8BspLIKDUoT"
      },
      "source": [
        "# realizando as previsões\n",
        "pred_1 = mod_1.predict(X_test)"
      ],
      "execution_count": 16,
      "outputs": []
    },
    {
      "cell_type": "code",
      "metadata": {
        "colab": {
          "base_uri": "https://localhost:8080/"
        },
        "id": "InE7Qe9EDUoU",
        "outputId": "c0a005f5-433f-4a97-f7d6-eeacc5cb049c"
      },
      "source": [
        "# dicionário de métricas e metadados\n",
        "SVM_dict_mod_1 = {\n",
        "    'Modelo': 'SVM',\n",
        "    'Versão': '1',\n",
        "    'Kernel': 'Linear',\n",
        "    'Precision': precision_score(pred_1, y_test),\n",
        "    'Recall': recall_score(pred_1, y_test),\n",
        "    'F1 Score': f1_score(pred_1, y_test),\n",
        "    'Acurácia': accuracy_score(pred_1, y_test),\n",
        "    'AUC': roc_auc_score(pred_1, y_test)\n",
        "}\n",
        "\n",
        "# visualizando as métricas\n",
        "print('Métricas de testes:')\n",
        "SVM_dict_mod_1"
      ],
      "execution_count": 17,
      "outputs": [
        {
          "output_type": "stream",
          "text": [
            "Métricas de testes:\n"
          ],
          "name": "stdout"
        },
        {
          "output_type": "execute_result",
          "data": {
            "text/plain": [
              "{'AUC': 0.9681641887524242,\n",
              " 'Acurácia': 0.9707602339181286,\n",
              " 'F1 Score': 0.9789029535864979,\n",
              " 'Kernel': 'Linear',\n",
              " 'Modelo': 'SVM',\n",
              " 'Precision': 0.9830508474576272,\n",
              " 'Recall': 0.9747899159663865,\n",
              " 'Versão': '1'}"
            ]
          },
          "metadata": {
            "tags": []
          },
          "execution_count": 17
        }
      ]
    },
    {
      "cell_type": "markdown",
      "metadata": {
        "id": "gz_58qaNDUoV"
      },
      "source": [
        "### <font color='blue'>**Modelo com kernel \"Linear\" e dados padronizados (Scaled)**</font>"
      ]
    },
    {
      "cell_type": "code",
      "metadata": {
        "id": "G8TTJwc-DUoW"
      },
      "source": [
        "# realizando a padronização dos dados\n",
        "\n",
        "# instanciando o modelo para escalar os dados\n",
        "sc = StandardScaler()\n",
        "\n",
        "# realizando a padronização dos dados de treino e teste\n",
        "X_train_scaled = sc.fit_transform(X_train)\n",
        "X_test_scaled = sc.transform(X_test)"
      ],
      "execution_count": 18,
      "outputs": []
    },
    {
      "cell_type": "markdown",
      "metadata": {
        "id": "IkRSTCp_DUoX"
      },
      "source": [
        "> ### <font color='red'>**Obs:**</font> somente aplique a padronização depois de ter feito a divisão dos dados em treino e teste."
      ]
    },
    {
      "cell_type": "code",
      "metadata": {
        "colab": {
          "base_uri": "https://localhost:8080/"
        },
        "id": "tS5KkETXDUoY",
        "outputId": "13c8bc0b-41d3-4780-952a-9a3625f6fa8b"
      },
      "source": [
        "# visualizando a transformação dos dados de treino\n",
        "X_train_scaled"
      ],
      "execution_count": 19,
      "outputs": [
        {
          "output_type": "execute_result",
          "data": {
            "text/plain": [
              "array([[-1.2580597 , -0.84851801, -1.27316457, ..., -0.98790145,\n",
              "        -0.12981389, -0.17123744],\n",
              "       [-0.75770885, -0.18497931, -0.78513519, ..., -0.77682683,\n",
              "        -0.28916463, -1.05722783],\n",
              "       [-0.38771106, -0.42127547, -0.38037737, ..., -0.50982124,\n",
              "        -1.47561769, -0.76014811],\n",
              "       ...,\n",
              "       [-1.21992147,  0.04176952, -1.1716644 , ..., -0.28838339,\n",
              "        -0.47533679, -0.00590156],\n",
              "       [-0.615402  ,  2.14934027, -0.64054923, ..., -0.68965377,\n",
              "        -0.75143956, -0.1612648 ],\n",
              "       [-1.2580597 , -0.02506171, -1.25535025, ..., -1.07476971,\n",
              "         0.4302803 , -0.25836683]])"
            ]
          },
          "metadata": {
            "tags": []
          },
          "execution_count": 19
        }
      ]
    },
    {
      "cell_type": "code",
      "metadata": {
        "colab": {
          "base_uri": "https://localhost:8080/"
        },
        "id": "_dAbaP01DUoY",
        "outputId": "43e477b3-cfee-4898-f5be-e18e9a6cdda1"
      },
      "source": [
        "# visualizando a transformação dos dados de teste\n",
        "X_test_scaled"
      ],
      "execution_count": 20,
      "outputs": [
        {
          "output_type": "execute_result",
          "data": {
            "text/plain": [
              "array([[-0.03763623,  0.48333304, -0.10114834, ..., -0.56057059,\n",
              "        -1.10011792, -0.46411815],\n",
              "       [ 0.16443949,  1.47864109,  0.10226629, ..., -0.10535045,\n",
              "        -0.31756378, -0.81106107],\n",
              "       [ 0.84751233, -0.67427943,  0.98469632, ...,  2.11207609,\n",
              "         1.80290551,  1.09633767],\n",
              "       ...,\n",
              "       [-0.17994307, -1.97748853, -0.17903418, ..., -0.64530524,\n",
              "        -0.33649654, -0.68771525],\n",
              "       [ 1.43097038, -0.7840736 ,  1.41141132, ...,  0.93402062,\n",
              "        -0.75775048, -1.18109853],\n",
              "       [-0.23401967, -0.80316824, -0.23786285, ...,  0.82886431,\n",
              "         0.95250898,  0.87064107]])"
            ]
          },
          "metadata": {
            "tags": []
          },
          "execution_count": 20
        }
      ]
    },
    {
      "cell_type": "code",
      "metadata": {
        "id": "wrLOZdUNDUoZ"
      },
      "source": [
        "# instanciando o modelo\n",
        "mod_2 = SVC(kernel = 'linear')"
      ],
      "execution_count": 21,
      "outputs": []
    },
    {
      "cell_type": "code",
      "metadata": {
        "colab": {
          "base_uri": "https://localhost:8080/"
        },
        "id": "b_I_E4WLDUoa",
        "outputId": "5ca6d0fc-66b4-4414-fbb5-a9a5f871b8cf"
      },
      "source": [
        "# treinando o modelo\n",
        "start = time.time()\n",
        "mod_2.fit(X_train_scaled, y_train)\n",
        "end = time.time()\n",
        "print('Tempo de treinamento do mod_2: ', end - start)"
      ],
      "execution_count": 22,
      "outputs": [
        {
          "output_type": "stream",
          "text": [
            "Tempo de treinamento do mod_2:  0.0031769275665283203\n"
          ],
          "name": "stdout"
        }
      ]
    },
    {
      "cell_type": "code",
      "metadata": {
        "id": "EQkdHrlZDUob"
      },
      "source": [
        "# realizando as previsões\n",
        "pred_2 = mod_2.predict(X_test_scaled)"
      ],
      "execution_count": 23,
      "outputs": []
    },
    {
      "cell_type": "code",
      "metadata": {
        "colab": {
          "base_uri": "https://localhost:8080/"
        },
        "id": "jggegyiADUoc",
        "outputId": "d0736598-8e5c-44dc-c0c0-cd01733399f9"
      },
      "source": [
        "# dicionário de métricas e metadados\n",
        "SVM_dict_mod_2 = {\n",
        "    'Modelo': 'SVM',\n",
        "    'Versão': '2',\n",
        "    'Kernel': 'Linear com dados padronizados',\n",
        "    'Precision': precision_score(pred_2, y_test),\n",
        "    'Recall': recall_score(pred_2, y_test),\n",
        "    'F1 Score': f1_score(pred_2, y_test),\n",
        "    'Acurácia': accuracy_score(pred_2, y_test),\n",
        "    'AUC': roc_auc_score(pred_2, y_test)\n",
        "}\n",
        "\n",
        "# visualizando as métrica\n",
        "print('Métricas de testes:')\n",
        "SVM_dict_mod_2"
      ],
      "execution_count": 24,
      "outputs": [
        {
          "output_type": "stream",
          "text": [
            "Métricas de testes:\n"
          ],
          "name": "stdout"
        },
        {
          "output_type": "execute_result",
          "data": {
            "text/plain": [
              "{'AUC': 0.9819812540400775,\n",
              " 'Acurácia': 0.9824561403508771,\n",
              " 'F1 Score': 0.9873417721518987,\n",
              " 'Kernel': 'Linear com dados padronizados',\n",
              " 'Modelo': 'SVM',\n",
              " 'Precision': 0.9915254237288136,\n",
              " 'Recall': 0.9831932773109243,\n",
              " 'Versão': '2'}"
            ]
          },
          "metadata": {
            "tags": []
          },
          "execution_count": 24
        }
      ]
    },
    {
      "cell_type": "markdown",
      "metadata": {
        "id": "ooN7SbaJDUod"
      },
      "source": [
        "### <font color='blue'>**Otimização dos hiperparâmetros com Grid Search e kernel \"RBF\"**</font>"
      ]
    },
    {
      "cell_type": "code",
      "metadata": {
        "id": "U3lL1dnlDUoe"
      },
      "source": [
        "# instanciando o modelo\n",
        "mod_3 = SVC(kernel = 'rbf')"
      ],
      "execution_count": 25,
      "outputs": []
    },
    {
      "cell_type": "code",
      "metadata": {
        "id": "yI8Q6Tf-DUoe"
      },
      "source": [
        "# definindo os valores para o grid\n",
        "C_range = np.array([50., 100., 200.])\n",
        "gamma_range = np.array([0.3*0.001, 0.001, 3.0*0.001])"
      ],
      "execution_count": 26,
      "outputs": []
    },
    {
      "cell_type": "code",
      "metadata": {
        "id": "yz51BiyNDUof"
      },
      "source": [
        "# instanciando o grid dos hiperparâmetros\n",
        "svm_param_grid = dict(gamma = gamma_range, C = C_range)"
      ],
      "execution_count": 27,
      "outputs": []
    },
    {
      "cell_type": "code",
      "metadata": {
        "id": "C4TkYawEDUof"
      },
      "source": [
        "# instanciando o modelo\n",
        "start = time.time()\n",
        "mod_3_grid_search_rbf = GridSearchCV(mod_3, \n",
        "                                    svm_param_grid,\n",
        "                                    cv = 3)"
      ],
      "execution_count": 28,
      "outputs": []
    },
    {
      "cell_type": "code",
      "metadata": {
        "colab": {
          "base_uri": "https://localhost:8080/"
        },
        "id": "AB0WxJyHDUof",
        "outputId": "8e147e58-0997-4370-c931-4398cecd8c28"
      },
      "source": [
        "# treinando o modelo\n",
        "mod_3_grid_search_rbf.fit(X_train_scaled, y_train)\n",
        "end = time.time()\n",
        "print('Tempo de treinamento do modelo com Grid Search: ', end - start)"
      ],
      "execution_count": 29,
      "outputs": [
        {
          "output_type": "stream",
          "text": [
            "Tempo de treinamento do modelo com Grid Search:  8.759715557098389\n"
          ],
          "name": "stdout"
        }
      ]
    },
    {
      "cell_type": "code",
      "metadata": {
        "colab": {
          "base_uri": "https://localhost:8080/"
        },
        "id": "EzxMMOgVDUog",
        "outputId": "3b3f11d7-8101-49b8-e3d1-08d50c29cd20"
      },
      "source": [
        "# acurácia do modelo em treinamento e o melhor hiperparâmetro\n",
        "print(f'Acurácia em treinamento: {mod_3_grid_search_rbf.best_score_ :.2%}\\n')\n",
        "print(f'Hiperparâmetros ideais: {mod_3_grid_search_rbf.best_params_}')"
      ],
      "execution_count": 30,
      "outputs": [
        {
          "output_type": "stream",
          "text": [
            "Acurácia em treinamento: 98.24%\n",
            "\n",
            "Hiperparâmetros ideais: {'C': 100.0, 'gamma': 0.001}\n"
          ],
          "name": "stdout"
        }
      ]
    },
    {
      "cell_type": "code",
      "metadata": {
        "id": "1vrBvFQWDUoh"
      },
      "source": [
        "# avaliando as previsões\n",
        "pred_3 = mod_3_grid_search_rbf.predict(X_test_scaled)"
      ],
      "execution_count": 31,
      "outputs": []
    },
    {
      "cell_type": "code",
      "metadata": {
        "colab": {
          "base_uri": "https://localhost:8080/"
        },
        "id": "X1qmgIj0DUoh",
        "outputId": "b1696fa3-6f3d-4f99-c96c-d6979d80d7db"
      },
      "source": [
        "# dicionário de métricas e metadados\n",
        "SVM_dict_mod_3 = {\n",
        "    'Modelo': 'SVM',\n",
        "    'Versão': '3',\n",
        "    'Kernel': 'RBF com dados padronizados e Grid Search',\n",
        "    'Precision': precision_score(pred_3, y_test),\n",
        "    'Recall': recall_score(pred_3, y_test),\n",
        "    'F1 Score': f1_score(pred_3, y_test),\n",
        "    'Acurácia': accuracy_score(pred_3, y_test),\n",
        "    'AUC': roc_auc_score(pred_3, y_test)\n",
        "}\n",
        "\n",
        "print('Métricas de testes:\\n')\n",
        "SVM_dict_mod_3"
      ],
      "execution_count": 32,
      "outputs": [
        {
          "output_type": "stream",
          "text": [
            "Métricas de testes:\n",
            "\n"
          ],
          "name": "stdout"
        },
        {
          "output_type": "execute_result",
          "data": {
            "text/plain": [
              "{'AUC': 0.9636752136752137,\n",
              " 'Acurácia': 0.9707602339181286,\n",
              " 'F1 Score': 0.978723404255319,\n",
              " 'Kernel': 'RBF com dados padronizados e Grid Search',\n",
              " 'Modelo': 'SVM',\n",
              " 'Precision': 0.9745762711864406,\n",
              " 'Recall': 0.9829059829059829,\n",
              " 'Versão': '3'}"
            ]
          },
          "metadata": {
            "tags": []
          },
          "execution_count": 32
        }
      ]
    },
    {
      "cell_type": "markdown",
      "metadata": {
        "id": "m2GTsKXCDUoo"
      },
      "source": [
        "### <font color='blue'>**Otimização dos hiperparâmetros com Grid Search e kernel \"Polinomial\"**</font>"
      ]
    },
    {
      "cell_type": "code",
      "metadata": {
        "id": "k3cOfGN1DUoo"
      },
      "source": [
        "# instanciando o modelo\n",
        "mod_4 = SVC(kernel = 'poly')"
      ],
      "execution_count": 33,
      "outputs": []
    },
    {
      "cell_type": "code",
      "metadata": {
        "id": "D3bjV8NQDUop"
      },
      "source": [
        "# definindo os valores para o grid\n",
        "r_range = np.array([0.5, 1])\n",
        "gamma_range = np.array([0.001, 0.01])\n",
        "d_range = np.array([2, 3, 4])"
      ],
      "execution_count": 34,
      "outputs": []
    },
    {
      "cell_type": "code",
      "metadata": {
        "id": "TukOvBj9DUop"
      },
      "source": [
        "# instanciando o grid dos hiperparâmetros\n",
        "svm_param_grid_poly = dict(gamma = gamma_range, \n",
        "                           degree = d_range,\n",
        "                           coef0 = r_range)"
      ],
      "execution_count": 35,
      "outputs": []
    },
    {
      "cell_type": "code",
      "metadata": {
        "id": "JwBiUo75DUop"
      },
      "source": [
        "# instanciando o modelo\n",
        "start = time.time()\n",
        "mod_4_grid_search_poly = GridSearchCV(mod_4, \n",
        "                                      svm_param_grid_poly,\n",
        "                                      cv = 3)"
      ],
      "execution_count": 36,
      "outputs": []
    },
    {
      "cell_type": "code",
      "metadata": {
        "colab": {
          "base_uri": "https://localhost:8080/"
        },
        "id": "4HNeSKu9DUoq",
        "outputId": "33c8c543-c4ba-4461-e604-9d8d6be85bce"
      },
      "source": [
        "# treinando o modelo\n",
        "mod_4_grid_search_poly.fit(X_train_scaled, y_train)\n",
        "end = time.time()\n",
        "print('Tempo de treinamento do modelo com Grid Search: ', end - start)"
      ],
      "execution_count": 37,
      "outputs": [
        {
          "output_type": "stream",
          "text": [
            "Tempo de treinamento do modelo com Grid Search:  4.235596656799316\n"
          ],
          "name": "stdout"
        }
      ]
    },
    {
      "cell_type": "code",
      "metadata": {
        "colab": {
          "base_uri": "https://localhost:8080/"
        },
        "id": "k4xtWu1YDUor",
        "outputId": "a854276b-b5da-4c75-e7cb-c73be4b9948e"
      },
      "source": [
        "# acurácia do modelo em treinamento\n",
        "print(f'Acurácia em treinamento: {mod_4_grid_search_poly.best_score_ :.2%}\\n')\n",
        "print(f'Hiperparâmetros ideais: {mod_4_grid_search_poly.best_params_}')"
      ],
      "execution_count": 38,
      "outputs": [
        {
          "output_type": "stream",
          "text": [
            "Acurácia em treinamento: 97.99%\n",
            "\n",
            "Hiperparâmetros ideais: {'coef0': 1.0, 'degree': 4, 'gamma': 0.01}\n"
          ],
          "name": "stdout"
        }
      ]
    },
    {
      "cell_type": "code",
      "metadata": {
        "id": "6RpaYabeDUor"
      },
      "source": [
        "# avaliando as previsões\n",
        "pred_4 = mod_4_grid_search_poly.predict(X_test_scaled)"
      ],
      "execution_count": 39,
      "outputs": []
    },
    {
      "cell_type": "code",
      "metadata": {
        "colab": {
          "base_uri": "https://localhost:8080/"
        },
        "id": "4NnQLMZdDUos",
        "outputId": "1060f56c-626c-42ac-c061-7fe9524bebd3"
      },
      "source": [
        "# dicionário de métricas e metadados\n",
        "SVM_dict_mod_4 = {\n",
        "    'Modelo': 'SVM',\n",
        "    'Versão': '4',\n",
        "    'Kernel': 'Polinomial com dados padronizados e Grid Search',\n",
        "    'Precision': precision_score(pred_4, y_test),\n",
        "    'Recall': recall_score(pred_4, y_test),\n",
        "    'F1 Score': f1_score(pred_4, y_test),\n",
        "    'Acurácia': accuracy_score(pred_4, y_test),\n",
        "    'AUC': roc_auc_score(pred_4, y_test)\n",
        "}\n",
        "\n",
        "print('Métricas de testes:\\n')\n",
        "SVM_dict_mod_4"
      ],
      "execution_count": 40,
      "outputs": [
        {
          "output_type": "stream",
          "text": [
            "Métricas de testes:\n",
            "\n"
          ],
          "name": "stdout"
        },
        {
          "output_type": "execute_result",
          "data": {
            "text/plain": [
              "{'AUC': 0.9726574992005117,\n",
              " 'Acurácia': 0.9766081871345029,\n",
              " 'F1 Score': 0.9830508474576272,\n",
              " 'Kernel': 'Polinomial com dados padronizados e Grid Search',\n",
              " 'Modelo': 'SVM',\n",
              " 'Precision': 0.9830508474576272,\n",
              " 'Recall': 0.9830508474576272,\n",
              " 'Versão': '4'}"
            ]
          },
          "metadata": {
            "tags": []
          },
          "execution_count": 40
        }
      ]
    },
    {
      "cell_type": "code",
      "metadata": {
        "colab": {
          "base_uri": "https://localhost:8080/",
          "height": 297
        },
        "id": "M1uh6zVVDUot",
        "outputId": "e8d87167-647e-4962-dd67-10933670f96e"
      },
      "source": [
        "# realizando a concatenação dos dicionários dos modelos em um único dataframe do pandas\n",
        "resumo = pd.DataFrame({\n",
        "    'SVM_mod_1': pd.Series(SVM_dict_mod_1), \n",
        "    'SVM_mod_2': pd.Series(SVM_dict_mod_2), \n",
        "    'SVM_mod_3': pd.Series(SVM_dict_mod_3), \n",
        "    'SVM_mod_4': pd.Series(SVM_dict_mod_4)\n",
        "})\n",
        "\n",
        "# visualizando o dataframe criado com as métricas de avalição\n",
        "resumo"
      ],
      "execution_count": 41,
      "outputs": [
        {
          "output_type": "execute_result",
          "data": {
            "text/html": [
              "<div>\n",
              "<style scoped>\n",
              "    .dataframe tbody tr th:only-of-type {\n",
              "        vertical-align: middle;\n",
              "    }\n",
              "\n",
              "    .dataframe tbody tr th {\n",
              "        vertical-align: top;\n",
              "    }\n",
              "\n",
              "    .dataframe thead th {\n",
              "        text-align: right;\n",
              "    }\n",
              "</style>\n",
              "<table border=\"1\" class=\"dataframe\">\n",
              "  <thead>\n",
              "    <tr style=\"text-align: right;\">\n",
              "      <th></th>\n",
              "      <th>SVM_mod_1</th>\n",
              "      <th>SVM_mod_2</th>\n",
              "      <th>SVM_mod_3</th>\n",
              "      <th>SVM_mod_4</th>\n",
              "    </tr>\n",
              "  </thead>\n",
              "  <tbody>\n",
              "    <tr>\n",
              "      <th>Modelo</th>\n",
              "      <td>SVM</td>\n",
              "      <td>SVM</td>\n",
              "      <td>SVM</td>\n",
              "      <td>SVM</td>\n",
              "    </tr>\n",
              "    <tr>\n",
              "      <th>Versão</th>\n",
              "      <td>1</td>\n",
              "      <td>2</td>\n",
              "      <td>3</td>\n",
              "      <td>4</td>\n",
              "    </tr>\n",
              "    <tr>\n",
              "      <th>Kernel</th>\n",
              "      <td>Linear</td>\n",
              "      <td>Linear com dados padronizados</td>\n",
              "      <td>RBF com dados padronizados e Grid Search</td>\n",
              "      <td>Polinomial com dados padronizados e Grid Search</td>\n",
              "    </tr>\n",
              "    <tr>\n",
              "      <th>Precision</th>\n",
              "      <td>0.983051</td>\n",
              "      <td>0.991525</td>\n",
              "      <td>0.974576</td>\n",
              "      <td>0.983051</td>\n",
              "    </tr>\n",
              "    <tr>\n",
              "      <th>Recall</th>\n",
              "      <td>0.97479</td>\n",
              "      <td>0.983193</td>\n",
              "      <td>0.982906</td>\n",
              "      <td>0.983051</td>\n",
              "    </tr>\n",
              "    <tr>\n",
              "      <th>F1 Score</th>\n",
              "      <td>0.978903</td>\n",
              "      <td>0.987342</td>\n",
              "      <td>0.978723</td>\n",
              "      <td>0.983051</td>\n",
              "    </tr>\n",
              "    <tr>\n",
              "      <th>Acurácia</th>\n",
              "      <td>0.97076</td>\n",
              "      <td>0.982456</td>\n",
              "      <td>0.97076</td>\n",
              "      <td>0.976608</td>\n",
              "    </tr>\n",
              "    <tr>\n",
              "      <th>AUC</th>\n",
              "      <td>0.968164</td>\n",
              "      <td>0.981981</td>\n",
              "      <td>0.963675</td>\n",
              "      <td>0.972657</td>\n",
              "    </tr>\n",
              "  </tbody>\n",
              "</table>\n",
              "</div>"
            ],
            "text/plain": [
              "          SVM_mod_1  ...                                        SVM_mod_4\n",
              "Modelo          SVM  ...                                              SVM\n",
              "Versão            1  ...                                                4\n",
              "Kernel       Linear  ...  Polinomial com dados padronizados e Grid Search\n",
              "Precision  0.983051  ...                                         0.983051\n",
              "Recall      0.97479  ...                                         0.983051\n",
              "F1 Score   0.978903  ...                                         0.983051\n",
              "Acurácia    0.97076  ...                                         0.976608\n",
              "AUC        0.968164  ...                                         0.972657\n",
              "\n",
              "[8 rows x 4 columns]"
            ]
          },
          "metadata": {
            "tags": []
          },
          "execution_count": 41
        }
      ]
    },
    {
      "cell_type": "markdown",
      "metadata": {
        "id": "AlfMHRmRDUot"
      },
      "source": [
        "> #### <font color='green'>**Obs:** o modelo 3 como kernel `RBF` e suas métricas `Precision (100%)`, `F1 Score (~98%)` e `AUC (~ 98%)` foi o que obteve melhor performance.</font>"
      ]
    },
    {
      "cell_type": "code",
      "metadata": {
        "colab": {
          "base_uri": "https://localhost:8080/"
        },
        "id": "xvzKidC2DUot",
        "outputId": "cceb01d8-0d52-4cc4-f91c-60ea93946b7e"
      },
      "source": [
        "# versões das bibliotecas usadas no notebook\n",
        "%reload_ext watermark\n",
        "%watermark -a 'Fernando Galvão - Machine Learning com SVM #LeadDELL' --iversions"
      ],
      "execution_count": 42,
      "outputs": [
        {
          "output_type": "stream",
          "text": [
            "Author: Fernando Galvão - Machine Learning com SVM #LeadDELL\n",
            "\n",
            "IPython: 5.5.0\n",
            "numpy  : 1.19.5\n",
            "pandas : 1.1.5\n",
            "\n"
          ],
          "name": "stdout"
        }
      ]
    },
    {
      "cell_type": "markdown",
      "metadata": {
        "id": "ofZ7Raf2DUou"
      },
      "source": [
        "## <font color='orange'>**Aplicando o SVM de modo mais simples**</font>"
      ]
    },
    {
      "cell_type": "code",
      "metadata": {
        "colab": {
          "base_uri": "https://localhost:8080/"
        },
        "id": "TbppNGlFDUov",
        "outputId": "5fb23af6-b39f-4554-eec0-951c477fc154"
      },
      "source": [
        "# visualizando a versão do Python utilizado neste notebook\n",
        "from platform import python_version\n",
        "print(f'Versão Python: {python_version()}')"
      ],
      "execution_count": 43,
      "outputs": [
        {
          "output_type": "stream",
          "text": [
            "Versão Python: 3.7.11\n"
          ],
          "name": "stdout"
        }
      ]
    },
    {
      "cell_type": "code",
      "metadata": {
        "id": "mD_20hTaDUov"
      },
      "source": [
        "# biblioteca para ignorar alertas de erro\n",
        "import warnings\n",
        "warnings.filterwarnings('ignore')"
      ],
      "execution_count": 44,
      "outputs": []
    },
    {
      "cell_type": "code",
      "metadata": {
        "id": "SdOpQOzhDUov"
      },
      "source": [
        "# da biblioteca do sklearn do módulo \"datasets\" importando o conjunto de dados \"load_breast_cancer\"\n",
        "from sklearn.datasets import load_breast_cancer"
      ],
      "execution_count": 45,
      "outputs": []
    },
    {
      "cell_type": "code",
      "metadata": {
        "id": "obCOz2DQDUow"
      },
      "source": [
        "# instanciando o conjunto de dados na variável \"data\"\n",
        "data = load_breast_cancer()"
      ],
      "execution_count": 46,
      "outputs": []
    },
    {
      "cell_type": "code",
      "metadata": {
        "colab": {
          "base_uri": "https://localhost:8080/"
        },
        "id": "xBj9IhsfDUox",
        "outputId": "4494399b-fa34-4616-980e-c5df8385a2ee"
      },
      "source": [
        "# visualizando informações gerais sobre o nosso conjunto de dados\n",
        "print(data.DESCR)"
      ],
      "execution_count": 47,
      "outputs": [
        {
          "output_type": "stream",
          "text": [
            ".. _breast_cancer_dataset:\n",
            "\n",
            "Breast cancer wisconsin (diagnostic) dataset\n",
            "--------------------------------------------\n",
            "\n",
            "**Data Set Characteristics:**\n",
            "\n",
            "    :Number of Instances: 569\n",
            "\n",
            "    :Number of Attributes: 30 numeric, predictive attributes and the class\n",
            "\n",
            "    :Attribute Information:\n",
            "        - radius (mean of distances from center to points on the perimeter)\n",
            "        - texture (standard deviation of gray-scale values)\n",
            "        - perimeter\n",
            "        - area\n",
            "        - smoothness (local variation in radius lengths)\n",
            "        - compactness (perimeter^2 / area - 1.0)\n",
            "        - concavity (severity of concave portions of the contour)\n",
            "        - concave points (number of concave portions of the contour)\n",
            "        - symmetry \n",
            "        - fractal dimension (\"coastline approximation\" - 1)\n",
            "\n",
            "        The mean, standard error, and \"worst\" or largest (mean of the three\n",
            "        largest values) of these features were computed for each image,\n",
            "        resulting in 30 features.  For instance, field 3 is Mean Radius, field\n",
            "        13 is Radius SE, field 23 is Worst Radius.\n",
            "\n",
            "        - class:\n",
            "                - WDBC-Malignant\n",
            "                - WDBC-Benign\n",
            "\n",
            "    :Summary Statistics:\n",
            "\n",
            "    ===================================== ====== ======\n",
            "                                           Min    Max\n",
            "    ===================================== ====== ======\n",
            "    radius (mean):                        6.981  28.11\n",
            "    texture (mean):                       9.71   39.28\n",
            "    perimeter (mean):                     43.79  188.5\n",
            "    area (mean):                          143.5  2501.0\n",
            "    smoothness (mean):                    0.053  0.163\n",
            "    compactness (mean):                   0.019  0.345\n",
            "    concavity (mean):                     0.0    0.427\n",
            "    concave points (mean):                0.0    0.201\n",
            "    symmetry (mean):                      0.106  0.304\n",
            "    fractal dimension (mean):             0.05   0.097\n",
            "    radius (standard error):              0.112  2.873\n",
            "    texture (standard error):             0.36   4.885\n",
            "    perimeter (standard error):           0.757  21.98\n",
            "    area (standard error):                6.802  542.2\n",
            "    smoothness (standard error):          0.002  0.031\n",
            "    compactness (standard error):         0.002  0.135\n",
            "    concavity (standard error):           0.0    0.396\n",
            "    concave points (standard error):      0.0    0.053\n",
            "    symmetry (standard error):            0.008  0.079\n",
            "    fractal dimension (standard error):   0.001  0.03\n",
            "    radius (worst):                       7.93   36.04\n",
            "    texture (worst):                      12.02  49.54\n",
            "    perimeter (worst):                    50.41  251.2\n",
            "    area (worst):                         185.2  4254.0\n",
            "    smoothness (worst):                   0.071  0.223\n",
            "    compactness (worst):                  0.027  1.058\n",
            "    concavity (worst):                    0.0    1.252\n",
            "    concave points (worst):               0.0    0.291\n",
            "    symmetry (worst):                     0.156  0.664\n",
            "    fractal dimension (worst):            0.055  0.208\n",
            "    ===================================== ====== ======\n",
            "\n",
            "    :Missing Attribute Values: None\n",
            "\n",
            "    :Class Distribution: 212 - Malignant, 357 - Benign\n",
            "\n",
            "    :Creator:  Dr. William H. Wolberg, W. Nick Street, Olvi L. Mangasarian\n",
            "\n",
            "    :Donor: Nick Street\n",
            "\n",
            "    :Date: November, 1995\n",
            "\n",
            "This is a copy of UCI ML Breast Cancer Wisconsin (Diagnostic) datasets.\n",
            "https://goo.gl/U2Uwz2\n",
            "\n",
            "Features are computed from a digitized image of a fine needle\n",
            "aspirate (FNA) of a breast mass.  They describe\n",
            "characteristics of the cell nuclei present in the image.\n",
            "\n",
            "Separating plane described above was obtained using\n",
            "Multisurface Method-Tree (MSM-T) [K. P. Bennett, \"Decision Tree\n",
            "Construction Via Linear Programming.\" Proceedings of the 4th\n",
            "Midwest Artificial Intelligence and Cognitive Science Society,\n",
            "pp. 97-101, 1992], a classification method which uses linear\n",
            "programming to construct a decision tree.  Relevant features\n",
            "were selected using an exhaustive search in the space of 1-4\n",
            "features and 1-3 separating planes.\n",
            "\n",
            "The actual linear program used to obtain the separating plane\n",
            "in the 3-dimensional space is that described in:\n",
            "[K. P. Bennett and O. L. Mangasarian: \"Robust Linear\n",
            "Programming Discrimination of Two Linearly Inseparable Sets\",\n",
            "Optimization Methods and Software 1, 1992, 23-34].\n",
            "\n",
            "This database is also available through the UW CS ftp server:\n",
            "\n",
            "ftp ftp.cs.wisc.edu\n",
            "cd math-prog/cpo-dataset/machine-learn/WDBC/\n",
            "\n",
            ".. topic:: References\n",
            "\n",
            "   - W.N. Street, W.H. Wolberg and O.L. Mangasarian. Nuclear feature extraction \n",
            "     for breast tumor diagnosis. IS&T/SPIE 1993 International Symposium on \n",
            "     Electronic Imaging: Science and Technology, volume 1905, pages 861-870,\n",
            "     San Jose, CA, 1993.\n",
            "   - O.L. Mangasarian, W.N. Street and W.H. Wolberg. Breast cancer diagnosis and \n",
            "     prognosis via linear programming. Operations Research, 43(4), pages 570-577, \n",
            "     July-August 1995.\n",
            "   - W.H. Wolberg, W.N. Street, and O.L. Mangasarian. Machine learning techniques\n",
            "     to diagnose breast cancer from fine-needle aspirates. Cancer Letters 77 (1994) \n",
            "     163-171.\n"
          ],
          "name": "stdout"
        }
      ]
    },
    {
      "cell_type": "code",
      "metadata": {
        "id": "MeTm2ZyNDUox"
      },
      "source": [
        "# separando os dados e instanciando nas variáveis \"X\" (independentes) e a \"y\" (dependente - target)\n",
        "X = data.data\n",
        "y = data.target"
      ],
      "execution_count": 48,
      "outputs": []
    },
    {
      "cell_type": "code",
      "metadata": {
        "colab": {
          "base_uri": "https://localhost:8080/"
        },
        "id": "7JecWgM4DUoy",
        "outputId": "f90105fd-d89f-4228-9d9a-b604228f6358"
      },
      "source": [
        "# visualizando a quantidade de dados da variável \"X\" e \"y\"\n",
        "print('X:', X.shape) # linhas e colunas\n",
        "print('y:', y.shape) # linhas"
      ],
      "execution_count": 49,
      "outputs": [
        {
          "output_type": "stream",
          "text": [
            "X: (569, 30)\n",
            "y: (569,)\n"
          ],
          "name": "stdout"
        }
      ]
    },
    {
      "cell_type": "code",
      "metadata": {
        "id": "cxkPH3WBDUoz"
      },
      "source": [
        "# da biblioteca do sklearn do módulo \"model_selection\" importando as funções \"train_test_split\" e \"GridSearchCV\"\n",
        "from sklearn.model_selection import train_test_split, GridSearchCV"
      ],
      "execution_count": 50,
      "outputs": []
    },
    {
      "cell_type": "code",
      "metadata": {
        "id": "bwBYQJ_IDUoz"
      },
      "source": [
        "# com a função \"train_test_split\" iremos dividir as variáveis \"X\" e \"y\" em dados de treino e teste\n",
        "X_train, X_test, y_train, y_test = train_test_split(X, y, test_size = 0.3)\n",
        "                                                          # separando 30% dos dados para teste"
      ],
      "execution_count": 51,
      "outputs": []
    },
    {
      "cell_type": "code",
      "metadata": {
        "colab": {
          "base_uri": "https://localhost:8080/"
        },
        "id": "bhGqtP5TDUoz",
        "outputId": "5202b973-e0a6-41fd-a8e5-440d3c74ffd0"
      },
      "source": [
        "# visualizando a quantidade de dados de treino e teste\n",
        "print('Quantidade de dados:')\n",
        "print(f'''X_train: {X_train.shape} \n",
        "X_test: {X_test.shape} \n",
        "y_train: {y_train.shape}\n",
        "y_test: {y_test.shape}''')"
      ],
      "execution_count": 52,
      "outputs": [
        {
          "output_type": "stream",
          "text": [
            "Quantidade de dados:\n",
            "X_train: (398, 30) \n",
            "X_test: (171, 30) \n",
            "y_train: (398,)\n",
            "y_test: (171,)\n"
          ],
          "name": "stdout"
        }
      ]
    },
    {
      "cell_type": "code",
      "metadata": {
        "id": "6rBXL5ZrDUo0"
      },
      "source": [
        "# importando as bibilotecas, módulos e as funções\n",
        "\n",
        "import time # para trabalhar com tempo\n",
        "import pandas as pd # para modelagem de dados\n",
        "import numpy as np # para modelagem matemática\n",
        "\n",
        "# da biblioteca do sklearn do módulo \"svm\" importando a função \"SVC\"\n",
        "from sklearn.svm import SVC # \"support vector classifier\" - modelo de classificação\n",
        "\n",
        "# da biblioteca do sklearn do módulo \"preprocessing\" importando a função \"StandardScaler\"\n",
        "from sklearn.preprocessing import StandardScaler\n",
        "\n",
        "# da biblioteca do sklearn do módulo \"metrics\" importando a funções de avaliação\n",
        "# from sklearn.metrics import precision_score, recall_score, f1_score, accuracy_score, roc_auc_score"
      ],
      "execution_count": 53,
      "outputs": []
    },
    {
      "cell_type": "code",
      "metadata": {
        "id": "PEiZNn4bDUo0"
      },
      "source": [
        "# instalando a biblioteca \"watermark\"\n",
        "!pip install -q -U watermark \n",
        "# esse pacote é usado para gravar as versões dos pacotes usados neste notebook"
      ],
      "execution_count": 54,
      "outputs": []
    },
    {
      "cell_type": "code",
      "metadata": {
        "colab": {
          "base_uri": "https://localhost:8080/"
        },
        "id": "V_DbiNykDUo1",
        "outputId": "3b74772e-d4ff-4059-e33d-74ea205493ae"
      },
      "source": [
        "# versões das bibliotecas usadas no notebook\n",
        "%reload_ext watermark\n",
        "%watermark -a 'Fernando Galvão - Machine Learning com SVM #LeadDELL' --iversions"
      ],
      "execution_count": 55,
      "outputs": [
        {
          "output_type": "stream",
          "text": [
            "Author: Fernando Galvão - Machine Learning com SVM #LeadDELL\n",
            "\n",
            "IPython: 5.5.0\n",
            "numpy  : 1.19.5\n",
            "pandas : 1.1.5\n",
            "\n"
          ],
          "name": "stdout"
        }
      ]
    },
    {
      "cell_type": "code",
      "metadata": {
        "colab": {
          "base_uri": "https://localhost:8080/"
        },
        "id": "gJmfbaBsDUo1",
        "outputId": "d10a4b43-02db-48ee-f8a4-d01700440484"
      },
      "source": [
        "# modelo com o \"kernel='linear'\"\n",
        "svc_linear = SVC(kernel='linear',C=1.0) # o \"C\" é a medida de erro de separação dos dados\n",
        "# o valor de \"C=1.0\" é padrão do SVC, não há necessidade de instancia-lo\n",
        "\n",
        "# treinando o modelo com os dados de treino\n",
        "print(svc_linear.fit(X_train,y_train))\n",
        "\n",
        "# avaliando a performance do modelo com os dados de teste\n",
        "print('\\nScore:', svc_linear.score(X_test,y_test))"
      ],
      "execution_count": 58,
      "outputs": [
        {
          "output_type": "stream",
          "text": [
            "SVC(C=1.0, break_ties=False, cache_size=200, class_weight=None, coef0=0.0,\n",
            "    decision_function_shape='ovr', degree=3, gamma='scale', kernel='linear',\n",
            "    max_iter=-1, probability=False, random_state=None, shrinking=True,\n",
            "    tol=0.001, verbose=False)\n",
            "\n",
            "Score: 0.9590643274853801\n"
          ],
          "name": "stdout"
        }
      ]
    },
    {
      "cell_type": "code",
      "metadata": {
        "colab": {
          "base_uri": "https://localhost:8080/"
        },
        "id": "KhjUikDeDUo1",
        "outputId": "a7563f5f-0ad2-444a-f834-411561973da9"
      },
      "source": [
        "# modelo com o \"kernel='linear'\" e dados padronizados (escalados)\n",
        "\n",
        "# realizando a padronização dos dados\n",
        "sc = StandardScaler() # modelo para escalar os dados\n",
        "\n",
        "# realizando a padronização dos dados de treino e teste\n",
        "X_train_scaled = sc.fit_transform(X_train)\n",
        "X_test_scaled = sc.transform(X_test)\n",
        "# Obs: somente aplique a padronização depois de ter feito a divisão dos dados em treino e teste\n",
        "\n",
        "# instanciando o modelo com o \"kernel='linear'\" \n",
        "svc_linear = SVC(kernel='linear') \n",
        "\n",
        "# treinando o modelo com os dados de treino\n",
        "print(svc_linear.fit(X_train_scaled,y_train))\n",
        "\n",
        "# avaliando a performance do modelo com os dados de teste\n",
        "print('\\nScore:', svc_linear.score(X_test_scaled,y_test))"
      ],
      "execution_count": 59,
      "outputs": [
        {
          "output_type": "stream",
          "text": [
            "SVC(C=1.0, break_ties=False, cache_size=200, class_weight=None, coef0=0.0,\n",
            "    decision_function_shape='ovr', degree=3, gamma='scale', kernel='linear',\n",
            "    max_iter=-1, probability=False, random_state=None, shrinking=True,\n",
            "    tol=0.001, verbose=False)\n",
            "\n",
            "Score: 0.9824561403508771\n"
          ],
          "name": "stdout"
        }
      ]
    },
    {
      "cell_type": "code",
      "metadata": {
        "scrolled": true,
        "colab": {
          "base_uri": "https://localhost:8080/"
        },
        "id": "nb_BWESLDUo2",
        "outputId": "7357f129-18dc-41a9-ce95-2825014cd1e9"
      },
      "source": [
        "# modelo com o \"kernel='rbf'\" e otimização dos hiperparâmetros com \"Grid Search\"\n",
        "\n",
        "# instanciando o modelo\n",
        "svc_rbf = SVC(kernel='rbf')\n",
        "\n",
        "# definindo os valores para o grid search\n",
        "C_range = np.array([50., 100., 200.])\n",
        "gamma_range = np.array([0.3*0.001, 0.001, 3.0*0.001])\n",
        "\n",
        "# instanciando o grid dos hiperparâmetros\n",
        "param_grid_rbf = dict(gamma = gamma_range, C = C_range)\n",
        "\n",
        "# instanciando o modelo com o grid\n",
        "svc_rbf_grid_search = GridSearchCV(svc_rbf, \n",
        "                                   param_grid_rbf,\n",
        "                                   cv = 3)\n",
        "\n",
        "# obs: usaremos as dados padronizados (escalados) \"X_train_scaled\" e \"y_test_scaled\"\n",
        "\n",
        "# treinando o modelo com os dados de treino\n",
        "print(svc_rbf_grid_search.fit(X_train_scaled,y_train))\n",
        "\n",
        "# avaliando a performance do modelo com os dados de teste\n",
        "print('\\nScore:', svc_rbf_grid_search.score(X_test_scaled,y_test))"
      ],
      "execution_count": 60,
      "outputs": [
        {
          "output_type": "stream",
          "text": [
            "GridSearchCV(cv=3, error_score=nan,\n",
            "             estimator=SVC(C=1.0, break_ties=False, cache_size=200,\n",
            "                           class_weight=None, coef0=0.0,\n",
            "                           decision_function_shape='ovr', degree=3,\n",
            "                           gamma='scale', kernel='rbf', max_iter=-1,\n",
            "                           probability=False, random_state=None, shrinking=True,\n",
            "                           tol=0.001, verbose=False),\n",
            "             iid='deprecated', n_jobs=None,\n",
            "             param_grid={'C': array([ 50., 100., 200.]),\n",
            "                         'gamma': array([0.0003, 0.001 , 0.003 ])},\n",
            "             pre_dispatch='2*n_jobs', refit=True, return_train_score=False,\n",
            "             scoring=None, verbose=0)\n",
            "\n",
            "Score: 0.9883040935672515\n"
          ],
          "name": "stdout"
        }
      ]
    },
    {
      "cell_type": "code",
      "metadata": {
        "colab": {
          "base_uri": "https://localhost:8080/"
        },
        "id": "__MMosRXDUo2",
        "outputId": "bdfd2e1c-4839-45e0-8e6b-b1872c83ba7e"
      },
      "source": [
        "# modelo com o \"kernel='poly'\" e otimização dos hiperparâmetros com \"Grid Search\"\n",
        "\n",
        "# instanciando o modelo\n",
        "svc_poly = SVC(kernel='poly', degree=3) # \"degree=3\" estamos elevando ao cubo\n",
        "\n",
        "# definindo os valores para o grid\n",
        "r_range = np.array([0.5, 1])\n",
        "gamma_range = np.array([0.001, 0.01])\n",
        "d_range = np.array([2, 3, 4])\n",
        "\n",
        "# instanciando o grid dos hiperparâmetros\n",
        "param_grid_poly = dict(gamma = gamma_range, \n",
        "                       degree = d_range,\n",
        "                       coef0 = r_range)\n",
        "\n",
        "# instanciando o modelo\n",
        "svc_poly_grid_search = GridSearchCV(svc_poly, \n",
        "                                    param_grid_poly,\n",
        "                                    cv = 3)\n",
        "\n",
        "# obs: usaremos as dados padronizados (escalados) \"X_train_scaled\" e \"y_test_scaled\"\n",
        "\n",
        "# treinando o modelo com os dados de treino\n",
        "print(svc_poly.fit(X_train_scaled,y_train))\n",
        "\n",
        "# avaliando a performance do modelo com os dados de teste\n",
        "print('\\nScore:', svc_poly.score(X_test_scaled,y_test))"
      ],
      "execution_count": 61,
      "outputs": [
        {
          "output_type": "stream",
          "text": [
            "SVC(C=1.0, break_ties=False, cache_size=200, class_weight=None, coef0=0.0,\n",
            "    decision_function_shape='ovr', degree=3, gamma='scale', kernel='poly',\n",
            "    max_iter=-1, probability=False, random_state=None, shrinking=True,\n",
            "    tol=0.001, verbose=False)\n",
            "\n",
            "Score: 0.935672514619883\n"
          ],
          "name": "stdout"
        }
      ]
    },
    {
      "cell_type": "markdown",
      "metadata": {
        "id": "iDB_y_OFDUo2"
      },
      "source": [
        "# <font color ='blue'>**SVM - Support Vector Machines**</font>\n",
        "\n",
        "### **Usando SVM para prever a intenção de compra de usuários de** <font color ='green'>**E-Commerce**</font>"
      ]
    },
    {
      "cell_type": "markdown",
      "metadata": {
        "id": "RpS5UXY8DUo3"
      },
      "source": [
        "- https://www.youtube.com/watch?v=EbxV4I0BkXk"
      ]
    },
    {
      "cell_type": "code",
      "metadata": {
        "colab": {
          "base_uri": "https://localhost:8080/"
        },
        "id": "190KqXCdDUo3",
        "outputId": "d32df43e-a896-44ad-d1cb-e26d3c0657ee"
      },
      "source": [
        "# visualizando a versão do Python utilizado neste notebook\n",
        "from platform import python_version\n",
        "print(f'Versão Python: {python_version()}')"
      ],
      "execution_count": 62,
      "outputs": [
        {
          "output_type": "stream",
          "text": [
            "Versão Python: 3.7.11\n"
          ],
          "name": "stdout"
        }
      ]
    },
    {
      "cell_type": "markdown",
      "metadata": {
        "id": "suYNl-l5DUo3"
      },
      "source": [
        "### <font color='red'> _Descrição do Problema_: </font>\n",
        " - Neste caso, iremos avaliar quais atributos influenciam um usuário na compra de produtos online e construir um modelo preditivo para realizar **previsões de compras futuras**.\n",
        " - Usaremos como fonte de dados o dataset `Online Shoppers Purchasing Intention`, que está disponível em:\n",
        "\n",
        "  - [UCI Machine Learning Repository](https://archive.ics.uci.edu/ml/datasets/Online+Shoppers+Purchasing+Intention+Dataset)"
      ]
    },
    {
      "cell_type": "code",
      "metadata": {
        "id": "FdOBkCiSDUo4"
      },
      "source": [
        "# instalando a biblioteca \"watermark\"\n",
        "!pip install -q -U watermark \n",
        "# esse pacote é usado para gravar as versões dos pacotes usados neste notebook"
      ],
      "execution_count": 63,
      "outputs": []
    },
    {
      "cell_type": "code",
      "metadata": {
        "id": "6wWTanYwDUo4"
      },
      "source": [
        "# importando as bibilotecas, módulos e as funções\n",
        "import time\n",
        "import pandas as pd\n",
        "import numpy as np \n",
        "import sklearn\n",
        "import matplotlib\n",
        "import matplotlib.pyplot as plt\n",
        "import seaborn as sns\n",
        "from sklearn.preprocessing import StandardScaler, LabelEncoder\n",
        "from sklearn.model_selection import train_test_split, GridSearchCV\n",
        "from sklearn.metrics import precision_score, recall_score, f1_score, accuracy_score, roc_auc_score\n",
        "from sklearn import svm\n",
        "\n",
        "import warnings\n",
        "warnings.filterwarnings('ignore')"
      ],
      "execution_count": 64,
      "outputs": []
    },
    {
      "cell_type": "code",
      "metadata": {
        "colab": {
          "base_uri": "https://localhost:8080/"
        },
        "id": "cDuqbHRjDUo4",
        "outputId": "e295e644-a5d0-4e34-8321-101eaf1c067f"
      },
      "source": [
        "# versões das bibliotecas usadas no notebook\n",
        "%reload_ext watermark\n",
        "%watermark -a 'Fernando Galvão - Machine Learning com SVM #LeadDELL' --iversions"
      ],
      "execution_count": 65,
      "outputs": [
        {
          "output_type": "stream",
          "text": [
            "Author: Fernando Galvão - Machine Learning com SVM #LeadDELL\n",
            "\n",
            "IPython   : 5.5.0\n",
            "numpy     : 1.19.5\n",
            "matplotlib: 3.2.2\n",
            "sklearn   : 0.0\n",
            "seaborn   : 0.11.1\n",
            "pandas    : 1.1.5\n",
            "\n"
          ],
          "name": "stdout"
        }
      ]
    },
    {
      "cell_type": "code",
      "metadata": {
        "colab": {
          "resources": {
            "http://localhost:8080/nbextensions/google.colab/files.js": {
              "data": "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",
              "ok": true,
              "headers": [
                [
                  "content-type",
                  "application/javascript"
                ]
              ],
              "status": 200,
              "status_text": ""
            }
          },
          "base_uri": "https://localhost:8080/",
          "height": 72
        },
        "id": "DQTF9yO9IBGG",
        "outputId": "b27c268c-b2eb-4860-a469-e813bfac42d3"
      },
      "source": [
        "# importando os dados para o google colab, para isso usaremos uma biblioteca fornecida pelo google\n",
        "from google.colab import files\n",
        "uploaded = files.upload()"
      ],
      "execution_count": 67,
      "outputs": [
        {
          "output_type": "display_data",
          "data": {
            "text/html": [
              "\n",
              "     <input type=\"file\" id=\"files-82f4d008-77a4-4536-bd01-47c46f3ee02a\" name=\"files[]\" multiple disabled\n",
              "        style=\"border:none\" />\n",
              "     <output id=\"result-82f4d008-77a4-4536-bd01-47c46f3ee02a\">\n",
              "      Upload widget is only available when the cell has been executed in the\n",
              "      current browser session. Please rerun this cell to enable.\n",
              "      </output>\n",
              "      <script src=\"/nbextensions/google.colab/files.js\"></script> "
            ],
            "text/plain": [
              "<IPython.core.display.HTML object>"
            ]
          },
          "metadata": {
            "tags": []
          }
        },
        {
          "output_type": "stream",
          "text": [
            "Saving online_shoppers_intention.csv to online_shoppers_intention.csv\n"
          ],
          "name": "stdout"
        }
      ]
    },
    {
      "cell_type": "code",
      "metadata": {
        "colab": {
          "base_uri": "https://localhost:8080/",
          "height": 379
        },
        "id": "Xho5QkT-DUo5",
        "outputId": "93c830c8-b3e1-4f59-a486-f72e5221e593"
      },
      "source": [
        "# carregando e instanciando a base de dados na variável \"df\"\n",
        "df = pd.read_csv('online_shoppers_intention.csv')\n",
        "\n",
        "# visualizando as 10 primeiras linhas\n",
        "df.head(10)"
      ],
      "execution_count": 68,
      "outputs": [
        {
          "output_type": "execute_result",
          "data": {
            "text/html": [
              "<div>\n",
              "<style scoped>\n",
              "    .dataframe tbody tr th:only-of-type {\n",
              "        vertical-align: middle;\n",
              "    }\n",
              "\n",
              "    .dataframe tbody tr th {\n",
              "        vertical-align: top;\n",
              "    }\n",
              "\n",
              "    .dataframe thead th {\n",
              "        text-align: right;\n",
              "    }\n",
              "</style>\n",
              "<table border=\"1\" class=\"dataframe\">\n",
              "  <thead>\n",
              "    <tr style=\"text-align: right;\">\n",
              "      <th></th>\n",
              "      <th>Administrative</th>\n",
              "      <th>Administrative_Duration</th>\n",
              "      <th>Informational</th>\n",
              "      <th>Informational_Duration</th>\n",
              "      <th>ProductRelated</th>\n",
              "      <th>ProductRelated_Duration</th>\n",
              "      <th>BounceRates</th>\n",
              "      <th>ExitRates</th>\n",
              "      <th>PageValues</th>\n",
              "      <th>SpecialDay</th>\n",
              "      <th>Month</th>\n",
              "      <th>OperatingSystems</th>\n",
              "      <th>Browser</th>\n",
              "      <th>Region</th>\n",
              "      <th>TrafficType</th>\n",
              "      <th>VisitorType</th>\n",
              "      <th>Weekend</th>\n",
              "      <th>Revenue</th>\n",
              "    </tr>\n",
              "  </thead>\n",
              "  <tbody>\n",
              "    <tr>\n",
              "      <th>0</th>\n",
              "      <td>0</td>\n",
              "      <td>0.0</td>\n",
              "      <td>0</td>\n",
              "      <td>0.0</td>\n",
              "      <td>1</td>\n",
              "      <td>0.000000</td>\n",
              "      <td>0.200000</td>\n",
              "      <td>0.200000</td>\n",
              "      <td>0.0</td>\n",
              "      <td>0.0</td>\n",
              "      <td>Feb</td>\n",
              "      <td>1</td>\n",
              "      <td>1</td>\n",
              "      <td>1</td>\n",
              "      <td>1</td>\n",
              "      <td>Returning_Visitor</td>\n",
              "      <td>False</td>\n",
              "      <td>False</td>\n",
              "    </tr>\n",
              "    <tr>\n",
              "      <th>1</th>\n",
              "      <td>0</td>\n",
              "      <td>0.0</td>\n",
              "      <td>0</td>\n",
              "      <td>0.0</td>\n",
              "      <td>2</td>\n",
              "      <td>64.000000</td>\n",
              "      <td>0.000000</td>\n",
              "      <td>0.100000</td>\n",
              "      <td>0.0</td>\n",
              "      <td>0.0</td>\n",
              "      <td>Feb</td>\n",
              "      <td>2</td>\n",
              "      <td>2</td>\n",
              "      <td>1</td>\n",
              "      <td>2</td>\n",
              "      <td>Returning_Visitor</td>\n",
              "      <td>False</td>\n",
              "      <td>False</td>\n",
              "    </tr>\n",
              "    <tr>\n",
              "      <th>2</th>\n",
              "      <td>0</td>\n",
              "      <td>0.0</td>\n",
              "      <td>0</td>\n",
              "      <td>0.0</td>\n",
              "      <td>1</td>\n",
              "      <td>0.000000</td>\n",
              "      <td>0.200000</td>\n",
              "      <td>0.200000</td>\n",
              "      <td>0.0</td>\n",
              "      <td>0.0</td>\n",
              "      <td>Feb</td>\n",
              "      <td>4</td>\n",
              "      <td>1</td>\n",
              "      <td>9</td>\n",
              "      <td>3</td>\n",
              "      <td>Returning_Visitor</td>\n",
              "      <td>False</td>\n",
              "      <td>False</td>\n",
              "    </tr>\n",
              "    <tr>\n",
              "      <th>3</th>\n",
              "      <td>0</td>\n",
              "      <td>0.0</td>\n",
              "      <td>0</td>\n",
              "      <td>0.0</td>\n",
              "      <td>2</td>\n",
              "      <td>2.666667</td>\n",
              "      <td>0.050000</td>\n",
              "      <td>0.140000</td>\n",
              "      <td>0.0</td>\n",
              "      <td>0.0</td>\n",
              "      <td>Feb</td>\n",
              "      <td>3</td>\n",
              "      <td>2</td>\n",
              "      <td>2</td>\n",
              "      <td>4</td>\n",
              "      <td>Returning_Visitor</td>\n",
              "      <td>False</td>\n",
              "      <td>False</td>\n",
              "    </tr>\n",
              "    <tr>\n",
              "      <th>4</th>\n",
              "      <td>0</td>\n",
              "      <td>0.0</td>\n",
              "      <td>0</td>\n",
              "      <td>0.0</td>\n",
              "      <td>10</td>\n",
              "      <td>627.500000</td>\n",
              "      <td>0.020000</td>\n",
              "      <td>0.050000</td>\n",
              "      <td>0.0</td>\n",
              "      <td>0.0</td>\n",
              "      <td>Feb</td>\n",
              "      <td>3</td>\n",
              "      <td>3</td>\n",
              "      <td>1</td>\n",
              "      <td>4</td>\n",
              "      <td>Returning_Visitor</td>\n",
              "      <td>True</td>\n",
              "      <td>False</td>\n",
              "    </tr>\n",
              "    <tr>\n",
              "      <th>5</th>\n",
              "      <td>0</td>\n",
              "      <td>0.0</td>\n",
              "      <td>0</td>\n",
              "      <td>0.0</td>\n",
              "      <td>19</td>\n",
              "      <td>154.216667</td>\n",
              "      <td>0.015789</td>\n",
              "      <td>0.024561</td>\n",
              "      <td>0.0</td>\n",
              "      <td>0.0</td>\n",
              "      <td>Feb</td>\n",
              "      <td>2</td>\n",
              "      <td>2</td>\n",
              "      <td>1</td>\n",
              "      <td>3</td>\n",
              "      <td>Returning_Visitor</td>\n",
              "      <td>False</td>\n",
              "      <td>False</td>\n",
              "    </tr>\n",
              "    <tr>\n",
              "      <th>6</th>\n",
              "      <td>0</td>\n",
              "      <td>0.0</td>\n",
              "      <td>0</td>\n",
              "      <td>0.0</td>\n",
              "      <td>1</td>\n",
              "      <td>0.000000</td>\n",
              "      <td>0.200000</td>\n",
              "      <td>0.200000</td>\n",
              "      <td>0.0</td>\n",
              "      <td>0.4</td>\n",
              "      <td>Feb</td>\n",
              "      <td>2</td>\n",
              "      <td>4</td>\n",
              "      <td>3</td>\n",
              "      <td>3</td>\n",
              "      <td>Returning_Visitor</td>\n",
              "      <td>False</td>\n",
              "      <td>False</td>\n",
              "    </tr>\n",
              "    <tr>\n",
              "      <th>7</th>\n",
              "      <td>1</td>\n",
              "      <td>0.0</td>\n",
              "      <td>0</td>\n",
              "      <td>0.0</td>\n",
              "      <td>0</td>\n",
              "      <td>0.000000</td>\n",
              "      <td>0.200000</td>\n",
              "      <td>0.200000</td>\n",
              "      <td>0.0</td>\n",
              "      <td>0.0</td>\n",
              "      <td>Feb</td>\n",
              "      <td>1</td>\n",
              "      <td>2</td>\n",
              "      <td>1</td>\n",
              "      <td>5</td>\n",
              "      <td>Returning_Visitor</td>\n",
              "      <td>True</td>\n",
              "      <td>False</td>\n",
              "    </tr>\n",
              "    <tr>\n",
              "      <th>8</th>\n",
              "      <td>0</td>\n",
              "      <td>0.0</td>\n",
              "      <td>0</td>\n",
              "      <td>0.0</td>\n",
              "      <td>2</td>\n",
              "      <td>37.000000</td>\n",
              "      <td>0.000000</td>\n",
              "      <td>0.100000</td>\n",
              "      <td>0.0</td>\n",
              "      <td>0.8</td>\n",
              "      <td>Feb</td>\n",
              "      <td>2</td>\n",
              "      <td>2</td>\n",
              "      <td>2</td>\n",
              "      <td>3</td>\n",
              "      <td>Returning_Visitor</td>\n",
              "      <td>False</td>\n",
              "      <td>False</td>\n",
              "    </tr>\n",
              "    <tr>\n",
              "      <th>9</th>\n",
              "      <td>0</td>\n",
              "      <td>0.0</td>\n",
              "      <td>0</td>\n",
              "      <td>0.0</td>\n",
              "      <td>3</td>\n",
              "      <td>738.000000</td>\n",
              "      <td>0.000000</td>\n",
              "      <td>0.022222</td>\n",
              "      <td>0.0</td>\n",
              "      <td>0.4</td>\n",
              "      <td>Feb</td>\n",
              "      <td>2</td>\n",
              "      <td>4</td>\n",
              "      <td>1</td>\n",
              "      <td>2</td>\n",
              "      <td>Returning_Visitor</td>\n",
              "      <td>False</td>\n",
              "      <td>False</td>\n",
              "    </tr>\n",
              "  </tbody>\n",
              "</table>\n",
              "</div>"
            ],
            "text/plain": [
              "   Administrative  Administrative_Duration  ...  Weekend  Revenue\n",
              "0               0                      0.0  ...    False    False\n",
              "1               0                      0.0  ...    False    False\n",
              "2               0                      0.0  ...    False    False\n",
              "3               0                      0.0  ...    False    False\n",
              "4               0                      0.0  ...     True    False\n",
              "5               0                      0.0  ...    False    False\n",
              "6               0                      0.0  ...    False    False\n",
              "7               1                      0.0  ...     True    False\n",
              "8               0                      0.0  ...    False    False\n",
              "9               0                      0.0  ...    False    False\n",
              "\n",
              "[10 rows x 18 columns]"
            ]
          },
          "metadata": {
            "tags": []
          },
          "execution_count": 68
        }
      ]
    },
    {
      "cell_type": "code",
      "metadata": {
        "colab": {
          "base_uri": "https://localhost:8080/"
        },
        "id": "3ZG3grmrDUo5",
        "outputId": "8ea58dc0-028c-49ef-ebb0-17f18a39a123"
      },
      "source": [
        "# nome das colunas\n",
        "df.columns"
      ],
      "execution_count": 69,
      "outputs": [
        {
          "output_type": "execute_result",
          "data": {
            "text/plain": [
              "Index(['Administrative', 'Administrative_Duration', 'Informational',\n",
              "       'Informational_Duration', 'ProductRelated', 'ProductRelated_Duration',\n",
              "       'BounceRates', 'ExitRates', 'PageValues', 'SpecialDay', 'Month',\n",
              "       'OperatingSystems', 'Browser', 'Region', 'TrafficType', 'VisitorType',\n",
              "       'Weekend', 'Revenue'],\n",
              "      dtype='object')"
            ]
          },
          "metadata": {
            "tags": []
          },
          "execution_count": 69
        }
      ]
    },
    {
      "cell_type": "markdown",
      "metadata": {
        "id": "f32xtHXCDUo5"
      },
      "source": [
        "### <font color='gray'>**Dicionário de dados:**</font>\n",
        "\n",
        "   - `'Administrative'`: Administrativa;\n",
        "   - `'Administrative_Duration'`: Duração administrativa;\n",
        "   - `'Informational'`: Informativa;\n",
        "   - `'Informational_Duration'`: Duração informativa;\n",
        "   - `'ProductRelated'`: Relacionado ao produto e,\n",
        "   - `'ProductRelated_Duration'`: Duração relacionada ao produto.\n",
        "       - representam o número de diferentes tipos de páginas visitadas pelo visitante naquela sessão e o tempo total gasto em cada uma delas essas categorias de página. Os valores desses recursos são derivados das informações de URL das páginas visitadas pelo usuário e atualizados em tempo real quando um usuário realiza uma ação, por exemplo, passando de uma página para outra.\n",
        "       \n",
        "       \n",
        "   - `'BounceRates'`: Taxa de rejeição;\n",
        "   - `'ExitRates'`: Taxa de saída e,\n",
        "   - `'PageValues'`: Valor da página.\n",
        "       - representam as métricas medidas pelo \"Google Analytics\" para cada página do site de comércio eletrônico.\n",
        "       O valor do recurso \"Taxa de rejeição\" para uma página da web se refere à porcentagem de visitantes que entram no site a partir dessa página e depois saem (\"rejeição\") sem acionar nenhuma outra solicitação ao servidor de análise durante essa sessão. O valor do recurso \"Taxa de saída\" para uma página da web específica é calculado como para todas as visualizações de página da página, a porcentagem das últimas na sessão. O recurso \"Valor da página\" representa o valor médio de uma página da web que um usuário visitou antes de concluir uma transação de comércio eletrônico.\n",
        "       \n",
        "       \n",
        "   - `'SpecialDay'`: Dia especial.\n",
        "       - indica a proximidade do horário de visita do site a um dia especial específico (por exemplo, Dia das Mães, Dia dos Namorados) em que as sessões têm mais probabilidade de serem finalizadas com a transação. O valor deste atributo é determinado considerando a dinâmica do e-commerce, como a duração entre a data do pedido e a data de entrega. Por exemplo, para o dia de Valentina, esse valor assume um valor diferente de zero entre 2 de fevereiro e 12 de fevereiro, zero antes e depois dessa data, a menos que seja próximo a outro dia especial, e seu valor máximo de 1 em 8 de fevereiro.\n",
        "       \n",
        "       \n",
        "   - `'Month'`: mês do ano;\n",
        "   - `'OperatingSystems'`: Sistema operacional;\n",
        "   - `'Browser'`: Navegador;\n",
        "   - `'Region'`: Região;\n",
        "   - `'TrafficType'`: Tipo de tráfego;\n",
        "   - `'VisitorType'`: Tipo de visitante e,\n",
        "   - `'Weekend'`: fim de semana.\n",
        "       - O conjunto de dados também inclui sistema operacional, navegador, região, tipo de tráfego, tipo de visitante como visitante recorrente ou novo, um valor booleano que indica se a data da visita é fim de semana e mês do ano.\n",
        "       \n",
        "       \n",
        "   - `'Revenue'`: Receita."
      ]
    },
    {
      "cell_type": "markdown",
      "metadata": {
        "id": "hEXTAmUUDUo6"
      },
      "source": [
        "### <font color='green'>Análise de dados exploratória (EDA - Exploratory Data Analysis)<font>"
      ]
    },
    {
      "cell_type": "code",
      "metadata": {
        "colab": {
          "base_uri": "https://localhost:8080/"
        },
        "id": "d7B29hBODUo6",
        "outputId": "23678293-96c1-49e3-adbd-e0e9e9ec1fae"
      },
      "source": [
        "# quantidade de linhas e colunas\n",
        "print(f'O dataframe possui: \\n{df.shape[0]} linhas e {df.shape[1]} colunas.')"
      ],
      "execution_count": 70,
      "outputs": [
        {
          "output_type": "stream",
          "text": [
            "O dataframe possui: \n",
            "12330 linhas e 18 colunas.\n"
          ],
          "name": "stdout"
        }
      ]
    },
    {
      "cell_type": "code",
      "metadata": {
        "colab": {
          "base_uri": "https://localhost:8080/"
        },
        "id": "5JDKko-8DUo6",
        "outputId": "37b7d30b-14b6-4937-e65f-addfff75c3d8"
      },
      "source": [
        "# contabilizando dados \"NaN\" do conjunto de dados\n",
        "df.isna().sum()"
      ],
      "execution_count": 72,
      "outputs": [
        {
          "output_type": "execute_result",
          "data": {
            "text/plain": [
              "Administrative             0\n",
              "Administrative_Duration    0\n",
              "Informational              0\n",
              "Informational_Duration     0\n",
              "ProductRelated             0\n",
              "ProductRelated_Duration    0\n",
              "BounceRates                0\n",
              "ExitRates                  0\n",
              "PageValues                 0\n",
              "SpecialDay                 0\n",
              "Month                      0\n",
              "OperatingSystems           0\n",
              "Browser                    0\n",
              "Region                     0\n",
              "TrafficType                0\n",
              "VisitorType                0\n",
              "Weekend                    0\n",
              "Revenue                    0\n",
              "dtype: int64"
            ]
          },
          "metadata": {
            "tags": []
          },
          "execution_count": 72
        }
      ]
    },
    {
      "cell_type": "code",
      "metadata": {
        "colab": {
          "base_uri": "https://localhost:8080/"
        },
        "id": "xlWT0Lw7DUo7",
        "outputId": "e98c22aa-015a-4535-c3ea-066565a3fb0c"
      },
      "source": [
        "# podemos também incluir no final a função \".any()\"\n",
        "# que retorna valor boleano (True ou False) se há algum valor diferente de zero\n",
        "df.isna().sum().any() # como não há valor diferente de zero, seu retorno é falso"
      ],
      "execution_count": 73,
      "outputs": [
        {
          "output_type": "execute_result",
          "data": {
            "text/plain": [
              "False"
            ]
          },
          "metadata": {
            "tags": []
          },
          "execution_count": 73
        }
      ]
    },
    {
      "cell_type": "code",
      "metadata": {
        "colab": {
          "base_uri": "https://localhost:8080/",
          "height": 607
        },
        "id": "oADV8HmNDUo7",
        "outputId": "de6bb7a6-37e5-49b7-f14c-8ca8974f9099"
      },
      "source": [
        "# verificação de dados faltantes em relação a totalidade de cada coluna\n",
        "total = df.isna().sum().sort_values(ascending = False)\n",
        "percentual = (df.isna().sum()/df.isna().count()*100).sort_values(ascending = False).round(2)\n",
        "faltantes = pd.concat([total, percentual], axis=1, keys=['Total', 'Dados faltando (%)'])\n",
        "faltantes"
      ],
      "execution_count": 74,
      "outputs": [
        {
          "output_type": "execute_result",
          "data": {
            "text/html": [
              "<div>\n",
              "<style scoped>\n",
              "    .dataframe tbody tr th:only-of-type {\n",
              "        vertical-align: middle;\n",
              "    }\n",
              "\n",
              "    .dataframe tbody tr th {\n",
              "        vertical-align: top;\n",
              "    }\n",
              "\n",
              "    .dataframe thead th {\n",
              "        text-align: right;\n",
              "    }\n",
              "</style>\n",
              "<table border=\"1\" class=\"dataframe\">\n",
              "  <thead>\n",
              "    <tr style=\"text-align: right;\">\n",
              "      <th></th>\n",
              "      <th>Total</th>\n",
              "      <th>Dados faltando (%)</th>\n",
              "    </tr>\n",
              "  </thead>\n",
              "  <tbody>\n",
              "    <tr>\n",
              "      <th>Revenue</th>\n",
              "      <td>0</td>\n",
              "      <td>0.0</td>\n",
              "    </tr>\n",
              "    <tr>\n",
              "      <th>Weekend</th>\n",
              "      <td>0</td>\n",
              "      <td>0.0</td>\n",
              "    </tr>\n",
              "    <tr>\n",
              "      <th>Administrative_Duration</th>\n",
              "      <td>0</td>\n",
              "      <td>0.0</td>\n",
              "    </tr>\n",
              "    <tr>\n",
              "      <th>Informational</th>\n",
              "      <td>0</td>\n",
              "      <td>0.0</td>\n",
              "    </tr>\n",
              "    <tr>\n",
              "      <th>Informational_Duration</th>\n",
              "      <td>0</td>\n",
              "      <td>0.0</td>\n",
              "    </tr>\n",
              "    <tr>\n",
              "      <th>ProductRelated</th>\n",
              "      <td>0</td>\n",
              "      <td>0.0</td>\n",
              "    </tr>\n",
              "    <tr>\n",
              "      <th>ProductRelated_Duration</th>\n",
              "      <td>0</td>\n",
              "      <td>0.0</td>\n",
              "    </tr>\n",
              "    <tr>\n",
              "      <th>BounceRates</th>\n",
              "      <td>0</td>\n",
              "      <td>0.0</td>\n",
              "    </tr>\n",
              "    <tr>\n",
              "      <th>ExitRates</th>\n",
              "      <td>0</td>\n",
              "      <td>0.0</td>\n",
              "    </tr>\n",
              "    <tr>\n",
              "      <th>PageValues</th>\n",
              "      <td>0</td>\n",
              "      <td>0.0</td>\n",
              "    </tr>\n",
              "    <tr>\n",
              "      <th>SpecialDay</th>\n",
              "      <td>0</td>\n",
              "      <td>0.0</td>\n",
              "    </tr>\n",
              "    <tr>\n",
              "      <th>Month</th>\n",
              "      <td>0</td>\n",
              "      <td>0.0</td>\n",
              "    </tr>\n",
              "    <tr>\n",
              "      <th>OperatingSystems</th>\n",
              "      <td>0</td>\n",
              "      <td>0.0</td>\n",
              "    </tr>\n",
              "    <tr>\n",
              "      <th>Browser</th>\n",
              "      <td>0</td>\n",
              "      <td>0.0</td>\n",
              "    </tr>\n",
              "    <tr>\n",
              "      <th>Region</th>\n",
              "      <td>0</td>\n",
              "      <td>0.0</td>\n",
              "    </tr>\n",
              "    <tr>\n",
              "      <th>TrafficType</th>\n",
              "      <td>0</td>\n",
              "      <td>0.0</td>\n",
              "    </tr>\n",
              "    <tr>\n",
              "      <th>VisitorType</th>\n",
              "      <td>0</td>\n",
              "      <td>0.0</td>\n",
              "    </tr>\n",
              "    <tr>\n",
              "      <th>Administrative</th>\n",
              "      <td>0</td>\n",
              "      <td>0.0</td>\n",
              "    </tr>\n",
              "  </tbody>\n",
              "</table>\n",
              "</div>"
            ],
            "text/plain": [
              "                         Total  Dados faltando (%)\n",
              "Revenue                      0                 0.0\n",
              "Weekend                      0                 0.0\n",
              "Administrative_Duration      0                 0.0\n",
              "Informational                0                 0.0\n",
              "Informational_Duration       0                 0.0\n",
              "ProductRelated               0                 0.0\n",
              "ProductRelated_Duration      0                 0.0\n",
              "BounceRates                  0                 0.0\n",
              "ExitRates                    0                 0.0\n",
              "PageValues                   0                 0.0\n",
              "SpecialDay                   0                 0.0\n",
              "Month                        0                 0.0\n",
              "OperatingSystems             0                 0.0\n",
              "Browser                      0                 0.0\n",
              "Region                       0                 0.0\n",
              "TrafficType                  0                 0.0\n",
              "VisitorType                  0                 0.0\n",
              "Administrative               0                 0.0"
            ]
          },
          "metadata": {
            "tags": []
          },
          "execution_count": 74
        }
      ]
    },
    {
      "cell_type": "markdown",
      "metadata": {
        "id": "ucB7IXP7DUo7"
      },
      "source": [
        "A biblioteca`MissingNo` permite a visualização de forma gráfica de dados nulos/ausentes no dataset, funciona com datasets tradicionais e também se mostra muito útil para dados com séries temporais."
      ]
    },
    {
      "cell_type": "code",
      "metadata": {
        "colab": {
          "base_uri": "https://localhost:8080/"
        },
        "id": "57BhxP90DUo8",
        "outputId": "51129d21-f4f8-48d5-a560-45bc02ab41af"
      },
      "source": [
        "# instalando a biblioteca\n",
        "!pip install missingno"
      ],
      "execution_count": 75,
      "outputs": [
        {
          "output_type": "stream",
          "text": [
            "Requirement already satisfied: missingno in /usr/local/lib/python3.7/dist-packages (0.5.0)\n",
            "Requirement already satisfied: seaborn in /usr/local/lib/python3.7/dist-packages (from missingno) (0.11.1)\n",
            "Requirement already satisfied: scipy in /usr/local/lib/python3.7/dist-packages (from missingno) (1.4.1)\n",
            "Requirement already satisfied: matplotlib in /usr/local/lib/python3.7/dist-packages (from missingno) (3.2.2)\n",
            "Requirement already satisfied: numpy in /usr/local/lib/python3.7/dist-packages (from missingno) (1.19.5)\n",
            "Requirement already satisfied: kiwisolver>=1.0.1 in /usr/local/lib/python3.7/dist-packages (from matplotlib->missingno) (1.3.1)\n",
            "Requirement already satisfied: pyparsing!=2.0.4,!=2.1.2,!=2.1.6,>=2.0.1 in /usr/local/lib/python3.7/dist-packages (from matplotlib->missingno) (2.4.7)\n",
            "Requirement already satisfied: cycler>=0.10 in /usr/local/lib/python3.7/dist-packages (from matplotlib->missingno) (0.10.0)\n",
            "Requirement already satisfied: python-dateutil>=2.1 in /usr/local/lib/python3.7/dist-packages (from matplotlib->missingno) (2.8.1)\n",
            "Requirement already satisfied: six in /usr/local/lib/python3.7/dist-packages (from cycler>=0.10->matplotlib->missingno) (1.15.0)\n",
            "Requirement already satisfied: pandas>=0.23 in /usr/local/lib/python3.7/dist-packages (from seaborn->missingno) (1.1.5)\n",
            "Requirement already satisfied: pytz>=2017.2 in /usr/local/lib/python3.7/dist-packages (from pandas>=0.23->seaborn->missingno) (2018.9)\n"
          ],
          "name": "stdout"
        }
      ]
    },
    {
      "cell_type": "code",
      "metadata": {
        "id": "6vcVio0RDUo8"
      },
      "source": [
        "# importando a biblioteca \"missingno\" para visualizar de forma gráfica valores ausentes\n",
        "import missingno as msno"
      ],
      "execution_count": 76,
      "outputs": []
    },
    {
      "cell_type": "code",
      "metadata": {
        "id": "siTPLot7DUo8"
      },
      "source": [
        "# criando uma cópia do conjunto de dados para não sobrescrever o nosso conjunto de dados original\n",
        "# e para posteriormente realizar o tratamento dos dados ausentes das colunas de interesse\n",
        "df_copia = df.copy()"
      ],
      "execution_count": 117,
      "outputs": []
    },
    {
      "cell_type": "code",
      "metadata": {
        "colab": {
          "base_uri": "https://localhost:8080/",
          "height": 570
        },
        "id": "gw4CBggFDUo8",
        "outputId": "b9c0d8ec-bc6b-48dc-8055-c95d5d74cf90"
      },
      "source": [
        "# plotando gráfico de barras com a biblioteca \"missingno\" e juntamente com a função \".bar()\"\n",
        "# onde tem a função de contabilizar os valores nulos e exibí-los de forma gráfica\n",
        "msno.bar(df_copia, figsize=(15,6))\n",
        "plt.savefig('Distribuição de dados faltantes nas colunas.png');"
      ],
      "execution_count": 118,
      "outputs": [
        {
          "output_type": "display_data",
          "data": {
            "image/png": "[encoded data removed]",
            "text/plain": [
              "<Figure size 1080x432 with 3 Axes>"
            ]
          },
          "metadata": {
            "tags": [],
            "needs_background": "light"
          }
        }
      ]
    },
    {
      "cell_type": "markdown",
      "metadata": {
        "id": "LKaOIlTPDUo9"
      },
      "source": [
        "> **Como podemos visualizar, não há valores faltantes nas colunas.**"
      ]
    },
    {
      "cell_type": "markdown",
      "metadata": {
        "id": "udR1Nw7nDUo9"
      },
      "source": [
        "```python\n",
        "# podemos remover dados faltantes através do comando abaixo\n",
        "df_copia.dropna(inplace = True)\n",
        "\n",
        "```"
      ]
    },
    {
      "cell_type": "code",
      "metadata": {
        "colab": {
          "base_uri": "https://localhost:8080/"
        },
        "id": "i5UP9wh7DUo9",
        "outputId": "c3b83d54-3deb-49ef-c196-f62106cb2361"
      },
      "source": [
        "# verificando a quantidade de instâncias únicas nas colunas\n",
        "df_copia.nunique()"
      ],
      "execution_count": 79,
      "outputs": [
        {
          "output_type": "execute_result",
          "data": {
            "text/plain": [
              "Administrative               27\n",
              "Administrative_Duration    3335\n",
              "Informational                17\n",
              "Informational_Duration     1258\n",
              "ProductRelated              311\n",
              "ProductRelated_Duration    9551\n",
              "BounceRates                1872\n",
              "ExitRates                  4777\n",
              "PageValues                 2704\n",
              "SpecialDay                    6\n",
              "Month                        10\n",
              "OperatingSystems              8\n",
              "Browser                      13\n",
              "Region                        9\n",
              "TrafficType                  20\n",
              "VisitorType                   3\n",
              "Weekend                       2\n",
              "Revenue                       2\n",
              "dtype: int64"
            ]
          },
          "metadata": {
            "tags": []
          },
          "execution_count": 79
        }
      ]
    },
    {
      "cell_type": "markdown",
      "metadata": {
        "id": "kkQTfkSQDUo9"
      },
      "source": [
        "> Perceba que, na coluna `Month` somente temos 10 instâncias e, sabemos que o correto seria 12, pois se refere a 12 meses.\n",
        "- vamos visualizar quais instâncias são essas!"
      ]
    },
    {
      "cell_type": "code",
      "metadata": {
        "colab": {
          "base_uri": "https://localhost:8080/"
        },
        "id": "j85W8ZMoDUo-",
        "outputId": "88adc864-6abb-4f19-87ea-25504b413837"
      },
      "source": [
        "# visualizando as instâncias únicas da coluna \"Month\"\n",
        "df_copia['Month'].unique()"
      ],
      "execution_count": 80,
      "outputs": [
        {
          "output_type": "execute_result",
          "data": {
            "text/plain": [
              "array(['Feb', 'Mar', 'May', 'Oct', 'June', 'Jul', 'Aug', 'Nov', 'Sep',\n",
              "       'Dec'], dtype=object)"
            ]
          },
          "metadata": {
            "tags": []
          },
          "execution_count": 80
        }
      ]
    },
    {
      "cell_type": "code",
      "metadata": {
        "colab": {
          "base_uri": "https://localhost:8080/"
        },
        "id": "9-2IspBtDUo-",
        "outputId": "d5f1b19f-86be-47e7-8173-4569f0832974"
      },
      "source": [
        "# tipo de dado nas colunas\n",
        "print(f'Coluna \\t\\t\\tTipo de dado \\n\\n{df_copia.dtypes}')"
      ],
      "execution_count": 81,
      "outputs": [
        {
          "output_type": "stream",
          "text": [
            "Coluna \t\t\tTipo de dado \n",
            "\n",
            "Administrative               int64\n",
            "Administrative_Duration    float64\n",
            "Informational                int64\n",
            "Informational_Duration     float64\n",
            "ProductRelated               int64\n",
            "ProductRelated_Duration    float64\n",
            "BounceRates                float64\n",
            "ExitRates                  float64\n",
            "PageValues                 float64\n",
            "SpecialDay                 float64\n",
            "Month                       object\n",
            "OperatingSystems             int64\n",
            "Browser                      int64\n",
            "Region                       int64\n",
            "TrafficType                  int64\n",
            "VisitorType                 object\n",
            "Weekend                       bool\n",
            "Revenue                       bool\n",
            "dtype: object\n"
          ],
          "name": "stdout"
        }
      ]
    },
    {
      "cell_type": "markdown",
      "metadata": {
        "id": "O_C-X9FFDUo-"
      },
      "source": [
        "**Vamos visualizar de forma gráfica algumas colunas e suas relações entre si.** "
      ]
    },
    {
      "cell_type": "code",
      "metadata": {
        "colab": {
          "base_uri": "https://localhost:8080/",
          "height": 429
        },
        "id": "FXXxyb8PDUo_",
        "outputId": "a87935d3-c973-4cc5-fa94-2d9b1b63af31"
      },
      "source": [
        "# usando a função \".countplot()\" da biblioteca seaborn para visualizar a distribuição por mês\n",
        "plt.figure(figsize=(15,6))\n",
        "plt.title('Distribuição dos dados por mês\\n', \n",
        "         {'fontsize': 18,'fontweight': 'bold'})\n",
        "sns.countplot(data=df_copia, y='Month')\n",
        "plt.savefig('Distribuição dos dados por mês.png')\n",
        "plt.show();"
      ],
      "execution_count": 101,
      "outputs": [
        {
          "output_type": "display_data",
          "data": {
            "image/png": "[encoded data removed]",
            "text/plain": [
              "<Figure size 1080x432 with 1 Axes>"
            ]
          },
          "metadata": {
            "tags": [],
            "needs_background": "light"
          }
        }
      ]
    },
    {
      "cell_type": "code",
      "metadata": {
        "colab": {
          "base_uri": "https://localhost:8080/"
        },
        "id": "64XPaYKwDUo_",
        "outputId": "058002c7-af76-4f85-a3cf-97d44c279bdf"
      },
      "source": [
        "# tabela de frequência pra variáveis \"Month\"\n",
        "tbl_freq_Month = pd.DataFrame(df_copia['Month'].value_counts())\n",
        "tbl_freq_Month.rename(columns = {'Month':'freq_absoluta_Month'}, inplace = True)\n",
        "tbl_freq_Month['freq_relativa_Month'] = round(tbl_freq_Month.freq_absoluta_Month / tbl_freq_Month.freq_absoluta_Month.sum(),3)\n",
        "print(tbl_freq_Month)"
      ],
      "execution_count": 83,
      "outputs": [
        {
          "output_type": "stream",
          "text": [
            "      freq_absoluta_Month  freq_relativa_Month\n",
            "May                  3364                0.273\n",
            "Nov                  2998                0.243\n",
            "Mar                  1907                0.155\n",
            "Dec                  1727                0.140\n",
            "Oct                   549                0.045\n",
            "Sep                   448                0.036\n",
            "Aug                   433                0.035\n",
            "Jul                   432                0.035\n",
            "June                  288                0.023\n",
            "Feb                   184                0.015\n"
          ],
          "name": "stdout"
        }
      ]
    },
    {
      "cell_type": "code",
      "metadata": {
        "colab": {
          "base_uri": "https://localhost:8080/",
          "height": 359
        },
        "id": "ryUncPBlDUo_",
        "outputId": "103cf96f-196c-49cb-e7da-0c7059e13e34"
      },
      "source": [
        "tbl_freq_Month"
      ],
      "execution_count": 84,
      "outputs": [
        {
          "output_type": "execute_result",
          "data": {
            "text/html": [
              "<div>\n",
              "<style scoped>\n",
              "    .dataframe tbody tr th:only-of-type {\n",
              "        vertical-align: middle;\n",
              "    }\n",
              "\n",
              "    .dataframe tbody tr th {\n",
              "        vertical-align: top;\n",
              "    }\n",
              "\n",
              "    .dataframe thead th {\n",
              "        text-align: right;\n",
              "    }\n",
              "</style>\n",
              "<table border=\"1\" class=\"dataframe\">\n",
              "  <thead>\n",
              "    <tr style=\"text-align: right;\">\n",
              "      <th></th>\n",
              "      <th>freq_absoluta_Month</th>\n",
              "      <th>freq_relativa_Month</th>\n",
              "    </tr>\n",
              "  </thead>\n",
              "  <tbody>\n",
              "    <tr>\n",
              "      <th>May</th>\n",
              "      <td>3364</td>\n",
              "      <td>0.273</td>\n",
              "    </tr>\n",
              "    <tr>\n",
              "      <th>Nov</th>\n",
              "      <td>2998</td>\n",
              "      <td>0.243</td>\n",
              "    </tr>\n",
              "    <tr>\n",
              "      <th>Mar</th>\n",
              "      <td>1907</td>\n",
              "      <td>0.155</td>\n",
              "    </tr>\n",
              "    <tr>\n",
              "      <th>Dec</th>\n",
              "      <td>1727</td>\n",
              "      <td>0.140</td>\n",
              "    </tr>\n",
              "    <tr>\n",
              "      <th>Oct</th>\n",
              "      <td>549</td>\n",
              "      <td>0.045</td>\n",
              "    </tr>\n",
              "    <tr>\n",
              "      <th>Sep</th>\n",
              "      <td>448</td>\n",
              "      <td>0.036</td>\n",
              "    </tr>\n",
              "    <tr>\n",
              "      <th>Aug</th>\n",
              "      <td>433</td>\n",
              "      <td>0.035</td>\n",
              "    </tr>\n",
              "    <tr>\n",
              "      <th>Jul</th>\n",
              "      <td>432</td>\n",
              "      <td>0.035</td>\n",
              "    </tr>\n",
              "    <tr>\n",
              "      <th>June</th>\n",
              "      <td>288</td>\n",
              "      <td>0.023</td>\n",
              "    </tr>\n",
              "    <tr>\n",
              "      <th>Feb</th>\n",
              "      <td>184</td>\n",
              "      <td>0.015</td>\n",
              "    </tr>\n",
              "  </tbody>\n",
              "</table>\n",
              "</div>"
            ],
            "text/plain": [
              "      freq_absoluta_Month  freq_relativa_Month\n",
              "May                  3364                0.273\n",
              "Nov                  2998                0.243\n",
              "Mar                  1907                0.155\n",
              "Dec                  1727                0.140\n",
              "Oct                   549                0.045\n",
              "Sep                   448                0.036\n",
              "Aug                   433                0.035\n",
              "Jul                   432                0.035\n",
              "June                  288                0.023\n",
              "Feb                   184                0.015"
            ]
          },
          "metadata": {
            "tags": []
          },
          "execution_count": 84
        }
      ]
    },
    {
      "cell_type": "code",
      "metadata": {
        "colab": {
          "base_uri": "https://localhost:8080/",
          "height": 429
        },
        "id": "QgYsMMZvDUpA",
        "outputId": "e1948e81-b0af-4c9e-c1e7-67de0f154454"
      },
      "source": [
        "# usando a função \".countplot()\" da biblioteca seaborn\n",
        "plt.figure(figsize=(15,6))\n",
        "plt.title('Distribuição do Tipo de visitante\\n', \n",
        "         {'fontsize': 18,'fontweight': 'bold'})\n",
        "sns.countplot(data=df_copia, y='VisitorType')\n",
        "plt.savefig('Distribuição do Tipo de visitante.png');"
      ],
      "execution_count": 103,
      "outputs": [
        {
          "output_type": "display_data",
          "data": {
            "image/png": "[encoded data removed]",
            "text/plain": [
              "<Figure size 1080x432 with 1 Axes>"
            ]
          },
          "metadata": {
            "tags": [],
            "needs_background": "light"
          }
        }
      ]
    },
    {
      "cell_type": "code",
      "metadata": {
        "colab": {
          "base_uri": "https://localhost:8080/"
        },
        "id": "x9NeX4tUDUpA",
        "outputId": "7edf86ea-3a0b-4ff5-a447-35de3a3b96c2"
      },
      "source": [
        "# tabela de frequência pra variáveis \"VisitorType\"\n",
        "tbl_freq_VisitorType = pd.DataFrame(df_copia['VisitorType'].value_counts())\n",
        "tbl_freq_VisitorType.rename(columns = {'VisitorType':'freq_absoluta_VisitorType'}, inplace = True)\n",
        "tbl_freq_VisitorType['freq_relativa_VisitorType'] = round(tbl_freq_VisitorType.freq_absoluta_VisitorType / tbl_freq_VisitorType.freq_absoluta_VisitorType.sum(),3)\n",
        "print(tbl_freq_VisitorType)"
      ],
      "execution_count": 86,
      "outputs": [
        {
          "output_type": "stream",
          "text": [
            "                   freq_absoluta_VisitorType  freq_relativa_VisitorType\n",
            "Returning_Visitor                      10551                      0.856\n",
            "New_Visitor                             1694                      0.137\n",
            "Other                                     85                      0.007\n"
          ],
          "name": "stdout"
        }
      ]
    },
    {
      "cell_type": "code",
      "metadata": {
        "colab": {
          "base_uri": "https://localhost:8080/",
          "height": 142
        },
        "id": "REKxtfl2DUpA",
        "outputId": "df43ae7f-9ec9-4535-8bcd-5a1fa9c60365"
      },
      "source": [
        "tbl_freq_VisitorType"
      ],
      "execution_count": 87,
      "outputs": [
        {
          "output_type": "execute_result",
          "data": {
            "text/html": [
              "<div>\n",
              "<style scoped>\n",
              "    .dataframe tbody tr th:only-of-type {\n",
              "        vertical-align: middle;\n",
              "    }\n",
              "\n",
              "    .dataframe tbody tr th {\n",
              "        vertical-align: top;\n",
              "    }\n",
              "\n",
              "    .dataframe thead th {\n",
              "        text-align: right;\n",
              "    }\n",
              "</style>\n",
              "<table border=\"1\" class=\"dataframe\">\n",
              "  <thead>\n",
              "    <tr style=\"text-align: right;\">\n",
              "      <th></th>\n",
              "      <th>freq_absoluta_VisitorType</th>\n",
              "      <th>freq_relativa_VisitorType</th>\n",
              "    </tr>\n",
              "  </thead>\n",
              "  <tbody>\n",
              "    <tr>\n",
              "      <th>Returning_Visitor</th>\n",
              "      <td>10551</td>\n",
              "      <td>0.856</td>\n",
              "    </tr>\n",
              "    <tr>\n",
              "      <th>New_Visitor</th>\n",
              "      <td>1694</td>\n",
              "      <td>0.137</td>\n",
              "    </tr>\n",
              "    <tr>\n",
              "      <th>Other</th>\n",
              "      <td>85</td>\n",
              "      <td>0.007</td>\n",
              "    </tr>\n",
              "  </tbody>\n",
              "</table>\n",
              "</div>"
            ],
            "text/plain": [
              "                   freq_absoluta_VisitorType  freq_relativa_VisitorType\n",
              "Returning_Visitor                      10551                      0.856\n",
              "New_Visitor                             1694                      0.137\n",
              "Other                                     85                      0.007"
            ]
          },
          "metadata": {
            "tags": []
          },
          "execution_count": 87
        }
      ]
    },
    {
      "cell_type": "code",
      "metadata": {
        "colab": {
          "base_uri": "https://localhost:8080/",
          "height": 429
        },
        "id": "IOBEPmeSDUpB",
        "outputId": "3bc879c2-05fd-4863-9448-f78d62e9e558"
      },
      "source": [
        "plt.figure(figsize=(15,6))\n",
        "plt.title('Distribuição do Tipo de visitante por mês\\n', \n",
        "         {'fontsize': 18,'fontweight': 'bold'})\n",
        "sns.countplot(y='Month', hue= 'VisitorType', data=df_copia)\n",
        "plt.savefig('Distribuição do Tipo de visitante por mês.png')\n",
        "plt.show();"
      ],
      "execution_count": 94,
      "outputs": [
        {
          "output_type": "display_data",
          "data": {
            "image/png": "[encoded data removed]",
            "text/plain": [
              "<Figure size 1080x432 with 1 Axes>"
            ]
          },
          "metadata": {
            "tags": [],
            "needs_background": "light"
          }
        }
      ]
    },
    {
      "cell_type": "code",
      "metadata": {
        "colab": {
          "base_uri": "https://localhost:8080/",
          "height": 429
        },
        "id": "gy_SxZNNDUpB",
        "outputId": "f9619346-8b69-4c41-f3b8-245a14353e33"
      },
      "source": [
        "plt.figure(figsize=(15,6))\n",
        "plt.title('Distribuição das instâncias da Receita por mês\\n', \n",
        "         {'fontsize': 18,'fontweight': 'bold'})\n",
        "sns.countplot(y='Month', hue= 'Revenue', data=df_copia)\n",
        "plt.savefig('Distribuição das instâncias da Receita por mês.png')\n",
        "plt.show();"
      ],
      "execution_count": 96,
      "outputs": [
        {
          "output_type": "display_data",
          "data": {
            "image/png": "[encoded data removed]",
            "text/plain": [
              "<Figure size 1080x432 with 1 Axes>"
            ]
          },
          "metadata": {
            "tags": [],
            "needs_background": "light"
          }
        }
      ]
    },
    {
      "cell_type": "code",
      "metadata": {
        "colab": {
          "base_uri": "https://localhost:8080/"
        },
        "id": "1yGaNi7ZDUpB",
        "outputId": "5e259490-d8ec-4f1e-b090-fc682fa3dbb3"
      },
      "source": [
        "df_copia['Revenue'].value_counts()"
      ],
      "execution_count": 97,
      "outputs": [
        {
          "output_type": "execute_result",
          "data": {
            "text/plain": [
              "False    10422\n",
              "True      1908\n",
              "Name: Revenue, dtype: int64"
            ]
          },
          "metadata": {
            "tags": []
          },
          "execution_count": 97
        }
      ]
    },
    {
      "cell_type": "code",
      "metadata": {
        "colab": {
          "base_uri": "https://localhost:8080/",
          "height": 111
        },
        "id": "JorTE2uCDUpB",
        "outputId": "413150db-c737-482b-a31d-e3d9cd19bd2b"
      },
      "source": [
        "# tabela de frequência pra variável \"Revenue\"\n",
        "tbl_freq_Revenue = pd.DataFrame(df_copia['Revenue'].value_counts())\n",
        "tbl_freq_Revenue.rename(columns = {'Revenue':'freq_absoluta_Revenue'}, inplace = True)\n",
        "tbl_freq_Revenue['freq_relativa_Revenue'] = round(tbl_freq_Revenue.freq_absoluta_Revenue / tbl_freq_Revenue.freq_absoluta_Revenue.sum(),3)\n",
        "tbl_freq_Revenue"
      ],
      "execution_count": 98,
      "outputs": [
        {
          "output_type": "execute_result",
          "data": {
            "text/html": [
              "<div>\n",
              "<style scoped>\n",
              "    .dataframe tbody tr th:only-of-type {\n",
              "        vertical-align: middle;\n",
              "    }\n",
              "\n",
              "    .dataframe tbody tr th {\n",
              "        vertical-align: top;\n",
              "    }\n",
              "\n",
              "    .dataframe thead th {\n",
              "        text-align: right;\n",
              "    }\n",
              "</style>\n",
              "<table border=\"1\" class=\"dataframe\">\n",
              "  <thead>\n",
              "    <tr style=\"text-align: right;\">\n",
              "      <th></th>\n",
              "      <th>freq_absoluta_Revenue</th>\n",
              "      <th>freq_relativa_Revenue</th>\n",
              "    </tr>\n",
              "  </thead>\n",
              "  <tbody>\n",
              "    <tr>\n",
              "      <th>False</th>\n",
              "      <td>10422</td>\n",
              "      <td>0.845</td>\n",
              "    </tr>\n",
              "    <tr>\n",
              "      <th>True</th>\n",
              "      <td>1908</td>\n",
              "      <td>0.155</td>\n",
              "    </tr>\n",
              "  </tbody>\n",
              "</table>\n",
              "</div>"
            ],
            "text/plain": [
              "       freq_absoluta_Revenue  freq_relativa_Revenue\n",
              "False                  10422                  0.845\n",
              "True                    1908                  0.155"
            ]
          },
          "metadata": {
            "tags": []
          },
          "execution_count": 98
        }
      ]
    },
    {
      "cell_type": "code",
      "metadata": {
        "colab": {
          "base_uri": "https://localhost:8080/",
          "height": 429
        },
        "id": "2uDgEN7yDUpC",
        "outputId": "a09a8ebc-0f30-493d-e767-7ec710a08bec"
      },
      "source": [
        "plt.figure(figsize=(15,6))\n",
        "plt.title('Distribuição da média da receita por mês por tipo de visitante\\n', \n",
        "         {'fontsize': 18,'fontweight': 'bold'})\n",
        "sns.barplot(x='Month', y='Revenue', ci ='sd', \n",
        "            hue='VisitorType', data=df_copia)\n",
        "plt.savefig('Distribuição da média da receita por mês por tipo de visitante.png')\n",
        "plt.show();"
      ],
      "execution_count": 100,
      "outputs": [
        {
          "output_type": "display_data",
          "data": {
            "image/png": "[encoded data removed]",
            "text/plain": [
              "<Figure size 1080x432 with 1 Axes>"
            ]
          },
          "metadata": {
            "tags": [],
            "needs_background": "light"
          }
        }
      ]
    },
    {
      "cell_type": "code",
      "metadata": {
        "colab": {
          "base_uri": "https://localhost:8080/",
          "height": 404
        },
        "id": "HkamwmeIDUpC",
        "outputId": "117466f5-f624-47d5-a860-c14159e28c86"
      },
      "source": [
        "plt.figure(figsize=(15,6))\n",
        "plt.title('Média de bilheteria por gênero em cada ano')\n",
        "sns.barplot(x='Month', y='Weekend', hue='VisitorType', ci='sd', \n",
        "            data=df_copia)\n",
        "plt.show();"
      ],
      "execution_count": 104,
      "outputs": [
        {
          "output_type": "display_data",
          "data": {
            "image/png": "[encoded data removed]",
            "text/plain": [
              "<Figure size 1080x432 with 1 Axes>"
            ]
          },
          "metadata": {
            "tags": [],
            "needs_background": "light"
          }
        }
      ]
    },
    {
      "cell_type": "markdown",
      "metadata": {
        "id": "K0gUy6jPDUpD"
      },
      "source": [
        "> Vamos analisar os parâmetros da função barplot(), chamada na linha 3. O parâmetro x recebe a categoria que cada\n",
        "barra irá representar, enquanto o parâmetro y recebe outra categoria, nesse caso a coluna `Weekend` o hue recebe o tipo de visitante. Será então calculada a média das instâncias por tipo de visitante por final de semana, e esse valor será mapeado no eixo y. Podemos também definir o parâmetro da cor, por exemplo: `color='b'`, a cor referenciada no exemplo ‘b’, ou seja, blue (azul).\n",
        "Por fim, um novo parâmetro chamado ci (confidence interval) foi utilizado, recebendo o valor 'sd' (standard deviation, o desvio padrão). Por padrão, o parâmetro ci é usado para estimar intervalos de confiança, um intervalo estatístico onde provavelmente se encontra um valor desconhecido. Neste caso, passando o valor ‘sd’, ao invés de intervalo de confiança, é calculado o já conhecido desvio padrão, que indica como os dados se dispersam ao redor da média. O desvio padrão é representado pela linha escura no centro das barras."
      ]
    },
    {
      "cell_type": "code",
      "metadata": {
        "colab": {
          "base_uri": "https://localhost:8080/",
          "height": 409
        },
        "id": "Uqqzv06GDUpD",
        "outputId": "a3d4bc06-ccd9-4dda-9aa4-3a0666e3e08b"
      },
      "source": [
        "plt.figure(figsize=(15,6))\n",
        "plt.title('Distribuição do Tipo de SO por mês', \n",
        "         {'fontsize': 18,'fontweight': 'bold'})\n",
        "sns.countplot(x='Month', hue='OperatingSystems', palette='pastel',\n",
        "              edgecolor='0', data=df_copia)\n",
        "plt.savefig('Distribuição do Tipo de SO por mês.png')"
      ],
      "execution_count": 105,
      "outputs": [
        {
          "output_type": "display_data",
          "data": {
            "image/png": "[encoded data removed]",
            "text/plain": [
              "<Figure size 1080x432 with 1 Axes>"
            ]
          },
          "metadata": {
            "tags": [],
            "needs_background": "light"
          }
        }
      ]
    },
    {
      "cell_type": "markdown",
      "metadata": {
        "id": "IXDyskHLDUpD"
      },
      "source": [
        "Para facilitar nossas visualizações, iremos dividir os dados em variáveis <font color='orange'>**contínuas**</font> e <font color='orange'>**categóricas**</font>.\n",
        "\n",
        "- iremos tratar todas as variáveis com menos de 30 entradas únicas como categóricas."
      ]
    },
    {
      "cell_type": "code",
      "metadata": {
        "id": "2FP8l5-SDUpE"
      },
      "source": [
        "# criando duas listas para armazenar as variáveis contínuas e categóricas\n",
        "continuous = []\n",
        "categorical = []\n",
        "\n",
        "# realizando um loop no \"df_copia\"\n",
        "for col in df_copia.columns[:-1]: # excluindo a última coluna - target\n",
        "    if df_copia.nunique()[col] >= 30:\n",
        "        continuous.append(col)\n",
        "    else:\n",
        "        categorical.append(col)"
      ],
      "execution_count": 119,
      "outputs": []
    },
    {
      "cell_type": "code",
      "metadata": {
        "colab": {
          "base_uri": "https://localhost:8080/"
        },
        "id": "BEFxAHU6DUpE",
        "outputId": "4de1eb61-fe00-41c7-9126-d7a91457122b"
      },
      "source": [
        "# visualizando as colunas contínuas\n",
        "# continuous\n",
        "print(df_copia[continuous].columns)"
      ],
      "execution_count": 121,
      "outputs": [
        {
          "output_type": "stream",
          "text": [
            "Index(['Administrative_Duration', 'Informational_Duration', 'ProductRelated',\n",
            "       'ProductRelated_Duration', 'BounceRates', 'ExitRates', 'PageValues'],\n",
            "      dtype='object')\n"
          ],
          "name": "stdout"
        }
      ]
    },
    {
      "cell_type": "code",
      "metadata": {
        "scrolled": true,
        "colab": {
          "base_uri": "https://localhost:8080/",
          "height": 204
        },
        "id": "dU3inOqLDUpF",
        "outputId": "3d23004f-f047-4caa-a4e2-30d87a9acd42"
      },
      "source": [
        "# visulizando as 5 primeiras linhas\n",
        "df_copia[continuous].head()"
      ],
      "execution_count": 122,
      "outputs": [
        {
          "output_type": "execute_result",
          "data": {
            "text/html": [
              "<div>\n",
              "<style scoped>\n",
              "    .dataframe tbody tr th:only-of-type {\n",
              "        vertical-align: middle;\n",
              "    }\n",
              "\n",
              "    .dataframe tbody tr th {\n",
              "        vertical-align: top;\n",
              "    }\n",
              "\n",
              "    .dataframe thead th {\n",
              "        text-align: right;\n",
              "    }\n",
              "</style>\n",
              "<table border=\"1\" class=\"dataframe\">\n",
              "  <thead>\n",
              "    <tr style=\"text-align: right;\">\n",
              "      <th></th>\n",
              "      <th>Administrative_Duration</th>\n",
              "      <th>Informational_Duration</th>\n",
              "      <th>ProductRelated</th>\n",
              "      <th>ProductRelated_Duration</th>\n",
              "      <th>BounceRates</th>\n",
              "      <th>ExitRates</th>\n",
              "      <th>PageValues</th>\n",
              "    </tr>\n",
              "  </thead>\n",
              "  <tbody>\n",
              "    <tr>\n",
              "      <th>0</th>\n",
              "      <td>0.693147</td>\n",
              "      <td>0.693147</td>\n",
              "      <td>1.098612</td>\n",
              "      <td>0.693147</td>\n",
              "      <td>0.788457</td>\n",
              "      <td>0.788457</td>\n",
              "      <td>0.693147</td>\n",
              "    </tr>\n",
              "    <tr>\n",
              "      <th>1</th>\n",
              "      <td>0.693147</td>\n",
              "      <td>0.693147</td>\n",
              "      <td>1.386294</td>\n",
              "      <td>4.189655</td>\n",
              "      <td>0.693147</td>\n",
              "      <td>0.741937</td>\n",
              "      <td>0.693147</td>\n",
              "    </tr>\n",
              "    <tr>\n",
              "      <th>2</th>\n",
              "      <td>0.693147</td>\n",
              "      <td>0.693147</td>\n",
              "      <td>1.098612</td>\n",
              "      <td>0.693147</td>\n",
              "      <td>0.788457</td>\n",
              "      <td>0.788457</td>\n",
              "      <td>0.693147</td>\n",
              "    </tr>\n",
              "    <tr>\n",
              "      <th>3</th>\n",
              "      <td>0.693147</td>\n",
              "      <td>0.693147</td>\n",
              "      <td>1.386294</td>\n",
              "      <td>1.540445</td>\n",
              "      <td>0.717840</td>\n",
              "      <td>0.760806</td>\n",
              "      <td>0.693147</td>\n",
              "    </tr>\n",
              "    <tr>\n",
              "      <th>4</th>\n",
              "      <td>0.693147</td>\n",
              "      <td>0.693147</td>\n",
              "      <td>2.484907</td>\n",
              "      <td>6.444926</td>\n",
              "      <td>0.703098</td>\n",
              "      <td>0.717840</td>\n",
              "      <td>0.693147</td>\n",
              "    </tr>\n",
              "  </tbody>\n",
              "</table>\n",
              "</div>"
            ],
            "text/plain": [
              "   Administrative_Duration  Informational_Duration  ...  ExitRates  PageValues\n",
              "0                 0.693147                0.693147  ...   0.788457    0.693147\n",
              "1                 0.693147                0.693147  ...   0.741937    0.693147\n",
              "2                 0.693147                0.693147  ...   0.788457    0.693147\n",
              "3                 0.693147                0.693147  ...   0.760806    0.693147\n",
              "4                 0.693147                0.693147  ...   0.717840    0.693147\n",
              "\n",
              "[5 rows x 7 columns]"
            ]
          },
          "metadata": {
            "tags": []
          },
          "execution_count": 122
        }
      ]
    },
    {
      "cell_type": "code",
      "metadata": {
        "colab": {
          "base_uri": "https://localhost:8080/"
        },
        "id": "eyowQVJnDUpF",
        "outputId": "6f3c577c-9f4a-4767-bf1f-2885fbbcb864"
      },
      "source": [
        "# visualizando as colunas categorical\n",
        "# categorical\n",
        "print(df_copia[categorical].columns)"
      ],
      "execution_count": 123,
      "outputs": [
        {
          "output_type": "stream",
          "text": [
            "Index(['Administrative', 'Informational', 'SpecialDay', 'Month',\n",
            "       'OperatingSystems', 'Browser', 'Region', 'TrafficType', 'VisitorType',\n",
            "       'Weekend'],\n",
            "      dtype='object')\n"
          ],
          "name": "stdout"
        }
      ]
    },
    {
      "cell_type": "code",
      "metadata": {
        "colab": {
          "base_uri": "https://localhost:8080/",
          "height": 204
        },
        "id": "p0pde0keDUpF",
        "outputId": "1d2a6101-0290-4dc6-f581-3c96324393f5"
      },
      "source": [
        "# visulizando as variáveis categóricas\n",
        "df_copia[categorical].head()"
      ],
      "execution_count": 124,
      "outputs": [
        {
          "output_type": "execute_result",
          "data": {
            "text/html": [
              "<div>\n",
              "<style scoped>\n",
              "    .dataframe tbody tr th:only-of-type {\n",
              "        vertical-align: middle;\n",
              "    }\n",
              "\n",
              "    .dataframe tbody tr th {\n",
              "        vertical-align: top;\n",
              "    }\n",
              "\n",
              "    .dataframe thead th {\n",
              "        text-align: right;\n",
              "    }\n",
              "</style>\n",
              "<table border=\"1\" class=\"dataframe\">\n",
              "  <thead>\n",
              "    <tr style=\"text-align: right;\">\n",
              "      <th></th>\n",
              "      <th>Administrative</th>\n",
              "      <th>Informational</th>\n",
              "      <th>SpecialDay</th>\n",
              "      <th>Month</th>\n",
              "      <th>OperatingSystems</th>\n",
              "      <th>Browser</th>\n",
              "      <th>Region</th>\n",
              "      <th>TrafficType</th>\n",
              "      <th>VisitorType</th>\n",
              "      <th>Weekend</th>\n",
              "    </tr>\n",
              "  </thead>\n",
              "  <tbody>\n",
              "    <tr>\n",
              "      <th>0</th>\n",
              "      <td>0</td>\n",
              "      <td>0</td>\n",
              "      <td>0.0</td>\n",
              "      <td>Feb</td>\n",
              "      <td>1</td>\n",
              "      <td>1</td>\n",
              "      <td>1</td>\n",
              "      <td>1</td>\n",
              "      <td>Returning_Visitor</td>\n",
              "      <td>False</td>\n",
              "    </tr>\n",
              "    <tr>\n",
              "      <th>1</th>\n",
              "      <td>0</td>\n",
              "      <td>0</td>\n",
              "      <td>0.0</td>\n",
              "      <td>Feb</td>\n",
              "      <td>2</td>\n",
              "      <td>2</td>\n",
              "      <td>1</td>\n",
              "      <td>2</td>\n",
              "      <td>Returning_Visitor</td>\n",
              "      <td>False</td>\n",
              "    </tr>\n",
              "    <tr>\n",
              "      <th>2</th>\n",
              "      <td>0</td>\n",
              "      <td>0</td>\n",
              "      <td>0.0</td>\n",
              "      <td>Feb</td>\n",
              "      <td>4</td>\n",
              "      <td>1</td>\n",
              "      <td>9</td>\n",
              "      <td>3</td>\n",
              "      <td>Returning_Visitor</td>\n",
              "      <td>False</td>\n",
              "    </tr>\n",
              "    <tr>\n",
              "      <th>3</th>\n",
              "      <td>0</td>\n",
              "      <td>0</td>\n",
              "      <td>0.0</td>\n",
              "      <td>Feb</td>\n",
              "      <td>3</td>\n",
              "      <td>2</td>\n",
              "      <td>2</td>\n",
              "      <td>4</td>\n",
              "      <td>Returning_Visitor</td>\n",
              "      <td>False</td>\n",
              "    </tr>\n",
              "    <tr>\n",
              "      <th>4</th>\n",
              "      <td>0</td>\n",
              "      <td>0</td>\n",
              "      <td>0.0</td>\n",
              "      <td>Feb</td>\n",
              "      <td>3</td>\n",
              "      <td>3</td>\n",
              "      <td>1</td>\n",
              "      <td>4</td>\n",
              "      <td>Returning_Visitor</td>\n",
              "      <td>True</td>\n",
              "    </tr>\n",
              "  </tbody>\n",
              "</table>\n",
              "</div>"
            ],
            "text/plain": [
              "   Administrative  Informational  ...        VisitorType Weekend\n",
              "0               0              0  ...  Returning_Visitor   False\n",
              "1               0              0  ...  Returning_Visitor   False\n",
              "2               0              0  ...  Returning_Visitor   False\n",
              "3               0              0  ...  Returning_Visitor   False\n",
              "4               0              0  ...  Returning_Visitor    True\n",
              "\n",
              "[5 rows x 10 columns]"
            ]
          },
          "metadata": {
            "tags": []
          },
          "execution_count": 124
        }
      ]
    },
    {
      "cell_type": "code",
      "metadata": {
        "colab": {
          "base_uri": "https://localhost:8080/",
          "height": 657
        },
        "id": "_pOHx1nEDUpG",
        "outputId": "9f279ba6-bcbe-4e16-96b7-26d800664d97"
      },
      "source": [
        "# plot do boxplot das variáveis contínuas para visualização dos outliers\n",
        "\n",
        "# tamanho da figura\n",
        "fig = plt.figure(figsize=(14,9))\n",
        "\n",
        "# realizando loop nas variáveis contínuas\n",
        "for i, col in enumerate(continuous):\n",
        "    plt.subplot(3, 3, i + 1)\n",
        "    df_copia.boxplot(col)\n",
        "    plt.tight_layout();\n",
        "    \n",
        "plt.savefig('boxplot.png') # salvando as imagens dos gráficos"
      ],
      "execution_count": 129,
      "outputs": [
        {
          "output_type": "display_data",
          "data": {
            "image/png": "[encoded data removed]",
            "text/plain": [
              "<Figure size 1008x648 with 7 Axes>"
            ]
          },
          "metadata": {
            "tags": [],
            "needs_background": "light"
          }
        }
      ]
    },
    {
      "cell_type": "markdown",
      "metadata": {
        "id": "nD2Hz3a6DUpG"
      },
      "source": [
        "> **Perceba que nas variáveis contínuas há valores extremos.**\n",
        "- vamos aplicar uma transformação de `log` para melhorar a visualização."
      ]
    },
    {
      "cell_type": "code",
      "metadata": {
        "id": "HbYMkr8rDUpG"
      },
      "source": [
        "# aplicando \"log\" nas variáveis contínuas\n",
        "df_copia[continuous] = np.log1p(1 + df_copia[continuous])"
      ],
      "execution_count": 130,
      "outputs": []
    },
    {
      "cell_type": "code",
      "metadata": {
        "colab": {
          "base_uri": "https://localhost:8080/",
          "height": 657
        },
        "id": "Iozc0eqxDUpG",
        "outputId": "c56d4fc6-72c8-415e-987b-54d592285377"
      },
      "source": [
        "# plotando novamente o boxplot das variáveis contínuas após o tratamento para visualização dos outliers\n",
        "\n",
        "# tamanho da figura\n",
        "fig = plt.figure(figsize=(14,9))\n",
        "\n",
        "# realizando loop nas variáveis contínuas\n",
        "for i, col in enumerate(continuous):\n",
        "    plt.subplot(3, 3, i + 1)\n",
        "    df_copia.boxplot(col)\n",
        "    plt.tight_layout();\n",
        "\n",
        "    \n",
        "plt.savefig('boxplot2.png') # salvando as imagens dos gráficos"
      ],
      "execution_count": 131,
      "outputs": [
        {
          "output_type": "display_data",
          "data": {
            "image/png": "[encoded data removed]",
            "text/plain": [
              "<Figure size 1008x648 with 7 Axes>"
            ]
          },
          "metadata": {
            "tags": [],
            "needs_background": "light"
          }
        }
      ]
    },
    {
      "cell_type": "markdown",
      "metadata": {
        "id": "Wkw5zBJhDUpH"
      },
      "source": [
        "**Plotando a \"Matriz de Correlação\" entre as variáveis contínuas.**"
      ]
    },
    {
      "cell_type": "code",
      "metadata": {
        "colab": {
          "base_uri": "https://localhost:8080/",
          "height": 796
        },
        "id": "Xd9baJFkDUpH",
        "outputId": "33c66aca-def4-4c3b-f648-ae22440b0314"
      },
      "source": [
        "# área da plotagem\n",
        "plt.figure(figsize=(10, 14))\n",
        "\n",
        "# matriz de correlação\n",
        "sns.heatmap(df_copia[continuous].corr(), \n",
        "            vmax = 1., square = True);"
      ],
      "execution_count": 132,
      "outputs": [
        {
          "output_type": "display_data",
          "data": {
            "image/png": "[encoded data removed]",
            "text/plain": [
              "<Figure size 720x1008 with 2 Axes>"
            ]
          },
          "metadata": {
            "tags": [],
            "needs_background": "light"
          }
        }
      ]
    },
    {
      "cell_type": "code",
      "metadata": {
        "colab": {
          "base_uri": "https://localhost:8080/"
        },
        "id": "gd63DEDRDUpH",
        "outputId": "ab79b25c-4562-46c7-baac-0d235b0cab69"
      },
      "source": [
        "continuous"
      ],
      "execution_count": 133,
      "outputs": [
        {
          "output_type": "execute_result",
          "data": {
            "text/plain": [
              "['Administrative_Duration',\n",
              " 'Informational_Duration',\n",
              " 'ProductRelated',\n",
              " 'ProductRelated_Duration',\n",
              " 'BounceRates',\n",
              " 'ExitRates',\n",
              " 'PageValues']"
            ]
          },
          "metadata": {
            "tags": []
          },
          "execution_count": 133
        }
      ]
    },
    {
      "cell_type": "code",
      "metadata": {
        "colab": {
          "base_uri": "https://localhost:8080/",
          "height": 796
        },
        "id": "yqDFfrzNDUpI",
        "outputId": "93868b4f-cc92-49ea-9ae1-94cebd03bac5"
      },
      "source": [
        "# área da plotagem\n",
        "plt.figure(figsize=(10, 14))\n",
        "\n",
        "# matriz de correlação\n",
        "plt.title('Correlação das vars contínuas\\n', \n",
        "                      {'fontsize': 18,'fontweight': 'bold'})\n",
        "\n",
        "sns.heatmap(df_copia[['Administrative_Duration', \n",
        "               'Informational_Duration', \n",
        "               'ProductRelated',\n",
        "               'ProductRelated_Duration',\n",
        "               'BounceRates', \n",
        "               'ExitRates', \n",
        "               'PageValues']].corr(), \n",
        "            vmax = 1., square = True, annot=True);"
      ],
      "execution_count": 134,
      "outputs": [
        {
          "output_type": "display_data",
          "data": {
            "image/png": "[encoded data removed]",
            "text/plain": [
              "<Figure size 720x1008 with 2 Axes>"
            ]
          },
          "metadata": {
            "tags": [],
            "needs_background": "light"
          }
        }
      ]
    },
    {
      "cell_type": "code",
      "metadata": {
        "colab": {
          "base_uri": "https://localhost:8080/"
        },
        "id": "F5MQmGjwMUUI",
        "outputId": "94b6f453-7bcd-433a-c551-f1b0e32f2ac5"
      },
      "source": [
        "# visualizando as correlações das features com a nossa target\n",
        "df_copia.corr()['Revenue']"
      ],
      "execution_count": 137,
      "outputs": [
        {
          "output_type": "execute_result",
          "data": {
            "text/plain": [
              "Administrative             0.138917\n",
              "Administrative_Duration    0.167693\n",
              "Informational              0.095200\n",
              "Informational_Duration     0.112808\n",
              "ProductRelated             0.200450\n",
              "ProductRelated_Duration    0.182879\n",
              "BounceRates               -0.152195\n",
              "ExitRates                 -0.209688\n",
              "PageValues                 0.635141\n",
              "SpecialDay                -0.082305\n",
              "OperatingSystems          -0.014668\n",
              "Browser                    0.023984\n",
              "Region                    -0.011595\n",
              "TrafficType               -0.005113\n",
              "Weekend                    0.029295\n",
              "Revenue                    1.000000\n",
              "Name: Revenue, dtype: float64"
            ]
          },
          "metadata": {
            "tags": []
          },
          "execution_count": 137
        }
      ]
    },
    {
      "cell_type": "markdown",
      "metadata": {
        "id": "JKug-s8IDUpI"
      },
      "source": [
        "**Visualização de gráficos de variáveis categóricas para analisar como a variável de destino é influenciada por elas.**"
      ]
    },
    {
      "cell_type": "code",
      "metadata": {
        "colab": {
          "base_uri": "https://localhost:8080/",
          "height": 375
        },
        "id": "k_uu4pjdDUpI",
        "outputId": "479f8101-5dc3-42a2-8cfc-b3b39be60b5e"
      },
      "source": [
        "# aplicando o \"countplot\" de Venda ou Não\n",
        "plt.figure(figsize=(25, 5))\n",
        "plt.subplot(1,2,2)\n",
        "plt.title('Venda ou Não\\n', \n",
        "         {'fontsize': 18,'fontweight': 'bold'})\n",
        "sns.countplot(df['Revenue']);"
      ],
      "execution_count": 160,
      "outputs": [
        {
          "output_type": "display_data",
          "data": {
            "image/png": "[encoded data removed]",
            "text/plain": [
              "<Figure size 1800x360 with 1 Axes>"
            ]
          },
          "metadata": {
            "tags": [],
            "needs_background": "light"
          }
        }
      ]
    },
    {
      "cell_type": "code",
      "metadata": {
        "colab": {
          "base_uri": "https://localhost:8080/",
          "height": 375
        },
        "id": "Zt2f4AhuDUpJ",
        "outputId": "2bb5fb75-4d5f-43a9-a638-e3bf38bcbe34"
      },
      "source": [
        "# aplicando o \"countplot\" de Tipo de Visitante\n",
        "plt.figure(figsize=(25, 5))\n",
        "plt.subplot(1,2,2)\n",
        "plt.title('Tipo de Visitante\\n', \n",
        "         {'fontsize': 18,'fontweight': 'bold'})\n",
        "sns.countplot(df['VisitorType']);"
      ],
      "execution_count": 159,
      "outputs": [
        {
          "output_type": "display_data",
          "data": {
            "image/png": "[encoded data removed]",
            "text/plain": [
              "<Figure size 1800x360 with 1 Axes>"
            ]
          },
          "metadata": {
            "tags": [],
            "needs_background": "light"
          }
        }
      ]
    },
    {
      "cell_type": "code",
      "metadata": {
        "colab": {
          "base_uri": "https://localhost:8080/",
          "height": 555
        },
        "id": "_OapOPB5DUpJ",
        "outputId": "2ec27b61-8306-4dbb-e3f2-9cc86df6adbb"
      },
      "source": [
        "# stacked bar Tipo de Visitantes vs Revenue\n",
        "pd.crosstab(df['VisitorType'], \n",
        "            df['Revenue']).plot(kind= 'bar', \n",
        "                               stacked = True, \n",
        "                               figsize = (25, 10), \n",
        "                               color = ['red', 'green']);"
      ],
      "execution_count": 157,
      "outputs": [
        {
          "output_type": "display_data",
          "data": {
            "image/png": "[encoded data removed]",
            "text/plain": [
              "<Figure size 1800x720 with 1 Axes>"
            ]
          },
          "metadata": {
            "tags": [],
            "needs_background": "light"
          }
        }
      ]
    },
    {
      "cell_type": "code",
      "metadata": {
        "colab": {
          "base_uri": "https://localhost:8080/",
          "height": 594
        },
        "id": "QXggBZ2rDUpJ",
        "outputId": "183d2c25-8096-4117-8e7d-605095ffd76f"
      },
      "source": [
        "# pie chart para Tipos de Visitantes\n",
        "plt.figure(figsize=(25, 10))\n",
        "labels = ['Visitante_Retornado', \n",
        "         'Novo_Visitante', \n",
        "         'Outro']\n",
        "plt.title('Tipos de Visitantes', \n",
        "         {'fontsize': 18,'fontweight': 'bold'})\n",
        "plt.pie(df['VisitorType'].value_counts(), \n",
        "       labels = labels, autopct = '%.2f%%')\n",
        "plt.legend();"
      ],
      "execution_count": 156,
      "outputs": [
        {
          "output_type": "display_data",
          "data": {
            "image/png": "[encoded data removed]",
            "text/plain": [
              "<Figure size 1800x720 with 1 Axes>"
            ]
          },
          "metadata": {
            "tags": []
          }
        }
      ]
    },
    {
      "cell_type": "code",
      "metadata": {
        "colab": {
          "base_uri": "https://localhost:8080/",
          "height": 625
        },
        "id": "ttc5axc0DUpK",
        "outputId": "e44f2c39-3113-493a-c1cc-5dd25f071078"
      },
      "source": [
        "# countplot Final de Semana ou Não\n",
        "plt.figure(figsize=(25, 10))\n",
        "plt.subplot(1,2,1)\n",
        "plt.title('Final de Semana ou Não', \n",
        "          {'fontsize': 18,'fontweight': 'bold'})\n",
        "sns.countplot(df['Weekend']);"
      ],
      "execution_count": 155,
      "outputs": [
        {
          "output_type": "display_data",
          "data": {
            "image/png": "[encoded data removed]",
            "text/plain": [
              "<Figure size 1800x720 with 1 Axes>"
            ]
          },
          "metadata": {
            "tags": [],
            "needs_background": "light"
          }
        }
      ]
    },
    {
      "cell_type": "code",
      "metadata": {
        "scrolled": true,
        "colab": {
          "base_uri": "https://localhost:8080/",
          "height": 508
        },
        "id": "1qhp7VXPDUpK",
        "outputId": "d9887035-15ed-4718-eb47-090b67a9ff7e"
      },
      "source": [
        "# stacked bar Final de Semana vs Revenue\n",
        "pd.crosstab(df['Weekend'], \n",
        "            df['Revenue']).plot(kind= 'bar', \n",
        "                               stacked = True, \n",
        "                               figsize = (25, 10), \n",
        "                               color = ['red', 'green']);"
      ],
      "execution_count": 154,
      "outputs": [
        {
          "output_type": "display_data",
          "data": {
            "image/png": "[encoded data removed]",
            "text/plain": [
              "<Figure size 1800x720 with 1 Axes>"
            ]
          },
          "metadata": {
            "tags": [],
            "needs_background": "light"
          }
        }
      ]
    },
    {
      "cell_type": "code",
      "metadata": {
        "colab": {
          "base_uri": "https://localhost:8080/",
          "height": 507
        },
        "id": "CyiZTSRnDUpL",
        "outputId": "ef1aac96-40ad-4199-c3cf-cd0342eb2b6c"
      },
      "source": [
        "# countplot Tipos de Sistemas Operacionais\n",
        "plt.figure(figsize=(25, 10))\n",
        "plt.title('Tipos de Sistemas Operacionais', \n",
        "          {'fontsize': 18,'fontweight': 'bold'})\n",
        "plt.xlabel('Sistema Operacional Usado')\n",
        "sns.countplot(df['OperatingSystems']);"
      ],
      "execution_count": 161,
      "outputs": [
        {
          "output_type": "display_data",
          "data": {
            "image/png": "[encoded data removed]",
            "text/plain": [
              "<Figure size 1800x720 with 1 Axes>"
            ]
          },
          "metadata": {
            "tags": [],
            "needs_background": "light"
          }
        }
      ]
    },
    {
      "cell_type": "code",
      "metadata": {
        "colab": {
          "base_uri": "https://localhost:8080/",
          "height": 548
        },
        "id": "ZcCUatqQDUpL",
        "outputId": "781f35f7-ccd1-4eee-b0b0-8e7e60c0cc1a"
      },
      "source": [
        "# stacked bar Tipos de Sistema Operacionais vs Revenue\n",
        "pd.crosstab(df['OperatingSystems'], \n",
        "            df['Revenue']).plot(kind= 'bar', \n",
        "                               stacked = True, \n",
        "                               figsize = (20, 9), \n",
        "                               color = ['red', 'green']);"
      ],
      "execution_count": 162,
      "outputs": [
        {
          "output_type": "display_data",
          "data": {
            "image/png": "[encoded data removed]",
            "text/plain": [
              "<Figure size 1440x648 with 1 Axes>"
            ]
          },
          "metadata": {
            "tags": [],
            "needs_background": "light"
          }
        }
      ]
    },
    {
      "cell_type": "code",
      "metadata": {
        "colab": {
          "base_uri": "https://localhost:8080/",
          "height": 508
        },
        "id": "JQkmqUrkDUpL",
        "outputId": "52207c95-74d1-4ef3-fe4f-fc00e64c8814"
      },
      "source": [
        "# count Tipo de Tráfego\n",
        "plt.figure(figsize=(25, 10))\n",
        "plt.title('Tipos de Tráfego', \n",
        "         {'fontsize': 18,'fontweight': 'bold'})\n",
        "plt.xlabel('Tipo de Tráfego')\n",
        "sns.countplot(df['TrafficType']);"
      ],
      "execution_count": 163,
      "outputs": [
        {
          "output_type": "display_data",
          "data": {
            "image/png": "[encoded data removed]",
            "text/plain": [
              "<Figure size 1800x720 with 1 Axes>"
            ]
          },
          "metadata": {
            "tags": [],
            "needs_background": "light"
          }
        }
      ]
    },
    {
      "cell_type": "code",
      "metadata": {
        "colab": {
          "base_uri": "https://localhost:8080/",
          "height": 554
        },
        "id": "hVE_GrP7DUpM",
        "outputId": "995f1b0e-0c69-40df-832a-aaac8508283f"
      },
      "source": [
        "# stacked bar Tipo de Tráfego vs Revenue\n",
        "pd.crosstab(df['TrafficType'], \n",
        "            df['Revenue']).plot(kind= 'bar', \n",
        "                               stacked = True, \n",
        "                               figsize = (20, 9), \n",
        "                               color = ['red', 'green']);"
      ],
      "execution_count": 164,
      "outputs": [
        {
          "output_type": "display_data",
          "data": {
            "image/png": "[encoded data removed]",
            "text/plain": [
              "<Figure size 1440x648 with 1 Axes>"
            ]
          },
          "metadata": {
            "tags": [],
            "needs_background": "light"
          }
        }
      ]
    },
    {
      "cell_type": "markdown",
      "metadata": {
        "id": "dvO2SSznDUpM"
      },
      "source": [
        "### <font color='green'>**Pré-processamento do Dados (DPP - Data pre-processing)**<font>"
      ]
    },
    {
      "cell_type": "code",
      "metadata": {
        "colab": {
          "base_uri": "https://localhost:8080/",
          "height": 224
        },
        "id": "GeixH8gMDUpM",
        "outputId": "1cb87c71-7ec3-40cf-afb5-a78da16c8943"
      },
      "source": [
        "# visualizando o conjunto de dados original\n",
        "df.head()"
      ],
      "execution_count": 166,
      "outputs": [
        {
          "output_type": "execute_result",
          "data": {
            "text/html": [
              "<div>\n",
              "<style scoped>\n",
              "    .dataframe tbody tr th:only-of-type {\n",
              "        vertical-align: middle;\n",
              "    }\n",
              "\n",
              "    .dataframe tbody tr th {\n",
              "        vertical-align: top;\n",
              "    }\n",
              "\n",
              "    .dataframe thead th {\n",
              "        text-align: right;\n",
              "    }\n",
              "</style>\n",
              "<table border=\"1\" class=\"dataframe\">\n",
              "  <thead>\n",
              "    <tr style=\"text-align: right;\">\n",
              "      <th></th>\n",
              "      <th>Administrative</th>\n",
              "      <th>Administrative_Duration</th>\n",
              "      <th>Informational</th>\n",
              "      <th>Informational_Duration</th>\n",
              "      <th>ProductRelated</th>\n",
              "      <th>ProductRelated_Duration</th>\n",
              "      <th>BounceRates</th>\n",
              "      <th>ExitRates</th>\n",
              "      <th>PageValues</th>\n",
              "      <th>SpecialDay</th>\n",
              "      <th>Month</th>\n",
              "      <th>OperatingSystems</th>\n",
              "      <th>Browser</th>\n",
              "      <th>Region</th>\n",
              "      <th>TrafficType</th>\n",
              "      <th>VisitorType</th>\n",
              "      <th>Weekend</th>\n",
              "      <th>Revenue</th>\n",
              "    </tr>\n",
              "  </thead>\n",
              "  <tbody>\n",
              "    <tr>\n",
              "      <th>0</th>\n",
              "      <td>0</td>\n",
              "      <td>0.693147</td>\n",
              "      <td>0</td>\n",
              "      <td>0.693147</td>\n",
              "      <td>1.098612</td>\n",
              "      <td>0.693147</td>\n",
              "      <td>0.788457</td>\n",
              "      <td>0.788457</td>\n",
              "      <td>0.693147</td>\n",
              "      <td>0.0</td>\n",
              "      <td>Feb</td>\n",
              "      <td>1</td>\n",
              "      <td>1</td>\n",
              "      <td>1</td>\n",
              "      <td>1</td>\n",
              "      <td>Returning_Visitor</td>\n",
              "      <td>False</td>\n",
              "      <td>False</td>\n",
              "    </tr>\n",
              "    <tr>\n",
              "      <th>1</th>\n",
              "      <td>0</td>\n",
              "      <td>0.693147</td>\n",
              "      <td>0</td>\n",
              "      <td>0.693147</td>\n",
              "      <td>1.386294</td>\n",
              "      <td>4.189655</td>\n",
              "      <td>0.693147</td>\n",
              "      <td>0.741937</td>\n",
              "      <td>0.693147</td>\n",
              "      <td>0.0</td>\n",
              "      <td>Feb</td>\n",
              "      <td>2</td>\n",
              "      <td>2</td>\n",
              "      <td>1</td>\n",
              "      <td>2</td>\n",
              "      <td>Returning_Visitor</td>\n",
              "      <td>False</td>\n",
              "      <td>False</td>\n",
              "    </tr>\n",
              "    <tr>\n",
              "      <th>2</th>\n",
              "      <td>0</td>\n",
              "      <td>0.693147</td>\n",
              "      <td>0</td>\n",
              "      <td>0.693147</td>\n",
              "      <td>1.098612</td>\n",
              "      <td>0.693147</td>\n",
              "      <td>0.788457</td>\n",
              "      <td>0.788457</td>\n",
              "      <td>0.693147</td>\n",
              "      <td>0.0</td>\n",
              "      <td>Feb</td>\n",
              "      <td>4</td>\n",
              "      <td>1</td>\n",
              "      <td>9</td>\n",
              "      <td>3</td>\n",
              "      <td>Returning_Visitor</td>\n",
              "      <td>False</td>\n",
              "      <td>False</td>\n",
              "    </tr>\n",
              "    <tr>\n",
              "      <th>3</th>\n",
              "      <td>0</td>\n",
              "      <td>0.693147</td>\n",
              "      <td>0</td>\n",
              "      <td>0.693147</td>\n",
              "      <td>1.386294</td>\n",
              "      <td>1.540445</td>\n",
              "      <td>0.717840</td>\n",
              "      <td>0.760806</td>\n",
              "      <td>0.693147</td>\n",
              "      <td>0.0</td>\n",
              "      <td>Feb</td>\n",
              "      <td>3</td>\n",
              "      <td>2</td>\n",
              "      <td>2</td>\n",
              "      <td>4</td>\n",
              "      <td>Returning_Visitor</td>\n",
              "      <td>False</td>\n",
              "      <td>False</td>\n",
              "    </tr>\n",
              "    <tr>\n",
              "      <th>4</th>\n",
              "      <td>0</td>\n",
              "      <td>0.693147</td>\n",
              "      <td>0</td>\n",
              "      <td>0.693147</td>\n",
              "      <td>2.484907</td>\n",
              "      <td>6.444926</td>\n",
              "      <td>0.703098</td>\n",
              "      <td>0.717840</td>\n",
              "      <td>0.693147</td>\n",
              "      <td>0.0</td>\n",
              "      <td>Feb</td>\n",
              "      <td>3</td>\n",
              "      <td>3</td>\n",
              "      <td>1</td>\n",
              "      <td>4</td>\n",
              "      <td>Returning_Visitor</td>\n",
              "      <td>True</td>\n",
              "      <td>False</td>\n",
              "    </tr>\n",
              "  </tbody>\n",
              "</table>\n",
              "</div>"
            ],
            "text/plain": [
              "   Administrative  Administrative_Duration  ...  Weekend  Revenue\n",
              "0               0                 0.693147  ...    False    False\n",
              "1               0                 0.693147  ...    False    False\n",
              "2               0                 0.693147  ...    False    False\n",
              "3               0                 0.693147  ...    False    False\n",
              "4               0                 0.693147  ...     True    False\n",
              "\n",
              "[5 rows x 18 columns]"
            ]
          },
          "metadata": {
            "tags": []
          },
          "execution_count": 166
        }
      ]
    },
    {
      "cell_type": "code",
      "metadata": {
        "id": "LaxvSfwGDUpM"
      },
      "source": [
        "# instaciando o modelo \"LabelEncoder\"\n",
        "le = LabelEncoder()"
      ],
      "execution_count": 167,
      "outputs": []
    },
    {
      "cell_type": "code",
      "metadata": {
        "id": "x-JfWS7sDUpN"
      },
      "source": [
        "# aplicando o modelo nas variáveis que são do tipo object (string)\n",
        "df['Month'] = le.fit_transform(df['Month'])\n",
        "df['VisitorType'] = le.fit_transform(df['VisitorType'])"
      ],
      "execution_count": 168,
      "outputs": []
    },
    {
      "cell_type": "code",
      "metadata": {
        "id": "ViQh35qHDUpN"
      },
      "source": [
        "# removendo os valores \"missing\" eventualmente gerados\n",
        "df.dropna(inplace=True)"
      ],
      "execution_count": 169,
      "outputs": []
    },
    {
      "cell_type": "code",
      "metadata": {
        "colab": {
          "base_uri": "https://localhost:8080/",
          "height": 379
        },
        "id": "OTqrLfZXDUpN",
        "outputId": "4505e452-23ed-41a4-ee9f-0ce4d464aef3"
      },
      "source": [
        "# visualizando as 10 primeiras linhas\n",
        "df.head(10)"
      ],
      "execution_count": 170,
      "outputs": [
        {
          "output_type": "execute_result",
          "data": {
            "text/html": [
              "<div>\n",
              "<style scoped>\n",
              "    .dataframe tbody tr th:only-of-type {\n",
              "        vertical-align: middle;\n",
              "    }\n",
              "\n",
              "    .dataframe tbody tr th {\n",
              "        vertical-align: top;\n",
              "    }\n",
              "\n",
              "    .dataframe thead th {\n",
              "        text-align: right;\n",
              "    }\n",
              "</style>\n",
              "<table border=\"1\" class=\"dataframe\">\n",
              "  <thead>\n",
              "    <tr style=\"text-align: right;\">\n",
              "      <th></th>\n",
              "      <th>Administrative</th>\n",
              "      <th>Administrative_Duration</th>\n",
              "      <th>Informational</th>\n",
              "      <th>Informational_Duration</th>\n",
              "      <th>ProductRelated</th>\n",
              "      <th>ProductRelated_Duration</th>\n",
              "      <th>BounceRates</th>\n",
              "      <th>ExitRates</th>\n",
              "      <th>PageValues</th>\n",
              "      <th>SpecialDay</th>\n",
              "      <th>Month</th>\n",
              "      <th>OperatingSystems</th>\n",
              "      <th>Browser</th>\n",
              "      <th>Region</th>\n",
              "      <th>TrafficType</th>\n",
              "      <th>VisitorType</th>\n",
              "      <th>Weekend</th>\n",
              "      <th>Revenue</th>\n",
              "    </tr>\n",
              "  </thead>\n",
              "  <tbody>\n",
              "    <tr>\n",
              "      <th>0</th>\n",
              "      <td>0</td>\n",
              "      <td>0.693147</td>\n",
              "      <td>0</td>\n",
              "      <td>0.693147</td>\n",
              "      <td>1.098612</td>\n",
              "      <td>0.693147</td>\n",
              "      <td>0.788457</td>\n",
              "      <td>0.788457</td>\n",
              "      <td>0.693147</td>\n",
              "      <td>0.0</td>\n",
              "      <td>2</td>\n",
              "      <td>1</td>\n",
              "      <td>1</td>\n",
              "      <td>1</td>\n",
              "      <td>1</td>\n",
              "      <td>2</td>\n",
              "      <td>False</td>\n",
              "      <td>False</td>\n",
              "    </tr>\n",
              "    <tr>\n",
              "      <th>1</th>\n",
              "      <td>0</td>\n",
              "      <td>0.693147</td>\n",
              "      <td>0</td>\n",
              "      <td>0.693147</td>\n",
              "      <td>1.386294</td>\n",
              "      <td>4.189655</td>\n",
              "      <td>0.693147</td>\n",
              "      <td>0.741937</td>\n",
              "      <td>0.693147</td>\n",
              "      <td>0.0</td>\n",
              "      <td>2</td>\n",
              "      <td>2</td>\n",
              "      <td>2</td>\n",
              "      <td>1</td>\n",
              "      <td>2</td>\n",
              "      <td>2</td>\n",
              "      <td>False</td>\n",
              "      <td>False</td>\n",
              "    </tr>\n",
              "    <tr>\n",
              "      <th>2</th>\n",
              "      <td>0</td>\n",
              "      <td>0.693147</td>\n",
              "      <td>0</td>\n",
              "      <td>0.693147</td>\n",
              "      <td>1.098612</td>\n",
              "      <td>0.693147</td>\n",
              "      <td>0.788457</td>\n",
              "      <td>0.788457</td>\n",
              "      <td>0.693147</td>\n",
              "      <td>0.0</td>\n",
              "      <td>2</td>\n",
              "      <td>4</td>\n",
              "      <td>1</td>\n",
              "      <td>9</td>\n",
              "      <td>3</td>\n",
              "      <td>2</td>\n",
              "      <td>False</td>\n",
              "      <td>False</td>\n",
              "    </tr>\n",
              "    <tr>\n",
              "      <th>3</th>\n",
              "      <td>0</td>\n",
              "      <td>0.693147</td>\n",
              "      <td>0</td>\n",
              "      <td>0.693147</td>\n",
              "      <td>1.386294</td>\n",
              "      <td>1.540445</td>\n",
              "      <td>0.717840</td>\n",
              "      <td>0.760806</td>\n",
              "      <td>0.693147</td>\n",
              "      <td>0.0</td>\n",
              "      <td>2</td>\n",
              "      <td>3</td>\n",
              "      <td>2</td>\n",
              "      <td>2</td>\n",
              "      <td>4</td>\n",
              "      <td>2</td>\n",
              "      <td>False</td>\n",
              "      <td>False</td>\n",
              "    </tr>\n",
              "    <tr>\n",
              "      <th>4</th>\n",
              "      <td>0</td>\n",
              "      <td>0.693147</td>\n",
              "      <td>0</td>\n",
              "      <td>0.693147</td>\n",
              "      <td>2.484907</td>\n",
              "      <td>6.444926</td>\n",
              "      <td>0.703098</td>\n",
              "      <td>0.717840</td>\n",
              "      <td>0.693147</td>\n",
              "      <td>0.0</td>\n",
              "      <td>2</td>\n",
              "      <td>3</td>\n",
              "      <td>3</td>\n",
              "      <td>1</td>\n",
              "      <td>4</td>\n",
              "      <td>2</td>\n",
              "      <td>True</td>\n",
              "      <td>False</td>\n",
              "    </tr>\n",
              "    <tr>\n",
              "      <th>5</th>\n",
              "      <td>0</td>\n",
              "      <td>0.693147</td>\n",
              "      <td>0</td>\n",
              "      <td>0.693147</td>\n",
              "      <td>3.044522</td>\n",
              "      <td>5.051244</td>\n",
              "      <td>0.701011</td>\n",
              "      <td>0.705353</td>\n",
              "      <td>0.693147</td>\n",
              "      <td>0.0</td>\n",
              "      <td>2</td>\n",
              "      <td>2</td>\n",
              "      <td>2</td>\n",
              "      <td>1</td>\n",
              "      <td>3</td>\n",
              "      <td>2</td>\n",
              "      <td>False</td>\n",
              "      <td>False</td>\n",
              "    </tr>\n",
              "    <tr>\n",
              "      <th>6</th>\n",
              "      <td>0</td>\n",
              "      <td>0.693147</td>\n",
              "      <td>0</td>\n",
              "      <td>0.693147</td>\n",
              "      <td>1.098612</td>\n",
              "      <td>0.693147</td>\n",
              "      <td>0.788457</td>\n",
              "      <td>0.788457</td>\n",
              "      <td>0.693147</td>\n",
              "      <td>0.4</td>\n",
              "      <td>2</td>\n",
              "      <td>2</td>\n",
              "      <td>4</td>\n",
              "      <td>3</td>\n",
              "      <td>3</td>\n",
              "      <td>2</td>\n",
              "      <td>False</td>\n",
              "      <td>False</td>\n",
              "    </tr>\n",
              "    <tr>\n",
              "      <th>7</th>\n",
              "      <td>1</td>\n",
              "      <td>0.693147</td>\n",
              "      <td>0</td>\n",
              "      <td>0.693147</td>\n",
              "      <td>0.693147</td>\n",
              "      <td>0.693147</td>\n",
              "      <td>0.788457</td>\n",
              "      <td>0.788457</td>\n",
              "      <td>0.693147</td>\n",
              "      <td>0.0</td>\n",
              "      <td>2</td>\n",
              "      <td>1</td>\n",
              "      <td>2</td>\n",
              "      <td>1</td>\n",
              "      <td>5</td>\n",
              "      <td>2</td>\n",
              "      <td>True</td>\n",
              "      <td>False</td>\n",
              "    </tr>\n",
              "    <tr>\n",
              "      <th>8</th>\n",
              "      <td>0</td>\n",
              "      <td>0.693147</td>\n",
              "      <td>0</td>\n",
              "      <td>0.693147</td>\n",
              "      <td>1.386294</td>\n",
              "      <td>3.663562</td>\n",
              "      <td>0.693147</td>\n",
              "      <td>0.741937</td>\n",
              "      <td>0.693147</td>\n",
              "      <td>0.8</td>\n",
              "      <td>2</td>\n",
              "      <td>2</td>\n",
              "      <td>2</td>\n",
              "      <td>2</td>\n",
              "      <td>3</td>\n",
              "      <td>2</td>\n",
              "      <td>False</td>\n",
              "      <td>False</td>\n",
              "    </tr>\n",
              "    <tr>\n",
              "      <th>9</th>\n",
              "      <td>0</td>\n",
              "      <td>0.693147</td>\n",
              "      <td>0</td>\n",
              "      <td>0.693147</td>\n",
              "      <td>1.609438</td>\n",
              "      <td>6.606650</td>\n",
              "      <td>0.693147</td>\n",
              "      <td>0.704197</td>\n",
              "      <td>0.693147</td>\n",
              "      <td>0.4</td>\n",
              "      <td>2</td>\n",
              "      <td>2</td>\n",
              "      <td>4</td>\n",
              "      <td>1</td>\n",
              "      <td>2</td>\n",
              "      <td>2</td>\n",
              "      <td>False</td>\n",
              "      <td>False</td>\n",
              "    </tr>\n",
              "  </tbody>\n",
              "</table>\n",
              "</div>"
            ],
            "text/plain": [
              "   Administrative  Administrative_Duration  ...  Weekend  Revenue\n",
              "0               0                 0.693147  ...    False    False\n",
              "1               0                 0.693147  ...    False    False\n",
              "2               0                 0.693147  ...    False    False\n",
              "3               0                 0.693147  ...    False    False\n",
              "4               0                 0.693147  ...     True    False\n",
              "5               0                 0.693147  ...    False    False\n",
              "6               0                 0.693147  ...    False    False\n",
              "7               1                 0.693147  ...     True    False\n",
              "8               0                 0.693147  ...    False    False\n",
              "9               0                 0.693147  ...    False    False\n",
              "\n",
              "[10 rows x 18 columns]"
            ]
          },
          "metadata": {
            "tags": []
          },
          "execution_count": 170
        }
      ]
    },
    {
      "cell_type": "code",
      "metadata": {
        "colab": {
          "base_uri": "https://localhost:8080/",
          "height": 379
        },
        "id": "W-wftD2TDUpN",
        "outputId": "88941c0a-f9af-4944-c6f1-b9ae5b262c8b"
      },
      "source": [
        "# visualizando as 10 últimas linhas\n",
        "df.tail(10)"
      ],
      "execution_count": 171,
      "outputs": [
        {
          "output_type": "execute_result",
          "data": {
            "text/html": [
              "<div>\n",
              "<style scoped>\n",
              "    .dataframe tbody tr th:only-of-type {\n",
              "        vertical-align: middle;\n",
              "    }\n",
              "\n",
              "    .dataframe tbody tr th {\n",
              "        vertical-align: top;\n",
              "    }\n",
              "\n",
              "    .dataframe thead th {\n",
              "        text-align: right;\n",
              "    }\n",
              "</style>\n",
              "<table border=\"1\" class=\"dataframe\">\n",
              "  <thead>\n",
              "    <tr style=\"text-align: right;\">\n",
              "      <th></th>\n",
              "      <th>Administrative</th>\n",
              "      <th>Administrative_Duration</th>\n",
              "      <th>Informational</th>\n",
              "      <th>Informational_Duration</th>\n",
              "      <th>ProductRelated</th>\n",
              "      <th>ProductRelated_Duration</th>\n",
              "      <th>BounceRates</th>\n",
              "      <th>ExitRates</th>\n",
              "      <th>PageValues</th>\n",
              "      <th>SpecialDay</th>\n",
              "      <th>Month</th>\n",
              "      <th>OperatingSystems</th>\n",
              "      <th>Browser</th>\n",
              "      <th>Region</th>\n",
              "      <th>TrafficType</th>\n",
              "      <th>VisitorType</th>\n",
              "      <th>Weekend</th>\n",
              "      <th>Revenue</th>\n",
              "    </tr>\n",
              "  </thead>\n",
              "  <tbody>\n",
              "    <tr>\n",
              "      <th>12320</th>\n",
              "      <td>0</td>\n",
              "      <td>0.693147</td>\n",
              "      <td>0</td>\n",
              "      <td>0.693147</td>\n",
              "      <td>2.302585</td>\n",
              "      <td>4.980749</td>\n",
              "      <td>0.700265</td>\n",
              "      <td>0.717840</td>\n",
              "      <td>0.693147</td>\n",
              "      <td>0.0</td>\n",
              "      <td>7</td>\n",
              "      <td>2</td>\n",
              "      <td>2</td>\n",
              "      <td>3</td>\n",
              "      <td>1</td>\n",
              "      <td>2</td>\n",
              "      <td>False</td>\n",
              "      <td>False</td>\n",
              "    </tr>\n",
              "    <tr>\n",
              "      <th>12321</th>\n",
              "      <td>0</td>\n",
              "      <td>0.693147</td>\n",
              "      <td>0</td>\n",
              "      <td>0.693147</td>\n",
              "      <td>2.079442</td>\n",
              "      <td>0.693147</td>\n",
              "      <td>0.788457</td>\n",
              "      <td>0.788457</td>\n",
              "      <td>0.693147</td>\n",
              "      <td>0.0</td>\n",
              "      <td>7</td>\n",
              "      <td>1</td>\n",
              "      <td>8</td>\n",
              "      <td>4</td>\n",
              "      <td>1</td>\n",
              "      <td>2</td>\n",
              "      <td>False</td>\n",
              "      <td>False</td>\n",
              "    </tr>\n",
              "    <tr>\n",
              "      <th>12322</th>\n",
              "      <td>6</td>\n",
              "      <td>4.359909</td>\n",
              "      <td>0</td>\n",
              "      <td>0.693147</td>\n",
              "      <td>3.178054</td>\n",
              "      <td>6.982167</td>\n",
              "      <td>0.693147</td>\n",
              "      <td>0.695228</td>\n",
              "      <td>0.693147</td>\n",
              "      <td>0.0</td>\n",
              "      <td>1</td>\n",
              "      <td>2</td>\n",
              "      <td>2</td>\n",
              "      <td>4</td>\n",
              "      <td>2</td>\n",
              "      <td>2</td>\n",
              "      <td>False</td>\n",
              "      <td>False</td>\n",
              "    </tr>\n",
              "    <tr>\n",
              "      <th>12323</th>\n",
              "      <td>2</td>\n",
              "      <td>4.200954</td>\n",
              "      <td>0</td>\n",
              "      <td>0.693147</td>\n",
              "      <td>3.828641</td>\n",
              "      <td>7.056155</td>\n",
              "      <td>0.693147</td>\n",
              "      <td>0.700100</td>\n",
              "      <td>0.693147</td>\n",
              "      <td>0.0</td>\n",
              "      <td>7</td>\n",
              "      <td>2</td>\n",
              "      <td>2</td>\n",
              "      <td>1</td>\n",
              "      <td>10</td>\n",
              "      <td>2</td>\n",
              "      <td>False</td>\n",
              "      <td>False</td>\n",
              "    </tr>\n",
              "    <tr>\n",
              "      <th>12324</th>\n",
              "      <td>0</td>\n",
              "      <td>0.693147</td>\n",
              "      <td>1</td>\n",
              "      <td>0.693147</td>\n",
              "      <td>2.890372</td>\n",
              "      <td>6.224558</td>\n",
              "      <td>0.693147</td>\n",
              "      <td>0.711796</td>\n",
              "      <td>0.693147</td>\n",
              "      <td>0.0</td>\n",
              "      <td>7</td>\n",
              "      <td>2</td>\n",
              "      <td>2</td>\n",
              "      <td>1</td>\n",
              "      <td>1</td>\n",
              "      <td>2</td>\n",
              "      <td>False</td>\n",
              "      <td>False</td>\n",
              "    </tr>\n",
              "    <tr>\n",
              "      <th>12325</th>\n",
              "      <td>3</td>\n",
              "      <td>4.990433</td>\n",
              "      <td>0</td>\n",
              "      <td>0.693147</td>\n",
              "      <td>4.007333</td>\n",
              "      <td>7.487617</td>\n",
              "      <td>0.696712</td>\n",
              "      <td>0.707558</td>\n",
              "      <td>2.656176</td>\n",
              "      <td>0.0</td>\n",
              "      <td>1</td>\n",
              "      <td>4</td>\n",
              "      <td>6</td>\n",
              "      <td>1</td>\n",
              "      <td>1</td>\n",
              "      <td>2</td>\n",
              "      <td>True</td>\n",
              "      <td>False</td>\n",
              "    </tr>\n",
              "    <tr>\n",
              "      <th>12326</th>\n",
              "      <td>0</td>\n",
              "      <td>0.693147</td>\n",
              "      <td>0</td>\n",
              "      <td>0.693147</td>\n",
              "      <td>1.945910</td>\n",
              "      <td>6.147934</td>\n",
              "      <td>0.693147</td>\n",
              "      <td>0.703757</td>\n",
              "      <td>0.693147</td>\n",
              "      <td>0.0</td>\n",
              "      <td>7</td>\n",
              "      <td>3</td>\n",
              "      <td>2</td>\n",
              "      <td>1</td>\n",
              "      <td>8</td>\n",
              "      <td>2</td>\n",
              "      <td>True</td>\n",
              "      <td>False</td>\n",
              "    </tr>\n",
              "    <tr>\n",
              "      <th>12327</th>\n",
              "      <td>0</td>\n",
              "      <td>0.693147</td>\n",
              "      <td>0</td>\n",
              "      <td>0.693147</td>\n",
              "      <td>2.079442</td>\n",
              "      <td>5.227090</td>\n",
              "      <td>0.733969</td>\n",
              "      <td>0.735568</td>\n",
              "      <td>0.693147</td>\n",
              "      <td>0.0</td>\n",
              "      <td>7</td>\n",
              "      <td>3</td>\n",
              "      <td>2</td>\n",
              "      <td>1</td>\n",
              "      <td>13</td>\n",
              "      <td>2</td>\n",
              "      <td>True</td>\n",
              "      <td>False</td>\n",
              "    </tr>\n",
              "    <tr>\n",
              "      <th>12328</th>\n",
              "      <td>4</td>\n",
              "      <td>4.343805</td>\n",
              "      <td>0</td>\n",
              "      <td>0.693147</td>\n",
              "      <td>2.833213</td>\n",
              "      <td>5.852202</td>\n",
              "      <td>0.693147</td>\n",
              "      <td>0.703618</td>\n",
              "      <td>0.693147</td>\n",
              "      <td>0.0</td>\n",
              "      <td>7</td>\n",
              "      <td>2</td>\n",
              "      <td>2</td>\n",
              "      <td>3</td>\n",
              "      <td>11</td>\n",
              "      <td>2</td>\n",
              "      <td>False</td>\n",
              "      <td>False</td>\n",
              "    </tr>\n",
              "    <tr>\n",
              "      <th>12329</th>\n",
              "      <td>0</td>\n",
              "      <td>0.693147</td>\n",
              "      <td>0</td>\n",
              "      <td>0.693147</td>\n",
              "      <td>1.609438</td>\n",
              "      <td>3.146305</td>\n",
              "      <td>0.693147</td>\n",
              "      <td>0.725937</td>\n",
              "      <td>0.693147</td>\n",
              "      <td>0.0</td>\n",
              "      <td>7</td>\n",
              "      <td>3</td>\n",
              "      <td>2</td>\n",
              "      <td>1</td>\n",
              "      <td>2</td>\n",
              "      <td>0</td>\n",
              "      <td>True</td>\n",
              "      <td>False</td>\n",
              "    </tr>\n",
              "  </tbody>\n",
              "</table>\n",
              "</div>"
            ],
            "text/plain": [
              "       Administrative  Administrative_Duration  ...  Weekend  Revenue\n",
              "12320               0                 0.693147  ...    False    False\n",
              "12321               0                 0.693147  ...    False    False\n",
              "12322               6                 4.359909  ...    False    False\n",
              "12323               2                 4.200954  ...    False    False\n",
              "12324               0                 0.693147  ...    False    False\n",
              "12325               3                 4.990433  ...     True    False\n",
              "12326               0                 0.693147  ...     True    False\n",
              "12327               0                 0.693147  ...     True    False\n",
              "12328               4                 4.343805  ...    False    False\n",
              "12329               0                 0.693147  ...     True    False\n",
              "\n",
              "[10 rows x 18 columns]"
            ]
          },
          "metadata": {
            "tags": []
          },
          "execution_count": 171
        }
      ]
    },
    {
      "cell_type": "code",
      "metadata": {
        "colab": {
          "base_uri": "https://localhost:8080/"
        },
        "id": "6JcpIg6tDUpO",
        "outputId": "fac879ad-207f-43c6-f89b-4ca0c344d893"
      },
      "source": [
        "# quantidades de linhas e colunas\n",
        "df.shape"
      ],
      "execution_count": 172,
      "outputs": [
        {
          "output_type": "execute_result",
          "data": {
            "text/plain": [
              "(12330, 18)"
            ]
          },
          "metadata": {
            "tags": []
          },
          "execution_count": 172
        }
      ]
    },
    {
      "cell_type": "code",
      "metadata": {
        "colab": {
          "base_uri": "https://localhost:8080/"
        },
        "id": "e2vEhXrrDUpO",
        "outputId": "a7e9e75d-e6b0-4004-fce8-8a78667dfbe7"
      },
      "source": [
        "# verificando se a variável alvo está balanceada\n",
        "target_count = df.Revenue.value_counts(); target_count"
      ],
      "execution_count": 173,
      "outputs": [
        {
          "output_type": "execute_result",
          "data": {
            "text/plain": [
              "False    10422\n",
              "True      1908\n",
              "Name: Revenue, dtype: int64"
            ]
          },
          "metadata": {
            "tags": []
          },
          "execution_count": 173
        }
      ]
    },
    {
      "cell_type": "code",
      "metadata": {
        "colab": {
          "base_uri": "https://localhost:8080/",
          "height": 320
        },
        "id": "JFG7J52RDUpO",
        "outputId": "06497289-2fa4-454b-fa7f-abc5966b4098"
      },
      "source": [
        "sns.countplot(df['Revenue'], palette = 'OrRd')\n",
        "plt.box(False)\n",
        "plt.xlabel('Receita (Revenue) Por Sessão Não (0) / Sim (1)', \n",
        "          fontsize = 11)\n",
        "plt.ylabel('Total de Sessões', fontsize =11)\n",
        "plt.title('Contagem de Classes\\n', \n",
        "         {'fontsize': 18,'fontweight': 'bold'})\n",
        "plt.show();"
      ],
      "execution_count": 174,
      "outputs": [
        {
          "output_type": "display_data",
          "data": {
            "image/png": "[encoded data removed]",
            "text/plain": [
              "<Figure size 432x288 with 1 Axes>"
            ]
          },
          "metadata": {
            "tags": [],
            "needs_background": "light"
          }
        }
      ]
    },
    {
      "cell_type": "code",
      "metadata": {
        "id": "VimRKdWsDUpP"
      },
      "source": [
        "# instalando e importando a biblioteca \"imblearn\"\n",
        "# para realizar o balanceamento da variável resposta\n",
        "!pip install -q imblearn\n",
        "\n",
        "import imblearn"
      ],
      "execution_count": 175,
      "outputs": []
    },
    {
      "cell_type": "code",
      "metadata": {
        "colab": {
          "base_uri": "https://localhost:8080/"
        },
        "id": "Akx7ZGWkDUpP",
        "outputId": "2a7ca345-ddd5-48da-acbc-9e831ca781d8"
      },
      "source": [
        "# versões das bibliotecas utilizadas neste notebook\n",
        "%reload_ext watermark\n",
        "%watermark -a 'Fernando Galvão - Machine Learning com SVM #LeadDELL' --iversions"
      ],
      "execution_count": 176,
      "outputs": [
        {
          "output_type": "stream",
          "text": [
            "Author: Fernando Galvão - Machine Learning com SVM #LeadDELL\n",
            "\n",
            "IPython   : 5.5.0\n",
            "numpy     : 1.19.5\n",
            "imblearn  : 0.0\n",
            "google    : 2.0.3\n",
            "matplotlib: 3.2.2\n",
            "sklearn   : 0.0\n",
            "seaborn   : 0.11.1\n",
            "missingno : 0.5.0\n",
            "pandas    : 1.1.5\n",
            "\n"
          ],
          "name": "stdout"
        }
      ]
    },
    {
      "cell_type": "code",
      "metadata": {
        "colab": {
          "base_uri": "https://localhost:8080/"
        },
        "id": "zpd9t5MUDUpP",
        "outputId": "c9360587-4e31-4540-8d20-a8083f350ab0"
      },
      "source": [
        "# quantidades de linhas e colunas\n",
        "df.shape"
      ],
      "execution_count": 177,
      "outputs": [
        {
          "output_type": "execute_result",
          "data": {
            "text/plain": [
              "(12330, 18)"
            ]
          },
          "metadata": {
            "tags": []
          },
          "execution_count": 177
        }
      ]
    },
    {
      "cell_type": "code",
      "metadata": {
        "colab": {
          "base_uri": "https://localhost:8080/",
          "height": 224
        },
        "id": "Isssnf3fDUpQ",
        "outputId": "d58853c5-50a8-498d-b450-da7f68a23208"
      },
      "source": [
        "# variáveis explicativas\n",
        "df.iloc[:, :17].head()"
      ],
      "execution_count": 178,
      "outputs": [
        {
          "output_type": "execute_result",
          "data": {
            "text/html": [
              "<div>\n",
              "<style scoped>\n",
              "    .dataframe tbody tr th:only-of-type {\n",
              "        vertical-align: middle;\n",
              "    }\n",
              "\n",
              "    .dataframe tbody tr th {\n",
              "        vertical-align: top;\n",
              "    }\n",
              "\n",
              "    .dataframe thead th {\n",
              "        text-align: right;\n",
              "    }\n",
              "</style>\n",
              "<table border=\"1\" class=\"dataframe\">\n",
              "  <thead>\n",
              "    <tr style=\"text-align: right;\">\n",
              "      <th></th>\n",
              "      <th>Administrative</th>\n",
              "      <th>Administrative_Duration</th>\n",
              "      <th>Informational</th>\n",
              "      <th>Informational_Duration</th>\n",
              "      <th>ProductRelated</th>\n",
              "      <th>ProductRelated_Duration</th>\n",
              "      <th>BounceRates</th>\n",
              "      <th>ExitRates</th>\n",
              "      <th>PageValues</th>\n",
              "      <th>SpecialDay</th>\n",
              "      <th>Month</th>\n",
              "      <th>OperatingSystems</th>\n",
              "      <th>Browser</th>\n",
              "      <th>Region</th>\n",
              "      <th>TrafficType</th>\n",
              "      <th>VisitorType</th>\n",
              "      <th>Weekend</th>\n",
              "    </tr>\n",
              "  </thead>\n",
              "  <tbody>\n",
              "    <tr>\n",
              "      <th>0</th>\n",
              "      <td>0</td>\n",
              "      <td>0.693147</td>\n",
              "      <td>0</td>\n",
              "      <td>0.693147</td>\n",
              "      <td>1.098612</td>\n",
              "      <td>0.693147</td>\n",
              "      <td>0.788457</td>\n",
              "      <td>0.788457</td>\n",
              "      <td>0.693147</td>\n",
              "      <td>0.0</td>\n",
              "      <td>2</td>\n",
              "      <td>1</td>\n",
              "      <td>1</td>\n",
              "      <td>1</td>\n",
              "      <td>1</td>\n",
              "      <td>2</td>\n",
              "      <td>False</td>\n",
              "    </tr>\n",
              "    <tr>\n",
              "      <th>1</th>\n",
              "      <td>0</td>\n",
              "      <td>0.693147</td>\n",
              "      <td>0</td>\n",
              "      <td>0.693147</td>\n",
              "      <td>1.386294</td>\n",
              "      <td>4.189655</td>\n",
              "      <td>0.693147</td>\n",
              "      <td>0.741937</td>\n",
              "      <td>0.693147</td>\n",
              "      <td>0.0</td>\n",
              "      <td>2</td>\n",
              "      <td>2</td>\n",
              "      <td>2</td>\n",
              "      <td>1</td>\n",
              "      <td>2</td>\n",
              "      <td>2</td>\n",
              "      <td>False</td>\n",
              "    </tr>\n",
              "    <tr>\n",
              "      <th>2</th>\n",
              "      <td>0</td>\n",
              "      <td>0.693147</td>\n",
              "      <td>0</td>\n",
              "      <td>0.693147</td>\n",
              "      <td>1.098612</td>\n",
              "      <td>0.693147</td>\n",
              "      <td>0.788457</td>\n",
              "      <td>0.788457</td>\n",
              "      <td>0.693147</td>\n",
              "      <td>0.0</td>\n",
              "      <td>2</td>\n",
              "      <td>4</td>\n",
              "      <td>1</td>\n",
              "      <td>9</td>\n",
              "      <td>3</td>\n",
              "      <td>2</td>\n",
              "      <td>False</td>\n",
              "    </tr>\n",
              "    <tr>\n",
              "      <th>3</th>\n",
              "      <td>0</td>\n",
              "      <td>0.693147</td>\n",
              "      <td>0</td>\n",
              "      <td>0.693147</td>\n",
              "      <td>1.386294</td>\n",
              "      <td>1.540445</td>\n",
              "      <td>0.717840</td>\n",
              "      <td>0.760806</td>\n",
              "      <td>0.693147</td>\n",
              "      <td>0.0</td>\n",
              "      <td>2</td>\n",
              "      <td>3</td>\n",
              "      <td>2</td>\n",
              "      <td>2</td>\n",
              "      <td>4</td>\n",
              "      <td>2</td>\n",
              "      <td>False</td>\n",
              "    </tr>\n",
              "    <tr>\n",
              "      <th>4</th>\n",
              "      <td>0</td>\n",
              "      <td>0.693147</td>\n",
              "      <td>0</td>\n",
              "      <td>0.693147</td>\n",
              "      <td>2.484907</td>\n",
              "      <td>6.444926</td>\n",
              "      <td>0.703098</td>\n",
              "      <td>0.717840</td>\n",
              "      <td>0.693147</td>\n",
              "      <td>0.0</td>\n",
              "      <td>2</td>\n",
              "      <td>3</td>\n",
              "      <td>3</td>\n",
              "      <td>1</td>\n",
              "      <td>4</td>\n",
              "      <td>2</td>\n",
              "      <td>True</td>\n",
              "    </tr>\n",
              "  </tbody>\n",
              "</table>\n",
              "</div>"
            ],
            "text/plain": [
              "   Administrative  Administrative_Duration  ...  VisitorType  Weekend\n",
              "0               0                 0.693147  ...            2    False\n",
              "1               0                 0.693147  ...            2    False\n",
              "2               0                 0.693147  ...            2    False\n",
              "3               0                 0.693147  ...            2    False\n",
              "4               0                 0.693147  ...            2     True\n",
              "\n",
              "[5 rows x 17 columns]"
            ]
          },
          "metadata": {
            "tags": []
          },
          "execution_count": 178
        }
      ]
    },
    {
      "cell_type": "code",
      "metadata": {
        "colab": {
          "base_uri": "https://localhost:8080/"
        },
        "id": "Ec9aUskYDUpQ",
        "outputId": "90470c5f-da70-4bcf-e5e8-d11496e66c5e"
      },
      "source": [
        "# variável alvo\n",
        "df.iloc[:, 17].head()"
      ],
      "execution_count": 179,
      "outputs": [
        {
          "output_type": "execute_result",
          "data": {
            "text/plain": [
              "0    False\n",
              "1    False\n",
              "2    False\n",
              "3    False\n",
              "4    False\n",
              "Name: Revenue, dtype: bool"
            ]
          },
          "metadata": {
            "tags": []
          },
          "execution_count": 179
        }
      ]
    },
    {
      "cell_type": "markdown",
      "metadata": {
        "id": "6FFgLKx5DUpQ"
      },
      "source": [
        "## <font color='blue'>**Balanceamento de Classe - Oversampling**</font>"
      ]
    },
    {
      "cell_type": "code",
      "metadata": {
        "id": "-7f2tMcWDUpQ"
      },
      "source": [
        "# importando a função\n",
        "from imblearn.over_sampling import SMOTE "
      ],
      "execution_count": 180,
      "outputs": []
    },
    {
      "cell_type": "code",
      "metadata": {
        "id": "9f2p-GOADUpR"
      },
      "source": [
        "# seed para reproduzir o mesmo resultado\n",
        "seed = 100"
      ],
      "execution_count": 181,
      "outputs": []
    },
    {
      "cell_type": "code",
      "metadata": {
        "id": "76VXYHYjDUpR"
      },
      "source": [
        "# separando X e y\n",
        "X = df.iloc[:, :17]\n",
        "y = df.iloc[:, 17]"
      ],
      "execution_count": 182,
      "outputs": []
    },
    {
      "cell_type": "code",
      "metadata": {
        "id": "BKqTABNvDUpR"
      },
      "source": [
        "# instanciando o balanceador SMOTE\n",
        "smote_bal = SMOTE(random_state = seed)\n",
        "# sm = SMOTE(random_state=100)"
      ],
      "execution_count": 183,
      "outputs": []
    },
    {
      "cell_type": "code",
      "metadata": {
        "id": "3nMu3Bo3DUpR"
      },
      "source": [
        "# aplicando o balanceamento\n",
        "X_res, y_res = smote_bal.fit_resample(X, y)\n",
        "# X_res, y_res = sm.fit_resample(X, y)"
      ],
      "execution_count": 184,
      "outputs": []
    },
    {
      "cell_type": "code",
      "metadata": {
        "colab": {
          "base_uri": "https://localhost:8080/",
          "height": 299
        },
        "id": "OKSvz-gGDUpS",
        "outputId": "8c1e8615-6cb2-4591-ffa8-67742ae580b4"
      },
      "source": [
        "# plotando gráfico\n",
        "sns.countplot(y_res, palette = 'OrRd')\n",
        "plt.box(False)\n",
        "plt.xlabel('Receita (Revenue) Por Sessão Não (0) / Sim (1)', \n",
        "         fontsize = 11)\n",
        "plt.ylabel('Total de Sessões', \n",
        "          fontsize = 11)\n",
        "plt.title('Contagem de Classes', \n",
        "         {'fontsize': 18,'fontweight': 'bold'})\n",
        "plt.show();"
      ],
      "execution_count": 185,
      "outputs": [
        {
          "output_type": "display_data",
          "data": {
            "image/png": "[encoded data removed]",
            "text/plain": [
              "<Figure size 432x288 with 1 Axes>"
            ]
          },
          "metadata": {
            "tags": [],
            "needs_background": "light"
          }
        }
      ]
    },
    {
      "cell_type": "code",
      "metadata": {
        "colab": {
          "base_uri": "https://localhost:8080/"
        },
        "id": "D3h6Nbu4DUpS",
        "outputId": "5ea14750-0b33-479c-fe7f-25b2910ec7fe"
      },
      "source": [
        "# quantidade de linhas e colunas\n",
        "df.shape"
      ],
      "execution_count": 186,
      "outputs": [
        {
          "output_type": "execute_result",
          "data": {
            "text/plain": [
              "(12330, 18)"
            ]
          },
          "metadata": {
            "tags": []
          },
          "execution_count": 186
        }
      ]
    },
    {
      "cell_type": "code",
      "metadata": {
        "colab": {
          "base_uri": "https://localhost:8080/"
        },
        "id": "w6ApdtxWDUpS",
        "outputId": "1147f8b2-968f-411e-9713-6b6a74c5642a"
      },
      "source": [
        "# quantidade de dados após o tratamento\n",
        "y_res.shape"
      ],
      "execution_count": 187,
      "outputs": [
        {
          "output_type": "execute_result",
          "data": {
            "text/plain": [
              "(20844,)"
            ]
          },
          "metadata": {
            "tags": []
          },
          "execution_count": 187
        }
      ]
    },
    {
      "cell_type": "code",
      "metadata": {
        "id": "Nb6mG5Z3DUpT"
      },
      "source": [
        "# ajustando o \"X\" e \"y\"\n",
        "X = X_res\n",
        "y = y_res"
      ],
      "execution_count": 188,
      "outputs": []
    },
    {
      "cell_type": "code",
      "metadata": {
        "id": "tXTXxB34DUpT"
      },
      "source": [
        "# divisão dos dados em treino e teste\n",
        "X_train, X_test, y_train, y_test = train_test_split(X, y, \n",
        "                                                   test_size = 0.3,\n",
        "                                                   random_state = 42)"
      ],
      "execution_count": 189,
      "outputs": []
    },
    {
      "cell_type": "code",
      "metadata": {
        "colab": {
          "base_uri": "https://localhost:8080/"
        },
        "id": "Fa6NZfq1DUpT",
        "outputId": "39d28eef-020e-4b5f-ebf4-0297795cbda7"
      },
      "source": [
        "# visualizando a quantidade de dados de treino e teste\n",
        "print('Quantidade de dados:')\n",
        "print(f'''X_train: {X_train.shape} \n",
        "X_test: {X_test.shape} \n",
        "y_train: {y_train.shape}\n",
        "y_test: {y_test.shape}''')"
      ],
      "execution_count": 190,
      "outputs": [
        {
          "output_type": "stream",
          "text": [
            "Quantidade de dados:\n",
            "X_train: (14590, 17) \n",
            "X_test: (6254, 17) \n",
            "y_train: (14590,)\n",
            "y_test: (6254,)\n"
          ],
          "name": "stdout"
        }
      ]
    },
    {
      "cell_type": "markdown",
      "metadata": {
        "id": "E3VHvyizDUpT"
      },
      "source": [
        "## <font color='green'>**Aplicando o SVM**<font>"
      ]
    },
    {
      "cell_type": "markdown",
      "metadata": {
        "id": "qmCBq9AdDUpU"
      },
      "source": [
        "### <font color='orange'>**Modelo com kernel \"Linear\"**</font>"
      ]
    },
    {
      "cell_type": "code",
      "metadata": {
        "id": "oRgPTxyvDUpU"
      },
      "source": [
        "# instanciando o modelo\n",
        "mod_1 = svm.SVC(kernel = 'linear')"
      ],
      "execution_count": 191,
      "outputs": []
    },
    {
      "cell_type": "code",
      "metadata": {
        "colab": {
          "base_uri": "https://localhost:8080/"
        },
        "id": "Q3hV5d4JDUpU",
        "outputId": "fecf35b7-e565-4fa8-c09a-a0ad8182af21"
      },
      "source": [
        "# treinando o modelo - duração em média de 133 segundos com TPU no google colab\n",
        "start = time.time()\n",
        "mod_1.fit(X_train, y_train)\n",
        "end = time.time()\n",
        "print('Tempo de treinamento do mod_1: ', end - start)"
      ],
      "execution_count": 192,
      "outputs": [
        {
          "output_type": "stream",
          "text": [
            "Tempo de treinamento do mod_1:  133.64319586753845\n"
          ],
          "name": "stdout"
        }
      ]
    },
    {
      "cell_type": "code",
      "metadata": {
        "id": "9P0Vj14CDUpU"
      },
      "source": [
        "# realizando as previsões\n",
        "pred_1 = mod_1.predict(X_test)"
      ],
      "execution_count": 193,
      "outputs": []
    },
    {
      "cell_type": "code",
      "metadata": {
        "id": "VbbruyOwDUpV"
      },
      "source": [
        "# dicionário de métricas e metadados\n",
        "SVM_dict_mod_1 = {\n",
        "    'Modelo': 'SVM',\n",
        "    'Versão': '1',\n",
        "    'Kernel': 'Linear',\n",
        "    'Precision': precision_score(pred_1, y_test),\n",
        "    'Recall': recall_score(pred_1, y_test),\n",
        "    'F1 Score': f1_score(pred_1, y_test),\n",
        "    'Acurácia': accuracy_score(pred_1, y_test),\n",
        "    'AUC': roc_auc_score(pred_1, y_test)\n",
        "}"
      ],
      "execution_count": 194,
      "outputs": []
    },
    {
      "cell_type": "code",
      "metadata": {
        "colab": {
          "base_uri": "https://localhost:8080/"
        },
        "id": "0XKYJzgiDUpV",
        "outputId": "a1d50705-4a8a-4c64-c075-998b2f7c2c95"
      },
      "source": [
        "print('Métricas de testes:\\n')\n",
        "SVM_dict_mod_1"
      ],
      "execution_count": 195,
      "outputs": [
        {
          "output_type": "stream",
          "text": [
            "Métricas de testes:\n",
            "\n"
          ],
          "name": "stdout"
        },
        {
          "output_type": "execute_result",
          "data": {
            "text/plain": [
              "{'AUC': 0.8457718457053894,\n",
              " 'Acurácia': 0.8415414134953629,\n",
              " 'F1 Score': 0.8324598478444634,\n",
              " 'Kernel': 'Linear',\n",
              " 'Modelo': 'SVM',\n",
              " 'Precision': 0.7863302459278186,\n",
              " 'Recall': 0.8843390804597702,\n",
              " 'Versão': '1'}"
            ]
          },
          "metadata": {
            "tags": []
          },
          "execution_count": 195
        }
      ]
    },
    {
      "cell_type": "markdown",
      "metadata": {
        "id": "z1UAX_I8DUpV"
      },
      "source": [
        "### <font color='orange'>**Modelo com kernel \"Linear\" e dados padronizados (Scaled)**</font>"
      ]
    },
    {
      "cell_type": "code",
      "metadata": {
        "id": "Egl7Pt6ZDUpV"
      },
      "source": [
        "# realizando a padronização dos dados\n",
        "\n",
        "# instanciando o modelo para escalar os dados\n",
        "sc = StandardScaler()\n",
        "\n",
        "# realizando a padronização dos dados\n",
        "X_train_scaled = sc.fit_transform(X_train)\n",
        "X_test_scaled = sc.transform(X_test)"
      ],
      "execution_count": 196,
      "outputs": []
    },
    {
      "cell_type": "markdown",
      "metadata": {
        "id": "pb2avBmiDUpg"
      },
      "source": [
        "> ### <font color='red'>**Obs:**</font> somente aplique a padronização depois de ter feito a divisão dos dados em treino e teste."
      ]
    },
    {
      "cell_type": "code",
      "metadata": {
        "colab": {
          "base_uri": "https://localhost:8080/"
        },
        "id": "rXmQsbmXDUpg",
        "outputId": "56ea3e78-03ee-48bf-c04b-740af323d79d"
      },
      "source": [
        "# visualizando a transformação dos dados de treino\n",
        "X_train_scaled"
      ],
      "execution_count": 197,
      "outputs": [
        {
          "output_type": "execute_result",
          "data": {
            "text/plain": [
              "array([[-0.50190137, -0.24080127,  0.30796624, ..., -0.50762296,\n",
              "         0.46594146, -0.5899877 ],\n",
              "       [-0.27789105,  0.53680908, -0.44903681, ..., -0.70081115,\n",
              "         0.46594146, -0.5899877 ],\n",
              "       [-0.66489761, -1.12431561,  0.63875217, ..., -0.7572875 ,\n",
              "         0.46594146,  0.50494788],\n",
              "       ...,\n",
              "       [-0.79139855, -1.12431561, -0.44903681, ..., -0.00829388,\n",
              "         0.46594146, -0.5899877 ],\n",
              "       [-0.79139855, -1.12431561, -0.44903681, ..., -0.50762296,\n",
              "        -2.30016935, -0.5899877 ],\n",
              "       [-0.62186371, -0.40435855, -0.44903681, ...,  3.98633878,\n",
              "         0.46594146, -0.5899877 ]])"
            ]
          },
          "metadata": {
            "tags": []
          },
          "execution_count": 197
        }
      ]
    },
    {
      "cell_type": "code",
      "metadata": {
        "colab": {
          "base_uri": "https://localhost:8080/"
        },
        "id": "wwPxbKJZDUpg",
        "outputId": "38e0d611-2743-404a-cf22-0e2076a224a6"
      },
      "source": [
        "# visualizando a transformação dos dados de teste\n",
        "X_test_scaled"
      ],
      "execution_count": 198,
      "outputs": [
        {
          "output_type": "execute_result",
          "data": {
            "text/plain": [
              "array([[ 0.07709299,  1.44582089, -0.44903681, ..., -0.50762296,\n",
              "         0.46594146, -0.5899877 ],\n",
              "       [ 0.94558452,  1.26233199,  0.86761642, ...,  0.74069975,\n",
              "         0.46594146, -0.26335853],\n",
              "       [-0.79139855, -1.12431561, -0.44903681, ...,  0.74714535,\n",
              "        -2.30016935, -0.5899877 ],\n",
              "       ...,\n",
              "       [ 2.75044832,  1.24930669,  0.30796624, ...,  1.66531591,\n",
              "         0.46594146, -0.5899877 ],\n",
              "       [-0.79139855, -1.12431561, -0.44903681, ..., -0.00829388,\n",
              "         0.46594146, -0.5899877 ],\n",
              "       [-0.79139855, -1.12431561, -0.44903681, ..., -0.31973328,\n",
              "        -2.30016935, -0.5899877 ]])"
            ]
          },
          "metadata": {
            "tags": []
          },
          "execution_count": 198
        }
      ]
    },
    {
      "cell_type": "code",
      "metadata": {
        "id": "E5XI1nA4DUph"
      },
      "source": [
        "# instanciando o modelo\n",
        "mod_2 = svm.SVC(kernel = 'linear')"
      ],
      "execution_count": 199,
      "outputs": []
    },
    {
      "cell_type": "code",
      "metadata": {
        "colab": {
          "base_uri": "https://localhost:8080/"
        },
        "id": "AzJfcp4_DUph",
        "outputId": "39a054d0-b534-4425-87eb-052fd57dbfa8"
      },
      "source": [
        "# treinando o modelo - duração em média de 120 minutos com TPU\n",
        "start = time.time()\n",
        "mod_2.fit(X_train_scaled, y_train)\n",
        "end = time.time()\n",
        "print('Tempo de treinamento do mod_2: ', end - start)"
      ],
      "execution_count": 200,
      "outputs": [
        {
          "output_type": "stream",
          "text": [
            "Tempo de treinamento do mod_2:  10.375710725784302\n"
          ],
          "name": "stdout"
        }
      ]
    },
    {
      "cell_type": "code",
      "metadata": {
        "id": "4SFdBRkCDUph"
      },
      "source": [
        "# realizando as previsões\n",
        "pred_2 = mod_2.predict(X_test_scaled)"
      ],
      "execution_count": 201,
      "outputs": []
    },
    {
      "cell_type": "code",
      "metadata": {
        "id": "Nv870ju8DUph"
      },
      "source": [
        "# dicionário de métricas e metadados\n",
        "SVM_dict_mod_2 = {\n",
        "    'Modelo': 'SVM',\n",
        "    'Versão': '2',\n",
        "    'Kernel': 'Linear',\n",
        "    'Precision': precision_score(pred_2, y_test),\n",
        "    'Recall': recall_score(pred_2, y_test),\n",
        "    'F1 Score': f1_score(pred_2, y_test),\n",
        "    'Acurácia': accuracy_score(pred_2, y_test),\n",
        "    'AUC': roc_auc_score(pred_2, y_test)\n",
        "}"
      ],
      "execution_count": 202,
      "outputs": []
    },
    {
      "cell_type": "code",
      "metadata": {
        "colab": {
          "base_uri": "https://localhost:8080/"
        },
        "id": "1bx0_J2iDUph",
        "outputId": "86824511-40b9-4d52-db57-591f764e8947"
      },
      "source": [
        "print('Métricas de testes:\\n')\n",
        "SVM_dict_mod_2"
      ],
      "execution_count": 203,
      "outputs": [
        {
          "output_type": "stream",
          "text": [
            "Métricas de testes:\n",
            "\n"
          ],
          "name": "stdout"
        },
        {
          "output_type": "execute_result",
          "data": {
            "text/plain": [
              "{'AUC': 0.8456347874121112,\n",
              " 'Acurácia': 0.8413815158298689,\n",
              " 'F1 Score': 0.832262428136625,\n",
              " 'Kernel': 'Linear',\n",
              " 'Modelo': 'SVM',\n",
              " 'Precision': 0.7860108591504311,\n",
              " 'Recall': 0.8842975206611571,\n",
              " 'Versão': '2'}"
            ]
          },
          "metadata": {
            "tags": []
          },
          "execution_count": 203
        }
      ]
    },
    {
      "cell_type": "markdown",
      "metadata": {
        "id": "_IfniFEWDUpi"
      },
      "source": [
        "###  <font color='orange'>**Otimização dos hiperparâmetros com Grid Search e kernel \"RBF\"**</font>"
      ]
    },
    {
      "cell_type": "code",
      "metadata": {
        "id": "h0_a6b_-DUpi"
      },
      "source": [
        "# instanciando o modelo\n",
        "mod_3 = svm.SVC(kernel = 'rbf')"
      ],
      "execution_count": 204,
      "outputs": []
    },
    {
      "cell_type": "code",
      "metadata": {
        "id": "R_FuZQmuDUpi"
      },
      "source": [
        "# definindo os valores para o grid\n",
        "C_range = np.array([50., 100., 200.])\n",
        "gamma_range = np.array([0.3*0.001, 0.001, 3.0*0.001])"
      ],
      "execution_count": 205,
      "outputs": []
    },
    {
      "cell_type": "code",
      "metadata": {
        "id": "O_hrEd54DUpi"
      },
      "source": [
        "# instanciando o grid dos hiperparâmetros\n",
        "svm_param_grid = dict(gamma = gamma_range, C = C_range)"
      ],
      "execution_count": 206,
      "outputs": []
    },
    {
      "cell_type": "code",
      "metadata": {
        "id": "vXBEzsCmDUpi"
      },
      "source": [
        "# instanciando o modelo\n",
        "start = time.time()\n",
        "mod_3_grid_search_rbf = GridSearchCV(mod_3, \n",
        "                                    svm_param_grid,\n",
        "                                    cv = 3)"
      ],
      "execution_count": 207,
      "outputs": []
    },
    {
      "cell_type": "code",
      "metadata": {
        "colab": {
          "base_uri": "https://localhost:8080/"
        },
        "id": "Wl0NvRcUDUpj",
        "outputId": "90946e68-c0ba-4a91-f957-a0291baade13"
      },
      "source": [
        "# treinando o modelo\n",
        "mod_3_grid_search_rbf.fit(X_train_scaled, y_train)\n",
        "end = time.time()\n",
        "print('Tempo de treinamento do modelo com Grid Search: ', end - start)"
      ],
      "execution_count": 208,
      "outputs": [
        {
          "output_type": "stream",
          "text": [
            "Tempo de treinamento do modelo com Grid Search:  89.88041424751282\n"
          ],
          "name": "stdout"
        }
      ]
    },
    {
      "cell_type": "code",
      "metadata": {
        "colab": {
          "base_uri": "https://localhost:8080/"
        },
        "id": "jmFNWMRrDUpj",
        "outputId": "ef530a42-6ad4-4fc5-e26e-169ef6e1a97c"
      },
      "source": [
        "# acurácia do modelo em treinamento\n",
        "print(f'Acurácia em treinamento: {mod_3_grid_search_rbf.best_score_ :.2%}\\n')\n",
        "print(f'Hiperparâmetros ideais: {mod_3_grid_search_rbf.best_params_}')"
      ],
      "execution_count": 209,
      "outputs": [
        {
          "output_type": "stream",
          "text": [
            "Acurácia em treinamento: 88.08%\n",
            "\n",
            "Hiperparâmetros ideais: {'C': 200.0, 'gamma': 0.003}\n"
          ],
          "name": "stdout"
        }
      ]
    },
    {
      "cell_type": "code",
      "metadata": {
        "id": "uWPswVPyDUpj"
      },
      "source": [
        "# avaliando as previsões\n",
        "pred_3 = mod_3_grid_search_rbf.predict(X_test_scaled)"
      ],
      "execution_count": 210,
      "outputs": []
    },
    {
      "cell_type": "code",
      "metadata": {
        "id": "RdyJGP9NDUpj"
      },
      "source": [
        "# dicionário de métricas e metadados\n",
        "SVM_dict_mod_3 = {\n",
        "    'Modelo': 'SVM',\n",
        "    'Versão': '3',\n",
        "    'Kernel': 'RBF com dados padronizados',\n",
        "    'Precision': precision_score(pred_3, y_test),\n",
        "    'Recall': recall_score(pred_3, y_test),\n",
        "    'F1 Score': f1_score(pred_3, y_test),\n",
        "    'Acurácia': accuracy_score(pred_3, y_test),\n",
        "    'AUC': roc_auc_score(pred_3, y_test)\n",
        "}"
      ],
      "execution_count": 211,
      "outputs": []
    },
    {
      "cell_type": "code",
      "metadata": {
        "colab": {
          "base_uri": "https://localhost:8080/"
        },
        "id": "8n5v3lDJDUpk",
        "outputId": "8155a582-86a2-46ce-9a44-77789dc8d489"
      },
      "source": [
        "print('Métricas de testes:\\n')\n",
        "SVM_dict_mod_3"
      ],
      "execution_count": 212,
      "outputs": [
        {
          "output_type": "stream",
          "text": [
            "Métricas de testes:\n",
            "\n"
          ],
          "name": "stdout"
        },
        {
          "output_type": "execute_result",
          "data": {
            "text/plain": [
              "{'AUC': 0.8749582234651423,\n",
              " 'Acurácia': 0.8744803325871442,\n",
              " 'F1 Score': 0.8723369653602212,\n",
              " 'Kernel': 'RBF com dados padronizados',\n",
              " 'Modelo': 'SVM',\n",
              " 'Precision': 0.8565953369530501,\n",
              " 'Recall': 0.8886679920477137,\n",
              " 'Versão': '3'}"
            ]
          },
          "metadata": {
            "tags": []
          },
          "execution_count": 212
        }
      ]
    },
    {
      "cell_type": "markdown",
      "metadata": {
        "id": "mgTRWR0JDUpk"
      },
      "source": [
        "### <font color='orange'>**Otimização dos hiperparâmetros com Grid Search e kernel \"Polinomial\"**</font>"
      ]
    },
    {
      "cell_type": "code",
      "metadata": {
        "id": "b4KhRXiGDUpk"
      },
      "source": [
        "# instanciando o modelo\n",
        "mod_4 = svm.SVC(kernel = 'poly')"
      ],
      "execution_count": 213,
      "outputs": []
    },
    {
      "cell_type": "code",
      "metadata": {
        "id": "v1pOOtCQDUpk"
      },
      "source": [
        "# definindo os valores para o grid\n",
        "r_range = np.array([0.5, 1])\n",
        "gamma_range = np.array([0.001, 0.01])\n",
        "d_range = np.array([2, 3, 4])"
      ],
      "execution_count": 214,
      "outputs": []
    },
    {
      "cell_type": "code",
      "metadata": {
        "id": "7ci2_RbfDUpk"
      },
      "source": [
        "# instanciando o grid dos hiperparâmetros\n",
        "svm_param_grid_poly = dict(gamma = gamma_range, \n",
        "                      degree = d_range,\n",
        "                     coef0 = r_range)"
      ],
      "execution_count": 215,
      "outputs": []
    },
    {
      "cell_type": "code",
      "metadata": {
        "id": "O-61WN5KDUpl"
      },
      "source": [
        "# instanciando o modelo\n",
        "start = time.time()\n",
        "mod_4_grid_search_poly = GridSearchCV(mod_4, \n",
        "                                    svm_param_grid_poly,\n",
        "                                    cv = 3)"
      ],
      "execution_count": 216,
      "outputs": []
    },
    {
      "cell_type": "code",
      "metadata": {
        "colab": {
          "base_uri": "https://localhost:8080/"
        },
        "id": "cPieSLDwDUpl",
        "outputId": "377e023a-eae3-4452-86f5-45b89d89161a"
      },
      "source": [
        "# treinando o modelo\n",
        "mod_4_grid_search_poly.fit(X_train_scaled, y_train)\n",
        "end = time.time()\n",
        "print('Tempo de treinamento do modelo com Grid Search: ', end - start)"
      ],
      "execution_count": 217,
      "outputs": [
        {
          "output_type": "stream",
          "text": [
            "Tempo de treinamento do modelo com Grid Search:  66.2412941455841\n"
          ],
          "name": "stdout"
        }
      ]
    },
    {
      "cell_type": "code",
      "metadata": {
        "colab": {
          "base_uri": "https://localhost:8080/"
        },
        "id": "-kMdYslkDUpl",
        "outputId": "94aa8891-9177-4d47-d904-43033c70a1cd"
      },
      "source": [
        "# acurácia do modelo em treinamento\n",
        "print(f'Acurácia em treinamento: {mod_4_grid_search_poly.best_score_ :.2%}\\n')\n",
        "print(f'Hiperparâmetros ideais: {mod_4_grid_search_poly.best_params_}')"
      ],
      "execution_count": 218,
      "outputs": [
        {
          "output_type": "stream",
          "text": [
            "Acurácia em treinamento: 86.31%\n",
            "\n",
            "Hiperparâmetros ideais: {'coef0': 1.0, 'degree': 4, 'gamma': 0.01}\n"
          ],
          "name": "stdout"
        }
      ]
    },
    {
      "cell_type": "code",
      "metadata": {
        "id": "03FKeGnrDUpl"
      },
      "source": [
        "# avaliando as previsões\n",
        "pred_4 = mod_4_grid_search_poly.predict(X_test_scaled)"
      ],
      "execution_count": 219,
      "outputs": []
    },
    {
      "cell_type": "code",
      "metadata": {
        "id": "5CK6n38IDUpm"
      },
      "source": [
        "# dicionário de métricas e metadados\n",
        "SVM_dict_mod_4 = {\n",
        "    'Modelo': 'SVM',\n",
        "    'Versão': '4',\n",
        "    'Kernel': 'Polinomial com dados padronizados',\n",
        "    'Precision': precision_score(pred_4, y_test),\n",
        "    'Recall': recall_score(pred_4, y_test),\n",
        "    'F1 Score': f1_score(pred_4, y_test),\n",
        "    'Acurácia': accuracy_score(pred_4, y_test),\n",
        "    'AUC': roc_auc_score(pred_4, y_test)\n",
        "}"
      ],
      "execution_count": 220,
      "outputs": []
    },
    {
      "cell_type": "code",
      "metadata": {
        "colab": {
          "base_uri": "https://localhost:8080/"
        },
        "id": "9wUy6iFiDUpm",
        "outputId": "a7d39942-4009-4511-90f6-ff60833ca31b"
      },
      "source": [
        "print('Métricas de testes:\\n')\n",
        "SVM_dict_mod_4"
      ],
      "execution_count": 221,
      "outputs": [
        {
          "output_type": "stream",
          "text": [
            "Métricas de testes:\n",
            "\n"
          ],
          "name": "stdout"
        },
        {
          "output_type": "execute_result",
          "data": {
            "text/plain": [
              "{'AUC': 0.862644324060394,\n",
              " 'Acurácia': 0.8612088263511353,\n",
              " 'F1 Score': 0.8568601583113455,\n",
              " 'Kernel': 'Polinomial com dados padronizados',\n",
              " 'Modelo': 'SVM',\n",
              " 'Precision': 0.8297668476525072,\n",
              " 'Recall': 0.885782475281282,\n",
              " 'Versão': '4'}"
            ]
          },
          "metadata": {
            "tags": []
          },
          "execution_count": 221
        }
      ]
    },
    {
      "cell_type": "code",
      "metadata": {
        "colab": {
          "base_uri": "https://localhost:8080/",
          "height": 297
        },
        "id": "tEE2XGTYDUpm",
        "outputId": "b15f49a4-e450-4bf1-fe67-ce1006302030"
      },
      "source": [
        "# realizando a concatenação de todos os dicionários em um dataframe do pandas\n",
        "resumo = pd.DataFrame({\n",
        "    'SVM_dict_mod_1': pd.Series(SVM_dict_mod_1), \n",
        "    'SVM_dict_mod_2': pd.Series(SVM_dict_mod_2), \n",
        "    'SVM_dict_mod_3': pd.Series(SVM_dict_mod_3), \n",
        "    'SVM_dict_mod_4': pd.Series(SVM_dict_mod_4)\n",
        "})\n",
        "\n",
        "# visualizando o dataframe criado com as métricas de avalição\n",
        "resumo"
      ],
      "execution_count": 222,
      "outputs": [
        {
          "output_type": "execute_result",
          "data": {
            "text/html": [
              "<div>\n",
              "<style scoped>\n",
              "    .dataframe tbody tr th:only-of-type {\n",
              "        vertical-align: middle;\n",
              "    }\n",
              "\n",
              "    .dataframe tbody tr th {\n",
              "        vertical-align: top;\n",
              "    }\n",
              "\n",
              "    .dataframe thead th {\n",
              "        text-align: right;\n",
              "    }\n",
              "</style>\n",
              "<table border=\"1\" class=\"dataframe\">\n",
              "  <thead>\n",
              "    <tr style=\"text-align: right;\">\n",
              "      <th></th>\n",
              "      <th>SVM_dict_mod_1</th>\n",
              "      <th>SVM_dict_mod_2</th>\n",
              "      <th>SVM_dict_mod_3</th>\n",
              "      <th>SVM_dict_mod_4</th>\n",
              "    </tr>\n",
              "  </thead>\n",
              "  <tbody>\n",
              "    <tr>\n",
              "      <th>Modelo</th>\n",
              "      <td>SVM</td>\n",
              "      <td>SVM</td>\n",
              "      <td>SVM</td>\n",
              "      <td>SVM</td>\n",
              "    </tr>\n",
              "    <tr>\n",
              "      <th>Versão</th>\n",
              "      <td>1</td>\n",
              "      <td>2</td>\n",
              "      <td>3</td>\n",
              "      <td>4</td>\n",
              "    </tr>\n",
              "    <tr>\n",
              "      <th>Kernel</th>\n",
              "      <td>Linear</td>\n",
              "      <td>Linear</td>\n",
              "      <td>RBF com dados padronizados</td>\n",
              "      <td>Polinomial com dados padronizados</td>\n",
              "    </tr>\n",
              "    <tr>\n",
              "      <th>Precision</th>\n",
              "      <td>0.78633</td>\n",
              "      <td>0.786011</td>\n",
              "      <td>0.856595</td>\n",
              "      <td>0.829767</td>\n",
              "    </tr>\n",
              "    <tr>\n",
              "      <th>Recall</th>\n",
              "      <td>0.884339</td>\n",
              "      <td>0.884298</td>\n",
              "      <td>0.888668</td>\n",
              "      <td>0.885782</td>\n",
              "    </tr>\n",
              "    <tr>\n",
              "      <th>F1 Score</th>\n",
              "      <td>0.83246</td>\n",
              "      <td>0.832262</td>\n",
              "      <td>0.872337</td>\n",
              "      <td>0.85686</td>\n",
              "    </tr>\n",
              "    <tr>\n",
              "      <th>Acurácia</th>\n",
              "      <td>0.841541</td>\n",
              "      <td>0.841382</td>\n",
              "      <td>0.87448</td>\n",
              "      <td>0.861209</td>\n",
              "    </tr>\n",
              "    <tr>\n",
              "      <th>AUC</th>\n",
              "      <td>0.845772</td>\n",
              "      <td>0.845635</td>\n",
              "      <td>0.874958</td>\n",
              "      <td>0.862644</td>\n",
              "    </tr>\n",
              "  </tbody>\n",
              "</table>\n",
              "</div>"
            ],
            "text/plain": [
              "          SVM_dict_mod_1  ...                     SVM_dict_mod_4\n",
              "Modelo               SVM  ...                                SVM\n",
              "Versão                 1  ...                                  4\n",
              "Kernel            Linear  ...  Polinomial com dados padronizados\n",
              "Precision        0.78633  ...                           0.829767\n",
              "Recall          0.884339  ...                           0.885782\n",
              "F1 Score         0.83246  ...                            0.85686\n",
              "Acurácia        0.841541  ...                           0.861209\n",
              "AUC             0.845772  ...                           0.862644\n",
              "\n",
              "[8 rows x 4 columns]"
            ]
          },
          "metadata": {
            "tags": []
          },
          "execution_count": 222
        }
      ]
    },
    {
      "cell_type": "markdown",
      "metadata": {
        "id": "-Uyd6oSFDUpn"
      },
      "source": [
        "### <font color='green'>**Fazendo previsões com o modelo treinado**<font>"
      ]
    },
    {
      "cell_type": "code",
      "metadata": {
        "id": "hRP4BRnEDUpn"
      },
      "source": [
        "# instanciando dados de um novo cliente - valores fictícios\n",
        "# \n",
        "novo_cliente = np.array([4.0, 5.56, 1.0, 3.78, 2.995, 6.00, \n",
        "                       0.60, 0.70, 0.69, 0, 6, 1, 1, 3, 3, 2, \n",
        "                        False]).reshape(1, -1)"
      ],
      "execution_count": 223,
      "outputs": []
    },
    {
      "cell_type": "code",
      "metadata": {
        "id": "scNz0QZrDUpn"
      },
      "source": [
        "# padronizando os dados do novo cliente\n",
        "novo_cliente_scaled = StandardScaler().fit_transform(novo_cliente)"
      ],
      "execution_count": 224,
      "outputs": []
    },
    {
      "cell_type": "code",
      "metadata": {
        "id": "CZmQr776DUpn"
      },
      "source": [
        "# realizando a previsão\n",
        "pred_novo_cliente = mod_3_grid_search_rbf.predict(novo_cliente_scaled)"
      ],
      "execution_count": 226,
      "outputs": []
    },
    {
      "cell_type": "code",
      "metadata": {
        "colab": {
          "base_uri": "https://localhost:8080/"
        },
        "id": "JBcZIO6fDUpn",
        "outputId": "320b0b18-2673-4d90-b9b7-211956973a16"
      },
      "source": [
        "# visualizando a previsão\n",
        "pred_novo_cliente"
      ],
      "execution_count": 227,
      "outputs": [
        {
          "output_type": "execute_result",
          "data": {
            "text/plain": [
              "array([ True])"
            ]
          },
          "metadata": {
            "tags": []
          },
          "execution_count": 227
        }
      ]
    },
    {
      "cell_type": "markdown",
      "metadata": {
        "id": "n-ZGdMmpDUpn"
      },
      "source": [
        "> <font color='orange'>**Esse cliente tem probabilidades de realizar compra no site**</font>"
      ]
    },
    {
      "cell_type": "code",
      "metadata": {
        "id": "mDsjdL6RDUpo"
      },
      "source": [
        ""
      ],
      "execution_count": null,
      "outputs": []
    },
    {
      "cell_type": "code",
      "metadata": {
        "id": "fH52CyMwDUpo"
      },
      "source": [
        ""
      ],
      "execution_count": null,
      "outputs": []
    },
    {
      "cell_type": "code",
      "metadata": {
        "id": "r4Y4D2p1DUpo"
      },
      "source": [
        ""
      ],
      "execution_count": null,
      "outputs": []
    },
    {
      "cell_type": "code",
      "metadata": {
        "id": "q_fJfr8uDUpo"
      },
      "source": [
        ""
      ],
      "execution_count": null,
      "outputs": []
    }
  ]
}